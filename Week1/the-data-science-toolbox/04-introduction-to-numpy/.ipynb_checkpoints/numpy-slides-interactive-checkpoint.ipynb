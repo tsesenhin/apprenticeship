{
 "cells": [
  {
   "cell_type": "markdown",
   "metadata": {
    "slideshow": {
     "slide_type": "skip"
    }
   },
   "source": [
    "# Setup for NumPy slides\n",
    "\n",
    "* Imports."
   ]
  },
  {
   "cell_type": "code",
   "execution_count": 4,
   "metadata": {
    "slideshow": {
     "slide_type": "skip"
    }
   },
   "outputs": [],
   "source": [
    "import numpy as np\n",
    "import matplotlib\n",
    "import matplotlib.pyplot as plt\n",
    "\n",
    "from IPython.display import HTML\n",
    "np.random.seed(1)"
   ]
  },
  {
   "cell_type": "markdown",
   "metadata": {
    "slideshow": {
     "slide_type": "slide"
    }
   },
   "source": [
    "# Introduction to NumPy\n"
   ]
  },
  {
   "cell_type": "markdown",
   "metadata": {
    "slideshow": {
     "slide_type": "slide"
    }
   },
   "source": [
    "## What is NumPy? (1/2)\n",
    "\n",
    "* A library to manipulate **arrays**\n",
    "* An array is an **indexable collection** of items of the **same type**\n",
    "    * Indexable means we can fetch specific parts of the array by their location  \n",
    "* Arrays are **mutable** by default -- we can modify values\n",
    "    * New values need to be compatible with the **type**\n",
    "    * Can make them **immutable** (use `.setflags(write=False)` on an array)\n"
   ]
  },
  {
   "cell_type": "markdown",
   "metadata": {
    "slideshow": {
     "slide_type": "slide"
    }
   },
   "source": [
    "## What is NumPy? (2/2)\n",
    "* NumPy makes manipulating arrays **fast** and **easy** \n",
    "* Apply mathematical operations over specific dimensions of **multi-dimensional arrays**\n",
    "* Support for many data [types](https://numpy.org/doc/stable/user/basics.types.html) \n",
    "* Many scientific packages are built on top of it (e.g. Pandas)"
   ]
  },
  {
   "cell_type": "markdown",
   "metadata": {
    "slideshow": {
     "slide_type": "slide"
    }
   },
   "source": [
    "## NumPy Arrays\n",
    "* NumPy arrays can have as many dimensions as you like, for example, an array could be:\n",
    "    * a **vector** with $n$ elements\n",
    "    * a **matrix** with $m$ rows and n columns $(m,n)$\n",
    "    * a **tensor** of size $(m,n,p)$\n",
    "* The most common way to create a NumPy array is from a standard Python list"
   ]
  },
  {
   "cell_type": "markdown",
   "metadata": {
    "slideshow": {
     "slide_type": "slide"
    }
   },
   "source": [
    "## Practical Introduction"
   ]
  },
  {
   "cell_type": "code",
   "execution_count": 2,
   "metadata": {
    "slideshow": {
     "slide_type": "-"
    }
   },
   "outputs": [
    {
     "data": {
      "text/plain": [
       "numpy.ndarray"
      ]
     },
     "execution_count": 2,
     "metadata": {},
     "output_type": "execute_result"
    }
   ],
   "source": [
    "import numpy as np\n",
    "\n",
    "a = np.array([1,2,3])\n",
    "type(a)"
   ]
  },
  {
   "cell_type": "code",
   "execution_count": 3,
   "metadata": {
    "slideshow": {
     "slide_type": "-"
    }
   },
   "outputs": [
    {
     "data": {
      "text/plain": [
       "(3,)"
      ]
     },
     "execution_count": 3,
     "metadata": {},
     "output_type": "execute_result"
    }
   ],
   "source": [
    "a.shape"
   ]
  },
  {
   "cell_type": "markdown",
   "metadata": {
    "slideshow": {
     "slide_type": "slide"
    }
   },
   "source": [
    "## Sizes, Shapes, and Dimensions"
   ]
  },
  {
   "cell_type": "code",
   "execution_count": 4,
   "metadata": {},
   "outputs": [
    {
     "data": {
      "text/plain": [
       "3"
      ]
     },
     "execution_count": 4,
     "metadata": {},
     "output_type": "execute_result"
    }
   ],
   "source": [
    "a.size"
   ]
  },
  {
   "cell_type": "code",
   "execution_count": 5,
   "metadata": {},
   "outputs": [
    {
     "data": {
      "text/plain": [
       "1"
      ]
     },
     "execution_count": 5,
     "metadata": {},
     "output_type": "execute_result"
    }
   ],
   "source": [
    "a.ndim # number of dimensions"
   ]
  },
  {
   "cell_type": "markdown",
   "metadata": {
    "slideshow": {
     "slide_type": "slide"
    }
   },
   "source": [
    "## 2-Dimensional Arrays\n",
    "\n",
    "We can make a two-dimensional array (a matrix) by inputting a list of lists:"
   ]
  },
  {
   "cell_type": "code",
   "execution_count": 6,
   "metadata": {},
   "outputs": [
    {
     "data": {
      "text/plain": [
       "array([[0, 1, 2],\n",
       "       [3, 4, 5]])"
      ]
     },
     "execution_count": 6,
     "metadata": {},
     "output_type": "execute_result"
    }
   ],
   "source": [
    "# best way to creata a matrix is a list in a list when pandas is not available\n",
    "b = np.array([[0,1,2],[3,4,5]])\n",
    "b"
   ]
  },
  {
   "cell_type": "code",
   "execution_count": 7,
   "metadata": {},
   "outputs": [
    {
     "data": {
      "text/plain": [
       "(2, 3)"
      ]
     },
     "execution_count": 7,
     "metadata": {},
     "output_type": "execute_result"
    }
   ],
   "source": [
    "b.shape"
   ]
  },
  {
   "cell_type": "code",
   "execution_count": 8,
   "metadata": {},
   "outputs": [
    {
     "data": {
      "text/plain": [
       "6"
      ]
     },
     "execution_count": 8,
     "metadata": {},
     "output_type": "execute_result"
    }
   ],
   "source": [
    "b.size"
   ]
  },
  {
   "cell_type": "code",
   "execution_count": 9,
   "metadata": {},
   "outputs": [
    {
     "data": {
      "text/plain": [
       "2"
      ]
     },
     "execution_count": 9,
     "metadata": {},
     "output_type": "execute_result"
    }
   ],
   "source": [
    "b.ndim"
   ]
  },
  {
   "attachments": {
    "2D%20Array.svg": {
     "image/svg+xml": [
      "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"
     ]
    }
   },
   "cell_type": "markdown",
   "metadata": {
    "slideshow": {
     "slide_type": "slide"
    }
   },
   "source": [
    "# 2-Dimensional Arrays\n",
    "![2D%20Array.svg](attachment:2D%20Array.svg)"
   ]
  },
  {
   "cell_type": "markdown",
   "metadata": {
    "slideshow": {
     "slide_type": "slide"
    }
   },
   "source": [
    "## N-Dimensional Arrays\n",
    "\n",
    "We can continue scaling this up to as many dimensions as we would like:"
   ]
  },
  {
   "cell_type": "code",
   "execution_count": 14,
   "metadata": {},
   "outputs": [
    {
     "data": {
      "text/plain": [
       "array([[[1, 2, 3],\n",
       "        [4, 5, 6]],\n",
       "\n",
       "       [[1, 2, 3],\n",
       "        [4, 5, 6]]])"
      ]
     },
     "execution_count": 14,
     "metadata": {},
     "output_type": "execute_result"
    }
   ],
   "source": [
    "c = np.array([ [[1,2,3],[4,5,6]], [[1,2,3],[4,5,6]]])\n",
    "c"
   ]
  },
  {
   "cell_type": "code",
   "execution_count": 15,
   "metadata": {
    "scrolled": true
   },
   "outputs": [
    {
     "data": {
      "text/plain": [
       "(2, 2, 3)"
      ]
     },
     "execution_count": 15,
     "metadata": {},
     "output_type": "execute_result"
    }
   ],
   "source": [
    "c.shape"
   ]
  },
  {
   "cell_type": "code",
   "execution_count": 16,
   "metadata": {},
   "outputs": [
    {
     "data": {
      "text/plain": [
       "12"
      ]
     },
     "execution_count": 16,
     "metadata": {},
     "output_type": "execute_result"
    }
   ],
   "source": [
    "c.size"
   ]
  },
  {
   "cell_type": "code",
   "execution_count": 17,
   "metadata": {},
   "outputs": [
    {
     "data": {
      "text/plain": [
       "3"
      ]
     },
     "execution_count": 17,
     "metadata": {},
     "output_type": "execute_result"
    }
   ],
   "source": [
    "c.ndim"
   ]
  },
  {
   "cell_type": "markdown",
   "metadata": {
    "slideshow": {
     "slide_type": "slide"
    }
   },
   "source": [
    "## Reshaping"
   ]
  },
  {
   "cell_type": "code",
   "execution_count": 18,
   "metadata": {},
   "outputs": [
    {
     "data": {
      "text/plain": [
       "array([[1, 2, 3],\n",
       "       [4, 5, 6]])"
      ]
     },
     "execution_count": 18,
     "metadata": {},
     "output_type": "execute_result"
    }
   ],
   "source": [
    "b = np.array([[1,2,3],[4,5,6]])\n",
    "b"
   ]
  },
  {
   "cell_type": "code",
   "execution_count": 19,
   "metadata": {},
   "outputs": [
    {
     "data": {
      "text/plain": [
       "(2, 3)"
      ]
     },
     "execution_count": 19,
     "metadata": {},
     "output_type": "execute_result"
    }
   ],
   "source": [
    "b.shape"
   ]
  },
  {
   "cell_type": "code",
   "execution_count": 20,
   "metadata": {},
   "outputs": [
    {
     "data": {
      "text/plain": [
       "array([1, 2, 3, 4, 5, 6])"
      ]
     },
     "execution_count": 20,
     "metadata": {},
     "output_type": "execute_result"
    }
   ],
   "source": [
    "b.reshape(6)"
   ]
  },
  {
   "cell_type": "code",
   "execution_count": 21,
   "metadata": {},
   "outputs": [
    {
     "data": {
      "text/plain": [
       "array([[1, 2],\n",
       "       [3, 4],\n",
       "       [5, 6]])"
      ]
     },
     "execution_count": 21,
     "metadata": {},
     "output_type": "execute_result"
    }
   ],
   "source": [
    "b.reshape(3,2)"
   ]
  },
  {
   "cell_type": "markdown",
   "metadata": {
    "slideshow": {
     "slide_type": "slide"
    }
   },
   "source": [
    "## Indexing Arrays\n",
    "\n",
    "To get the $n$th element of an array, we can index with `a[n]`. \n",
    "* Python/NumPy index from 0 \n",
    "* We can index over multiple dimensions"
   ]
  },
  {
   "cell_type": "code",
   "execution_count": 22,
   "metadata": {},
   "outputs": [
    {
     "data": {
      "text/plain": [
       "1"
      ]
     },
     "execution_count": 22,
     "metadata": {},
     "output_type": "execute_result"
    }
   ],
   "source": [
    "a = np.array([1,2,3])\n",
    "a[0]"
   ]
  },
  {
   "cell_type": "code",
   "execution_count": 23,
   "metadata": {},
   "outputs": [
    {
     "data": {
      "text/plain": [
       "1"
      ]
     },
     "execution_count": 23,
     "metadata": {},
     "output_type": "execute_result"
    }
   ],
   "source": [
    "b = np.array([[1,2,3],[4,5,6]])\n",
    "b[0,0]"
   ]
  },
  {
   "cell_type": "code",
   "execution_count": 24,
   "metadata": {},
   "outputs": [
    {
     "data": {
      "text/plain": [
       "3"
      ]
     },
     "execution_count": 24,
     "metadata": {},
     "output_type": "execute_result"
    }
   ],
   "source": [
    "b[0,2]"
   ]
  },
  {
   "cell_type": "markdown",
   "metadata": {
    "slideshow": {
     "slide_type": "slide"
    }
   },
   "source": [
    "## Indexing Arrays \n",
    "\n",
    "To index a whole dimension of the array, use `:`. For instance, array `b` has two dimensions, rows and columns. \n",
    "\n",
    "To get the whole of row 0, we can either index as `b[0,:]` or `b[0]`"
   ]
  },
  {
   "cell_type": "code",
   "execution_count": 25,
   "metadata": {},
   "outputs": [
    {
     "data": {
      "text/plain": [
       "array([1, 2, 3])"
      ]
     },
     "execution_count": 25,
     "metadata": {},
     "output_type": "execute_result"
    }
   ],
   "source": [
    "b[0,:]"
   ]
  },
  {
   "cell_type": "code",
   "execution_count": 26,
   "metadata": {},
   "outputs": [
    {
     "data": {
      "text/plain": [
       "array([1, 2, 3])"
      ]
     },
     "execution_count": 26,
     "metadata": {},
     "output_type": "execute_result"
    }
   ],
   "source": [
    "b[0]"
   ]
  },
  {
   "cell_type": "markdown",
   "metadata": {
    "slideshow": {
     "slide_type": "slide"
    }
   },
   "source": [
    "## Indexing Arrays\n",
    "\n",
    "The columns are the second dimension, so to get the whole of column 0 we do:"
   ]
  },
  {
   "cell_type": "code",
   "execution_count": 27,
   "metadata": {},
   "outputs": [
    {
     "data": {
      "text/plain": [
       "array([1, 4])"
      ]
     },
     "execution_count": 27,
     "metadata": {},
     "output_type": "execute_result"
    }
   ],
   "source": [
    "b[:,0]"
   ]
  },
  {
   "cell_type": "markdown",
   "metadata": {},
   "source": [
    "So the syntax `b[M,N]` indexes `b` by row `M` and column `N`."
   ]
  },
  {
   "cell_type": "markdown",
   "metadata": {
    "slideshow": {
     "slide_type": "slide"
    }
   },
   "source": [
    "<img src=\"img/jupyter.png\" width=\"200\">\n",
    "\n",
    "Now open the following workbook: `practical1.ipynb`"
   ]
  },
  {
   "cell_type": "markdown",
   "metadata": {
    "slideshow": {
     "slide_type": "slide"
    }
   },
   "source": [
    "## Indexing continued\n",
    "\n",
    "We can index with a **list** too. Say we want the first, second, and fourth elements of a:"
   ]
  },
  {
   "cell_type": "code",
   "execution_count": 28,
   "metadata": {},
   "outputs": [
    {
     "data": {
      "text/plain": [
       "array([0, 1, 3])"
      ]
     },
     "execution_count": 28,
     "metadata": {},
     "output_type": "execute_result"
    }
   ],
   "source": [
    "a = np.array([0,1,2,3,4,5])\n",
    "indices = [0,1,3]\n",
    "a[indices]"
   ]
  },
  {
   "cell_type": "markdown",
   "metadata": {
    "slideshow": {
     "slide_type": "slide"
    }
   },
   "source": [
    "## Boolean Indexing\n",
    "\n",
    "We can also do indexing by True/False statements:"
   ]
  },
  {
   "cell_type": "code",
   "execution_count": 29,
   "metadata": {},
   "outputs": [
    {
     "data": {
      "text/plain": [
       "array([False, False, False, False,  True,  True])"
      ]
     },
     "execution_count": 29,
     "metadata": {},
     "output_type": "execute_result"
    }
   ],
   "source": [
    "a = np.array([0,1,2,3,4,5])\n",
    "a > 3"
   ]
  },
  {
   "cell_type": "markdown",
   "metadata": {},
   "source": [
    "We can use this mask to index `a` itself:"
   ]
  },
  {
   "cell_type": "code",
   "execution_count": 30,
   "metadata": {},
   "outputs": [
    {
     "data": {
      "text/plain": [
       "array([4, 5])"
      ]
     },
     "execution_count": 30,
     "metadata": {},
     "output_type": "execute_result"
    }
   ],
   "source": [
    "a[a > 3] "
   ]
  },
  {
   "cell_type": "markdown",
   "metadata": {
    "slideshow": {
     "slide_type": "slide"
    }
   },
   "source": [
    "## Slicing\n",
    "\n",
    "We can slice up arrays into sub-arrays by providing a lower and upper (exclusive) index:"
   ]
  },
  {
   "cell_type": "code",
   "execution_count": 31,
   "metadata": {},
   "outputs": [
    {
     "data": {
      "text/plain": [
       "array([1, 2, 3])"
      ]
     },
     "execution_count": 31,
     "metadata": {},
     "output_type": "execute_result"
    }
   ],
   "source": [
    "a = np.array([0,1,2,3,4,5])\n",
    "\n",
    "a[1:4]"
   ]
  },
  {
   "cell_type": "markdown",
   "metadata": {},
   "source": [
    "Get the first and last 3 elements of the array:"
   ]
  },
  {
   "cell_type": "code",
   "execution_count": 32,
   "metadata": {},
   "outputs": [
    {
     "data": {
      "text/plain": [
       "array([0, 1, 2])"
      ]
     },
     "execution_count": 32,
     "metadata": {},
     "output_type": "execute_result"
    }
   ],
   "source": [
    "a[:3]"
   ]
  },
  {
   "cell_type": "code",
   "execution_count": 33,
   "metadata": {},
   "outputs": [
    {
     "data": {
      "text/plain": [
       "array([3, 4, 5])"
      ]
     },
     "execution_count": 33,
     "metadata": {},
     "output_type": "execute_result"
    }
   ],
   "source": [
    "a[3:]"
   ]
  },
  {
   "cell_type": "markdown",
   "metadata": {
    "slideshow": {
     "slide_type": "slide"
    }
   },
   "source": [
    "## Slicing \n",
    "You can also count back from the end of the array using a minus sign:\n"
   ]
  },
  {
   "cell_type": "code",
   "execution_count": 34,
   "metadata": {},
   "outputs": [
    {
     "data": {
      "text/plain": [
       "array([3, 4, 5])"
      ]
     },
     "execution_count": 34,
     "metadata": {},
     "output_type": "execute_result"
    }
   ],
   "source": [
    "a[-3:]"
   ]
  },
  {
   "cell_type": "markdown",
   "metadata": {},
   "source": [
    "So `-3` means count back 3 indices from the end of `a`, and `:` returns all elements after this position.\n",
    "\n",
    "How would you get all the elements before the item in position `-3`?  \n",
    "How about just the last element?"
   ]
  },
  {
   "cell_type": "markdown",
   "metadata": {
    "slideshow": {
     "slide_type": "slide"
    }
   },
   "source": [
    "## Slicing in multiple dimensions\n",
    "\n",
    "Just as with regular indexing, we can slice index over multiple dimensions:"
   ]
  },
  {
   "cell_type": "code",
   "execution_count": 35,
   "metadata": {},
   "outputs": [
    {
     "data": {
      "text/plain": [
       "array([[1, 2],\n",
       "       [4, 5]])"
      ]
     },
     "execution_count": 35,
     "metadata": {},
     "output_type": "execute_result"
    }
   ],
   "source": [
    "b = np.array([[1,2,3],\n",
    "              [4,5,6]])\n",
    "\n",
    "# columns 0 and 1\n",
    "b[:, 0:2]"
   ]
  },
  {
   "cell_type": "code",
   "execution_count": 36,
   "metadata": {},
   "outputs": [
    {
     "data": {
      "text/plain": [
       "array([1, 2])"
      ]
     },
     "execution_count": 36,
     "metadata": {},
     "output_type": "execute_result"
    }
   ],
   "source": [
    "# row 0, columns 0 and 1\n",
    "b[0,0:2]"
   ]
  },
  {
   "cell_type": "markdown",
   "metadata": {
    "slideshow": {
     "slide_type": "slide"
    }
   },
   "source": [
    "## NumPy Functions\n",
    "\n",
    "NumPy makes it easy to apply **functions** to **arrays**:\n",
    "- Maths functions (`np.sin, np.sum, np.round, np.exp`)\n",
    "- Logic (`np.equal, np.allclose, np.any`)\n",
    "- Sorting, searching, counting (`np.argwhere, np.sort`)\n",
    "- and many more!\n",
    "\n",
    "For example:"
   ]
  },
  {
   "cell_type": "code",
   "execution_count": 37,
   "metadata": {},
   "outputs": [
    {
     "data": {
      "text/plain": [
       "6"
      ]
     },
     "execution_count": 37,
     "metadata": {},
     "output_type": "execute_result"
    }
   ],
   "source": [
    "a = np.array([1,2,3])\n",
    "np.sum(a)"
   ]
  },
  {
   "cell_type": "markdown",
   "metadata": {
    "slideshow": {
     "slide_type": "slide"
    }
   },
   "source": [
    "## NumPy Functions\n",
    "\n",
    "We can **apply** functions over specific dimensions/**axes**:"
   ]
  },
  {
   "cell_type": "code",
   "execution_count": 50,
   "metadata": {},
   "outputs": [],
   "source": [
    "b = np.array([[1,2,3],\n",
    "              [4,5,6]])"
   ]
  },
  {
   "cell_type": "markdown",
   "metadata": {},
   "source": [
    "there are two dimensions/axes (rows = axis 0, columns = axis 1).\n",
    "\n",
    "So to sum up each of the columns:"
   ]
  },
  {
   "cell_type": "code",
   "execution_count": 39,
   "metadata": {},
   "outputs": [
    {
     "data": {
      "text/plain": [
       "array([5, 7, 9])"
      ]
     },
     "execution_count": 39,
     "metadata": {},
     "output_type": "execute_result"
    }
   ],
   "source": [
    "np.sum(b, axis=0)"
   ]
  },
  {
   "cell_type": "raw",
   "metadata": {},
   "source": [
    "And to sum the rows:"
   ]
  },
  {
   "cell_type": "code",
   "execution_count": 40,
   "metadata": {},
   "outputs": [
    {
     "data": {
      "text/plain": [
       "array([ 6, 15])"
      ]
     },
     "execution_count": 40,
     "metadata": {},
     "output_type": "execute_result"
    }
   ],
   "source": [
    "np.sum(b, axis=1)"
   ]
  },
  {
   "cell_type": "markdown",
   "metadata": {
    "slideshow": {
     "slide_type": "slide"
    }
   },
   "source": [
    "## Broadcasting\n",
    "\n",
    "NumPy also supports broadcasting when the dimensions don't match up. For instance, to double every element in an array we could either do:"
   ]
  },
  {
   "cell_type": "code",
   "execution_count": 41,
   "metadata": {},
   "outputs": [
    {
     "data": {
      "text/plain": [
       "array([2, 4, 6])"
      ]
     },
     "execution_count": 41,
     "metadata": {},
     "output_type": "execute_result"
    }
   ],
   "source": [
    "a = np.array([1,2,3])\n",
    "twos = np.array([2,2,2])\n",
    "a*twos"
   ]
  },
  {
   "cell_type": "markdown",
   "metadata": {},
   "source": [
    "Or we could do:"
   ]
  },
  {
   "cell_type": "code",
   "execution_count": 42,
   "metadata": {},
   "outputs": [
    {
     "data": {
      "text/plain": [
       "array([2, 4, 6])"
      ]
     },
     "execution_count": 42,
     "metadata": {},
     "output_type": "execute_result"
    }
   ],
   "source": [
    "a*2"
   ]
  },
  {
   "cell_type": "markdown",
   "metadata": {},
   "source": [
    "NumPy automatically stretches out the scalar 2 to be the vector of 2s in the first example so that they can be multiplied together."
   ]
  },
  {
   "cell_type": "markdown",
   "metadata": {
    "slideshow": {
     "slide_type": "slide"
    }
   },
   "source": [
    "## Broadcasting \n",
    "\n",
    "- As with all things NumPy, this scales up to **multiple dimensions** very easily.  \n",
    "  \n",
    "- NumPy checks each **aligned** pair of dimensions to see if they are:\n",
    "    - equal in size\n",
    "    - one of them is of size one\n",
    "    \n",
    "- Which of these pairs can be broadcast?\n",
    "    - 5,1?\n",
    "    - 2,4?\n",
    "    - 3,3?\n"
   ]
  },
  {
   "cell_type": "markdown",
   "metadata": {
    "slideshow": {
     "slide_type": "slide"
    }
   },
   "source": [
    "## Broadcasting over multiple dimensions\n",
    "\n",
    "For `c = a * b`, we can infer the shape of `c` from the shapes of `a` and `b`:\n",
    "\n",
    "```python\n",
    "a.shape = (1 x 2)\n",
    "b.shape = (5 x 2) \n",
    "c.shape = (5 x 2) \n",
    "```\n",
    "\n",
    "When they have different dimensions, align the **trailing** dimension:\n",
    "```python\n",
    "a.shape = (5 x 6) \n",
    "b.shape =         (1)\n",
    "c.shape = (5 x 6)\n",
    "```"
   ]
  },
  {
   "cell_type": "markdown",
   "metadata": {
    "slideshow": {
     "slide_type": "slide"
    }
   },
   "source": [
    "## Broadcasting over multiple dimensions\n"
   ]
  },
  {
   "cell_type": "code",
   "execution_count": 43,
   "metadata": {},
   "outputs": [
    {
     "data": {
      "text/plain": [
       "array([[ 2, 10, 30],\n",
       "       [ 8, 25, 60]])"
      ]
     },
     "execution_count": 43,
     "metadata": {},
     "output_type": "execute_result"
    }
   ],
   "source": [
    "a = np.array([[1,2,3],\n",
    "              [4,5,6]])\n",
    "\n",
    "# multiply col 1 by 2, col 2 by 5, col 3 by 10\n",
    "b = np.array([2,5,10])\n",
    "a*b"
   ]
  },
  {
   "cell_type": "markdown",
   "metadata": {
    "slideshow": {
     "slide_type": "slide"
    }
   },
   "source": [
    "## Modifying Arrays\n",
    "\n",
    "We can use **indexing**, **slicing**, and **broadcasting** to modify the values in arrays:\n"
   ]
  },
  {
   "cell_type": "code",
   "execution_count": 44,
   "metadata": {},
   "outputs": [],
   "source": [
    "# indexing\n",
    "a = np.array([1,2,3])\n",
    "a[0] = 5"
   ]
  },
  {
   "cell_type": "code",
   "execution_count": 45,
   "metadata": {},
   "outputs": [
    {
     "data": {
      "text/plain": [
       "array([5, 5, 5])"
      ]
     },
     "execution_count": 45,
     "metadata": {},
     "output_type": "execute_result"
    }
   ],
   "source": [
    "# slicing\n",
    "a[0:3] = [5, 5, 5]\n",
    "a"
   ]
  },
  {
   "cell_type": "code",
   "execution_count": 46,
   "metadata": {},
   "outputs": [
    {
     "data": {
      "text/plain": [
       "array([2, 2, 2])"
      ]
     },
     "execution_count": 46,
     "metadata": {},
     "output_type": "execute_result"
    }
   ],
   "source": [
    "# broadcasting\n",
    "a[0:3] = 2\n",
    "a"
   ]
  },
  {
   "cell_type": "markdown",
   "metadata": {
    "slideshow": {
     "slide_type": "slide"
    }
   },
   "source": [
    "<img src=\"img/jupyter.png\" width=\"200\">\n",
    "\n",
    "Now open the following workbook: `practical2.ipynb`"
   ]
  },
  {
   "cell_type": "markdown",
   "metadata": {
    "slideshow": {
     "slide_type": "slide"
    }
   },
   "source": [
    "## Generating New Arrays Deterministically\n",
    "\n",
    "- `np.linspace(lower, upper, N)`: N **linearly distributed** numbers between lower and upper\n",
    "- `np.ones((shape))`: an array of **ones** of shape `shape` \n",
    "- `np.zeros((shape))`: an array of **zeros** of shape `shape`\n",
    "- `np.arange(upper)`: integers from 0 to upper\n",
    "- `np.eye(N)`: identity matrix of size $N \\times N$"
   ]
  },
  {
   "cell_type": "markdown",
   "metadata": {
    "slideshow": {
     "slide_type": "slide"
    }
   },
   "source": [
    "## Generating New Arrays Randomly\n",
    "- `np.random.randn()`:\n",
    "- `np.random.random()`:\n",
    "- `np.random.choice(list)`: choose a number from the list\n"
   ]
  },
  {
   "cell_type": "markdown",
   "metadata": {
    "slideshow": {
     "slide_type": "slide"
    }
   },
   "source": [
    "## Stacking and Reshaping\n",
    "- Stack two arrays **vertically** `np.vstack([a,b])` or **horizontally** `np.hstack([a,b])`\n"
   ]
  },
  {
   "cell_type": "code",
   "execution_count": 47,
   "metadata": {},
   "outputs": [
    {
     "data": {
      "text/plain": [
       "array([[1., 1., 1., 1.],\n",
       "       [1., 1., 1., 1.]])"
      ]
     },
     "execution_count": 47,
     "metadata": {},
     "output_type": "execute_result"
    }
   ],
   "source": [
    "a = np.ones((4))\n",
    "b = np.ones((4))\n",
    "\n",
    "np.vstack([a,b])"
   ]
  },
  {
   "cell_type": "code",
   "execution_count": 48,
   "metadata": {},
   "outputs": [
    {
     "data": {
      "text/plain": [
       "array([1., 1., 1., 1., 1., 1., 1., 1.])"
      ]
     },
     "execution_count": 48,
     "metadata": {},
     "output_type": "execute_result"
    }
   ],
   "source": [
    "np.hstack([a,b])"
   ]
  },
  {
   "cell_type": "markdown",
   "metadata": {
    "slideshow": {
     "slide_type": "slide"
    }
   },
   "source": [
    "## NumPy Array Functions \n",
    "\n",
    "There are certain functions which can be applied **directly** to the array (i.e. you can do `a.function()` instead of `np.function(a)`. \n",
    "\n",
    "- `a.mean()` mean \n",
    "- `a.T` : transpose\n",
    "- `a.argmax()`: index of the max element of `a`\n",
    "\n",
    "See [documentation](https://numpy.org/doc/stable/reference/arrays.ndarray.html#array-methods) for more."
   ]
  },
  {
   "cell_type": "markdown",
   "metadata": {
    "slideshow": {
     "slide_type": "slide"
    }
   },
   "source": [
    "<img src=\"img/jupyter.png\" width=\"200\">\n",
    "\n",
    "Now open the following workbook: `practical3.ipynb`"
   ]
  }
 ],
 "metadata": {
  "@webio": {
   "lastCommId": null,
   "lastKernelId": null
  },
  "celltoolbar": "None",
  "kernelspec": {
   "display_name": "Python 3",
   "language": "python",
   "name": "python3"
  },
  "language_info": {
   "codemirror_mode": {
    "name": "ipython",
    "version": 3
   },
   "file_extension": ".py",
   "mimetype": "text/x-python",
   "name": "python",
   "nbconvert_exporter": "python",
   "pygments_lexer": "ipython3",
   "version": "3.7.4"
  }
 },
 "nbformat": 4,
 "nbformat_minor": 2
}
