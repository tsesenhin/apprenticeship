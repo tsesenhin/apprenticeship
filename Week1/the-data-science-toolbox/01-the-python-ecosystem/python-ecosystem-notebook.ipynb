{
 "cells": [
  {
   "cell_type": "markdown",
   "metadata": {
    "slideshow": {
     "slide_type": "slide"
    }
   },
   "source": [
    "# Programming with Python\n",
    "## Understanding what Python is and what it can be used for\n"
   ]
  },
  {
   "cell_type": "markdown",
   "metadata": {
    "slideshow": {
     "slide_type": "slide"
    }
   },
   "source": [
    "### What is programming?\n",
    "\n",
    "**A way to instruct a computer to perform tasks.**\n",
    "\n",
    "There are numerous programming languages, the choice of which can depend upon:\n",
    "\n",
    "- **Availability** within the given context\n",
    "- **Suitability** for performing a particular task\n",
    "- **Knowledge** of the programmer and other users\n"
   ]
  },
  {
   "cell_type": "markdown",
   "metadata": {
    "slideshow": {
     "slide_type": "slide"
    }
   },
   "source": [
    "![programming](img/ipo.jpg)"
   ]
  },
  {
   "cell_type": "markdown",
   "metadata": {
    "slideshow": {
     "slide_type": "slide"
    }
   },
   "source": [
    "### What is Python?\n",
    "\n",
    "**A high-level, popular, general-purpose programming language.**\n",
    "\n",
    "- **High-level**: closer to human languages than machine code; very **readable** and relatively **simple syntax**\n",
    "- **Popular**: expected to become the most **popular** programming language (and already is by some metrics)\n",
    "- **General-purpose**: can be used for a wide **variety of applications**, such as games, web apps, and data analysis\n"
   ]
  },
  {
   "cell_type": "markdown",
   "metadata": {
    "slideshow": {
     "slide_type": "slide"
    }
   },
   "source": [
    "![python popularity](img/python-popularity.jpg)"
   ]
  },
  {
   "cell_type": "markdown",
   "metadata": {
    "slideshow": {
     "slide_type": "slide"
    }
   },
   "source": [
    "#### Python for Data Analysis\n",
    "\n",
    "- Numerous **open-source packages** created and maintained by an active and growing Python community, to **simplify programming** for:  \n",
    "\n",
    "    - Data **processing**, **analysis** and **visualisation**\n",
    "    - Data collection via **APIs** and **web scraping**\n",
    "    - **Machine learning** and predictive modelling\n",
    "    "
   ]
  },
  {
   "cell_type": "markdown",
   "metadata": {
    "slideshow": {
     "slide_type": "slide"
    }
   },
   "source": [
    "#### Python for Data Analysis\n",
    "\n",
    "- Ability to **handle larger volumes of data** in a more **robust**, **repeatable** manner and with greater control than traditional spreadsheet applications such as Excel  \n",
    "\n",
    "    - Repeated operations are carried out more efficiently\n",
    "    - Program logic is not hidden within the user interface"
   ]
  },
  {
   "cell_type": "markdown",
   "metadata": {
    "slideshow": {
     "slide_type": "slide"
    }
   },
   "source": [
    "#### Where Python can be written and executed\n",
    "\n",
    "- via the **command-line** interface\n",
    "    - **Command Prompt** on Windows or **Terminal** on Mac / Linux\n",
    "    - text-based with **limited formatting** of outputs\n",
    "    \n",
    "- via an **IDE** (Integrated Development Environment)\n",
    "    - typically with features such as **syntax highlighting** and **debugging tools**\n",
    "\n",
    "- via an **interactive notebook** interface\n",
    "    - typically with features such **formatted display of code output** and the ability to **combine code with other media** such as **text** and **images**\n"
   ]
  },
  {
   "cell_type": "markdown",
   "metadata": {
    "slideshow": {
     "slide_type": "slide"
    }
   },
   "source": [
    "### Jupyter notebook\n",
    "\n",
    "A web-based, interactive computing notebook interface:\n",
    "\n",
    "- Create documents containing live **code**, **visualisations** and **narrative text**\n",
    "- Embed **HTML**, **images** and **videos** and use **interactive widgets**\n",
    "- Support for **numerous programming languages** (originally Julia, Python and R)\n",
    "\n",
    "![jupyter](img/jupyter.png)\n"
   ]
  },
  {
   "cell_type": "markdown",
   "metadata": {
    "slideshow": {
     "slide_type": "slide"
    }
   },
   "source": [
    "#### Notebook components\n",
    "\n",
    "- A **kernel** is a program which runs the code cells in a notebook  \n",
    "\n",
    "    - such as our installation of **Python**   \n",
    "    \n",
    "- A notebook is made of different types of **cells**:  \n",
    "\n",
    "    - **Markdown cells** can be used to add headings, notes and text lists\n",
    "    - **Code cells** contain code compatible with the selected kernel  \n",
    "    \n",
    "- Additional functionality and numerous **extensions** available, such as:  \n",
    "\n",
    "    - Slideshow creation\n",
    "    - Code formatting tools"
   ]
  },
  {
   "cell_type": "markdown",
   "metadata": {
    "slideshow": {
     "slide_type": "slide"
    }
   },
   "source": [
    "#### User interface\n",
    "\n",
    "![notebook user interface](img/notebook-ui.png)"
   ]
  },
  {
   "cell_type": "markdown",
   "metadata": {
    "slideshow": {
     "slide_type": "slide"
    }
   },
   "source": [
    "Now open the following workbook: `intro-jupyter-workbook.ipynb`"
   ]
  }
 ],
 "metadata": {
  "celltoolbar": "None",
  "kernelspec": {
   "display_name": "Python 3",
   "language": "python",
   "name": "python3"
  },
  "language_info": {
   "codemirror_mode": {
    "name": "ipython",
    "version": 3
   },
   "file_extension": ".py",
   "mimetype": "text/x-python",
   "name": "python",
   "nbconvert_exporter": "python",
   "pygments_lexer": "ipython3",
   "version": "3.8.2"
  }
 },
 "nbformat": 4,
 "nbformat_minor": 4
}
