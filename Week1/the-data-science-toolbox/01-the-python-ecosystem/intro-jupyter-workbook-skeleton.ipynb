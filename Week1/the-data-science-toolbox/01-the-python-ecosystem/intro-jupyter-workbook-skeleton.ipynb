{
 "cells": [
  {
   "cell_type": "code",
   "execution_count": 3,
   "metadata": {},
   "outputs": [
    {
     "name": "stdout",
     "output_type": "stream",
     "text": [
      "Hello\n"
     ]
    }
   ],
   "source": [
    "print('Hello')"
   ]
  },
  {
   "cell_type": "markdown",
   "metadata": {},
   "source": [
    "# gu"
   ]
  },
  {
   "cell_type": "markdown",
   "metadata": {},
   "source": [
    "# Welcome to Jupyter Notebook!\n",
    "\n",
    "### Cells\n",
    "\n",
    "This is a **markdown cell**. Click anywhere on this section of text to edit the contents.\n",
    "\n",
    "Markdown cells allow you to write titles and notes to organise and help explain your code. Editing these cells and looking at this [Markdown Cheatsheet](https://github.com/adam-p/markdown-here/wiki/Markdown-Cheatsheet) will help you understand how you can format them.\n",
    "\n",
    "Here's some Python code. See what happens if you click into the **code cell** below and then press `Shift` + `Enter`:"
   ]
  },
  {
   "cell_type": "code",
   "execution_count": 2,
   "metadata": {},
   "outputs": [
    {
     "data": {
      "text/plain": [
       "15"
      ]
     },
     "execution_count": 2,
     "metadata": {},
     "output_type": "execute_result"
    }
   ],
   "source": [
    "a = 5\n",
    "b = 3\n",
    "c = a * b\n",
    "c"
   ]
  },
  {
   "cell_type": "markdown",
   "metadata": {},
   "source": [
    "All of the code in the cell is executed, and **the result of the last evaluation is displayed automatically**. "
   ]
  },
  {
   "cell_type": "markdown",
   "metadata": {},
   "source": [
    "### Exercise\n",
    "\n",
    "Observe what happens when you do the following:\n",
    "\n",
    "1. Delete the third line from the code cell above ('c = a * b') then run it again (`Shift` + `Enter`).\n",
    "2. In the menu at the top, click `Kernel` => `Restart & Clear Output` and confirm.\n",
    "3. Run the cell again for a final time.\n",
    "\n",
    "This example demonstrates how **the values stored in the computer's memory do not necessarily match what is on the screen**. Deleting the calculation for 'c' in step 1 didn't remove the value stored in memory for 'c', so it was still evaluated as 15; it was only forgotten once we had cleared the output. \n",
    "\n",
    "When a value for 'c' could not be found in memory, an **error message** was displayed.\n",
    "\n",
    "You may also have noticed the number in the brackets `[]` to the left of the code cells; this indicates **the order in which the code cells have been run**."
   ]
  },
  {
   "cell_type": "markdown",
   "metadata": {},
   "source": [
    "### Modes"
   ]
  },
  {
   "cell_type": "markdown",
   "metadata": {},
   "source": [
    "You may have noticed the coloured border surrounding the current cell. \n",
    "\n",
    "* <span style=\"color:blue\">Blue</span> indicates that **Command Mode** is active\n",
    "* <span style=\"color:green\">Green</span> indicates that **Edit Mode** is active\n",
    "\n",
    "**Command mode** is used to control the notebook as a whole: **navigating, moving, copying and running multiple cells**, and **changing the cell type**.\n",
    "\n",
    "**Edit mode** is used to edit the **content of a specific cell**. \n",
    "\n",
    "Note that **changing the cell type requires being in command mode** - the kernel will attempt to interpret your 'markdown' as Python if written in a code cell.\n",
    "\n",
    "Each mode has its own set of **keyboard shortcuts**. Although most notebook functionality can be achieved using a mouse and the menu system, it is worthwhile to learn the [shortcuts](https://jupyter-notebook.readthedocs.io/en/stable/examples/Notebook/Notebook%20Basics.html#Keyboard-Navigation) for the most frequent tasks. More can be found via `Help` => `Keyboard Shortcuts`."
   ]
  },
  {
   "cell_type": "markdown",
   "metadata": {},
   "source": [
    "### Exercise"
   ]
  },
  {
   "cell_type": "markdown",
   "metadata": {},
   "source": [
    "We have seen above how to use Python and the notebook to multply some values together and display the result.\n",
    "\n",
    "**Without using your mouse**, modify the cell below to calculate roughly how many minutes a 30-year old has been alive. You'll need to:\n",
    "\n",
    "- Change the cell type to a code cell\n",
    "- Add an equation to calculate your approximation\n",
    "- Add a line at the end so that the notebook displays the value\n",
    "- Run the cell"
   ]
  },
  {
   "cell_type": "code",
   "execution_count": 6,
   "metadata": {},
   "outputs": [],
   "source": [
    "age = 30\n",
    "d = 365.25\n",
    "h = 24\n",
    "m = 60\n"
   ]
  },
  {
   "cell_type": "code",
   "execution_count": 8,
   "metadata": {},
   "outputs": [
    {
     "data": {
      "text/plain": [
       "15778800.0"
      ]
     },
     "execution_count": 8,
     "metadata": {},
     "output_type": "execute_result"
    }
   ],
   "source": [
    "min_alive = age*d*h*m\n",
    "min_alive"
   ]
  },
  {
   "cell_type": "markdown",
   "metadata": {},
   "source": [
    "See the [user documentation](https://jupyter-notebook.readthedocs.io/en/stable/examples/Notebook/Notebook%20Basics.html)  for further information on Jupyter Notebook."
   ]
  }
 ],
 "metadata": {
  "kernelspec": {
   "display_name": "Python 3",
   "language": "python",
   "name": "python3"
  },
  "language_info": {
   "codemirror_mode": {
    "name": "ipython",
    "version": 3
   },
   "file_extension": ".py",
   "mimetype": "text/x-python",
   "name": "python",
   "nbconvert_exporter": "python",
   "pygments_lexer": "ipython3",
   "version": "3.7.3"
  }
 },
 "nbformat": 4,
 "nbformat_minor": 4
}
