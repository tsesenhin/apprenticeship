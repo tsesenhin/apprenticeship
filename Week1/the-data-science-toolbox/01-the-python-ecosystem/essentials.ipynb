{
 "cells": [
  {
   "cell_type": "markdown",
   "metadata": {},
   "source": [
    "## Jupyter notebook"
   ]
  },
  {
   "cell_type": "markdown",
   "metadata": {},
   "source": [
    "**Automatically displays the result** of the last line of code in a code cell\n",
    "- No need to use the `print()` function unless we want to see output from other lines\n",
    "- Note how this does not include showing the value of a variable assignment made on the last line\n",
    " "
   ]
  },
  {
   "cell_type": "code",
   "execution_count": null,
   "metadata": {},
   "outputs": [],
   "source": [
    "24 + 55"
   ]
  },
  {
   "cell_type": "code",
   "execution_count": null,
   "metadata": {},
   "outputs": [],
   "source": [
    "x = 12 + 7\n",
    "x"
   ]
  },
  {
   "cell_type": "markdown",
   "metadata": {},
   "source": [
    "**Code cells** and **markdown cells** can be written in a notebook\n",
    "- Enter command mode by pressing `ESCAPE`\n",
    "- Change cell type using `Y` (code) or `M` (markdown) when in **command mode**"
   ]
  },
  {
   "cell_type": "code",
   "execution_count": 1,
   "metadata": {},
   "outputs": [
    {
     "data": {
      "text/plain": [
       "'this is a code cell'"
      ]
     },
     "execution_count": 1,
     "metadata": {},
     "output_type": "execute_result"
    }
   ],
   "source": [
    "'this is a code cell'"
   ]
  },
  {
   "cell_type": "markdown",
   "metadata": {},
   "source": [
    "'this is a markdown cell'"
   ]
  },
  {
   "cell_type": "markdown",
   "metadata": {},
   "source": [
    "**Cell execution order** can be chosen by the user\n",
    "- it does not have to be from top-to-bottom\n",
    "- the same cell can be executed more than once  \n",
    "\n",
    "... remember that variables stored in memory may no longer be in the same state when you re-run cells!"
   ]
  },
  {
   "cell_type": "code",
   "execution_count": null,
   "metadata": {},
   "outputs": [],
   "source": [
    "a = 5"
   ]
  },
  {
   "cell_type": "code",
   "execution_count": null,
   "metadata": {},
   "outputs": [],
   "source": [
    "b = a + 10\n",
    "b"
   ]
  },
  {
   "cell_type": "code",
   "execution_count": null,
   "metadata": {},
   "outputs": [],
   "source": [
    "a = 33"
   ]
  },
  {
   "cell_type": "markdown",
   "metadata": {},
   "source": [
    "*Executing `a = 33`, then executing `b = a + 10`, and finally deleting the `a = 33` cell would result in `b` having a different value in memory to what might be expected from only reading the notebook.*  "
   ]
  },
  {
   "cell_type": "markdown",
   "metadata": {},
   "source": [
    "<-- We can see from the numbers to the left of the code cells, the order in which they have been executed."
   ]
  },
  {
   "cell_type": "markdown",
   "metadata": {},
   "source": [
    "If we want to clear the computer's memory and the outputs in the cells, go to **Kernel** --> **Restart Kernel and Clear All \n",
    "Outputs**"
   ]
  },
  {
   "cell_type": "markdown",
   "metadata": {},
   "source": [
    "#### Other useful shortcuts"
   ]
  },
  {
   "cell_type": "markdown",
   "metadata": {},
   "source": [
    "In **command mode** (which can be switched to by pressing `ESCAPE`):\n",
    "\n",
    "`a` creates a blank cell above  \n",
    "`b` creates a blank cell below  \n",
    "`dd` (i.e. two `d` presses in quick succession) deletes a cell"
   ]
  },
  {
   "cell_type": "markdown",
   "metadata": {},
   "source": [
    "In **edit mode** (which can be switched to by pressing `ENTER` on a given cell):\n",
    "\n",
    "`SHIFT + ENTER` runs that cell and creates a new cell below it  \n",
    "`CTRL + ENTER` runs that cell without creating a new cell below it\n",
    "\n"
   ]
  },
  {
   "cell_type": "markdown",
   "metadata": {},
   "source": [
    "#### Markdown"
   ]
  },
  {
   "cell_type": "markdown",
   "metadata": {},
   "source": [
    "\\*\\* use two stars at either end of a phrase to make it **bold** \\*\\*  \n",
    "\\* use one star at either end to make it *italic* \\*\n",
    "\n",
    "Use ### hashtags (with a space afterwards) to add headings (one for a H1 i.e. large heading, up to six for progressively smaller headings) \n",
    "# Heading 1\n",
    "## Heading 3\n",
    "###### Heading 6"
   ]
  }
 ],
 "metadata": {
  "kernelspec": {
   "display_name": "Python 3",
   "language": "python",
   "name": "python3"
  },
  "language_info": {
   "codemirror_mode": {
    "name": "ipython",
    "version": 3
   },
   "file_extension": ".py",
   "mimetype": "text/x-python",
   "name": "python",
   "nbconvert_exporter": "python",
   "pygments_lexer": "ipython3",
   "version": "3.7.3"
  }
 },
 "nbformat": 4,
 "nbformat_minor": 4
}
