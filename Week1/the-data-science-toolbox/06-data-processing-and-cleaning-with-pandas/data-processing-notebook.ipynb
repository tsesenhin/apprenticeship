{
 "cells": [
  {
   "cell_type": "markdown",
   "metadata": {
    "slideshow": {
     "slide_type": "slide"
    }
   },
   "source": [
    "# Pandas Data Processing\n",
    "## Data transformation and cleaning"
   ]
  },
  {
   "cell_type": "markdown",
   "metadata": {
    "slideshow": {
     "slide_type": "slide"
    }
   },
   "source": [
    "### Concatenation\n",
    "\n",
    "- The addition of one dataset to another\n",
    "- Typically used to **extend** a dataset with extra rows or columns\n",
    "- To achieve this we can use the pandas `.concat()` method"
   ]
  },
  {
   "cell_type": "markdown",
   "metadata": {
    "slideshow": {
     "slide_type": "slide"
    }
   },
   "source": [
    "#### Concatenating DataFrames"
   ]
  },
  {
   "cell_type": "code",
   "execution_count": 36,
   "metadata": {},
   "outputs": [],
   "source": [
    "import numpy as np # we'll use this later\n",
    "import pandas as pd\n",
    "\n",
    "q1 = pd.read_csv('data/new-drugs-q1.csv')\n",
    "q2 = pd.read_csv('data/new-drugs-q2.csv')\n",
    "q3 = pd.read_csv('data/new-drugs-q3.csv')"
   ]
  },
  {
   "cell_type": "markdown",
   "metadata": {},
   "source": [
    "Each file contains information about new prescription drugs made available in California during a given quarter of 2019 (based on data from [OSHPD](https://oshpd.ca.gov/visualizations/drugs-introduced-to-market/))."
   ]
  },
  {
   "cell_type": "code",
   "execution_count": 37,
   "metadata": {
    "slideshow": {
     "slide_type": "slide"
    }
   },
   "outputs": [
    {
     "name": "stdout",
     "output_type": "stream",
     "text": [
      "(49, 4) Index(['NDC Number', 'Date Introduced to Market', 'Manufacturer Name',\n",
      "       'Drug Product Description'],\n",
      "      dtype='object')\n",
      "(111, 4) Index(['NDC Number', 'Date Introduced to Market', 'Manufacturer Name',\n",
      "       'Drug Product Description'],\n",
      "      dtype='object')\n",
      "(46, 4) Index(['NDC Number', 'Date Introduced to Market', 'Manufacturer Name',\n",
      "       'Drug Product Description'],\n",
      "      dtype='object')\n"
     ]
    }
   ],
   "source": [
    "for q in [q1, q2, q3]:\n",
    "    print(q.shape, q.columns)"
   ]
  },
  {
   "cell_type": "markdown",
   "metadata": {
    "slideshow": {
     "slide_type": "-"
    }
   },
   "source": [
    "- We have read the data and created a DataFrame from each CSV file\n",
    "- We have confirmed that they contain the same columns in the same order"
   ]
  },
  {
   "cell_type": "code",
   "execution_count": 38,
   "metadata": {
    "slideshow": {
     "slide_type": "slide"
    }
   },
   "outputs": [],
   "source": [
    "df = pd.concat([q1, q2, q3], axis=0)"
   ]
  },
  {
   "cell_type": "code",
   "execution_count": 39,
   "metadata": {
    "scrolled": true
   },
   "outputs": [
    {
     "name": "stdout",
     "output_type": "stream",
     "text": [
      "(206, 4)\n"
     ]
    },
    {
     "data": {
      "text/html": [
       "<div>\n",
       "<style scoped>\n",
       "    .dataframe tbody tr th:only-of-type {\n",
       "        vertical-align: middle;\n",
       "    }\n",
       "\n",
       "    .dataframe tbody tr th {\n",
       "        vertical-align: top;\n",
       "    }\n",
       "\n",
       "    .dataframe thead th {\n",
       "        text-align: right;\n",
       "    }\n",
       "</style>\n",
       "<table border=\"1\" class=\"dataframe\">\n",
       "  <thead>\n",
       "    <tr style=\"text-align: right;\">\n",
       "      <th></th>\n",
       "      <th>NDC Number</th>\n",
       "      <th>Date Introduced to Market</th>\n",
       "      <th>Manufacturer Name</th>\n",
       "      <th>Drug Product Description</th>\n",
       "    </tr>\n",
       "  </thead>\n",
       "  <tbody>\n",
       "    <tr>\n",
       "      <th>0</th>\n",
       "      <td>72626260101</td>\n",
       "      <td>2019-01-02</td>\n",
       "      <td>Asegua Therapeutics LLC</td>\n",
       "      <td>agLDV/SOF (ledipasvir 90 mg/sofosbuvir 400 mg)...</td>\n",
       "    </tr>\n",
       "    <tr>\n",
       "      <th>1</th>\n",
       "      <td>72626270101</td>\n",
       "      <td>2019-01-02</td>\n",
       "      <td>Asegua Therapeutics LLC</td>\n",
       "      <td>agSOF/VEL (sofosbuvir 400 mg/velpatasvir 100 m...</td>\n",
       "    </tr>\n",
       "    <tr>\n",
       "      <th>2</th>\n",
       "      <td>93765256</td>\n",
       "      <td>2019-01-03</td>\n",
       "      <td>Teva Pharmaceuticals USA</td>\n",
       "      <td>VARDENAFIL HCL TABLETS 2.5MG 30</td>\n",
       "    </tr>\n",
       "  </tbody>\n",
       "</table>\n",
       "</div>"
      ],
      "text/plain": [
       "    NDC Number Date Introduced to Market         Manufacturer Name  \\\n",
       "0  72626260101                2019-01-02   Asegua Therapeutics LLC   \n",
       "1  72626270101                2019-01-02   Asegua Therapeutics LLC   \n",
       "2     93765256                2019-01-03  Teva Pharmaceuticals USA   \n",
       "\n",
       "                            Drug Product Description  \n",
       "0  agLDV/SOF (ledipasvir 90 mg/sofosbuvir 400 mg)...  \n",
       "1  agSOF/VEL (sofosbuvir 400 mg/velpatasvir 100 m...  \n",
       "2                    VARDENAFIL HCL TABLETS 2.5MG 30  "
      ]
     },
     "execution_count": 39,
     "metadata": {},
     "output_type": "execute_result"
    }
   ],
   "source": [
    "print(df.shape)\n",
    "df.head(3)"
   ]
  },
  {
   "cell_type": "markdown",
   "metadata": {
    "slideshow": {
     "slide_type": "slide"
    }
   },
   "source": [
    "- We used the pandas `.concat()` method, passing a list of DataFrames as the only argument\n",
    "- The `axis` parameter determines whether to concatenate along **rows** or **columns**\n",
    "    - The default `0` is used here to combine rows from DataFrames with shared column names\n",
    "    - `axis=1` would be used to extend a dataset with additional columns"
   ]
  },
  {
   "cell_type": "code",
   "execution_count": 40,
   "metadata": {
    "slideshow": {
     "slide_type": "slide"
    }
   },
   "outputs": [
    {
     "data": {
      "text/plain": [
       "Int64Index([ 0,  1,  2,  3,  4,  5,  6,  7,  8,  9,\n",
       "            ...\n",
       "            36, 37, 38, 39, 40, 41, 42, 43, 44, 45],\n",
       "           dtype='int64', length=206)"
      ]
     },
     "execution_count": 40,
     "metadata": {},
     "output_type": "execute_result"
    }
   ],
   "source": [
    "df.index"
   ]
  },
  {
   "cell_type": "markdown",
   "metadata": {},
   "source": [
    "- Notice that the **index labels are unchanged** from what they were in each individual DataFrame, i.e. there are duplicated values\n",
    "- We can create new unique row index labels if we want to by passing `ignore_index=True` to the `.concat()` method "
   ]
  },
  {
   "cell_type": "markdown",
   "metadata": {
    "slideshow": {
     "slide_type": "slide"
    }
   },
   "source": [
    "![concat examples](img/concat.png)"
   ]
  },
  {
   "cell_type": "code",
   "execution_count": 41,
   "metadata": {
    "slideshow": {
     "slide_type": "slide"
    }
   },
   "outputs": [
    {
     "data": {
      "text/plain": [
       "1"
      ]
     },
     "execution_count": 41,
     "metadata": {},
     "output_type": "execute_result"
    }
   ],
   "source": [
    "df['NDC Number'].value_counts().max()"
   ]
  },
  {
   "cell_type": "code",
   "execution_count": 42,
   "metadata": {},
   "outputs": [
    {
     "data": {
      "text/html": [
       "<div>\n",
       "<style scoped>\n",
       "    .dataframe tbody tr th:only-of-type {\n",
       "        vertical-align: middle;\n",
       "    }\n",
       "\n",
       "    .dataframe tbody tr th {\n",
       "        vertical-align: top;\n",
       "    }\n",
       "\n",
       "    .dataframe thead th {\n",
       "        text-align: right;\n",
       "    }\n",
       "</style>\n",
       "<table border=\"1\" class=\"dataframe\">\n",
       "  <thead>\n",
       "    <tr style=\"text-align: right;\">\n",
       "      <th></th>\n",
       "      <th>Date Introduced to Market</th>\n",
       "      <th>Manufacturer Name</th>\n",
       "      <th>Drug Product Description</th>\n",
       "    </tr>\n",
       "    <tr>\n",
       "      <th>NDC Number</th>\n",
       "      <th></th>\n",
       "      <th></th>\n",
       "      <th></th>\n",
       "    </tr>\n",
       "  </thead>\n",
       "  <tbody>\n",
       "    <tr>\n",
       "      <th>72626260101</th>\n",
       "      <td>2019-01-02</td>\n",
       "      <td>Asegua Therapeutics LLC</td>\n",
       "      <td>agLDV/SOF (ledipasvir 90 mg/sofosbuvir 400 mg)...</td>\n",
       "    </tr>\n",
       "    <tr>\n",
       "      <th>72626270101</th>\n",
       "      <td>2019-01-02</td>\n",
       "      <td>Asegua Therapeutics LLC</td>\n",
       "      <td>agSOF/VEL (sofosbuvir 400 mg/velpatasvir 100 m...</td>\n",
       "    </tr>\n",
       "  </tbody>\n",
       "</table>\n",
       "</div>"
      ],
      "text/plain": [
       "            Date Introduced to Market        Manufacturer Name  \\\n",
       "NDC Number                                                       \n",
       "72626260101                2019-01-02  Asegua Therapeutics LLC   \n",
       "72626270101                2019-01-02  Asegua Therapeutics LLC   \n",
       "\n",
       "                                      Drug Product Description  \n",
       "NDC Number                                                      \n",
       "72626260101  agLDV/SOF (ledipasvir 90 mg/sofosbuvir 400 mg)...  \n",
       "72626270101  agSOF/VEL (sofosbuvir 400 mg/velpatasvir 100 m...  "
      ]
     },
     "execution_count": 42,
     "metadata": {},
     "output_type": "execute_result"
    }
   ],
   "source": [
    "df_new = df.set_index('NDC Number')\n",
    "df_new.head(2)"
   ]
  },
  {
   "cell_type": "markdown",
   "metadata": {
    "slideshow": {
     "slide_type": "slide"
    }
   },
   "source": [
    "- We can see from using the `.value_counts()` Series method that `NDC Number` contains no duplicate values\n",
    "- We used the `.set_index()` method to use `NDC Number` as our index in a new DataFrame assigned to `df_new`"
   ]
  },
  {
   "cell_type": "markdown",
   "metadata": {
    "slideshow": {
     "slide_type": "slide"
    }
   },
   "source": [
    "### Joining datasets\n",
    "\n",
    "- We often need to **join** (combine) datasets which have some **relationship** with one another\n",
    "- The relationship (or **association**) requires a common **key** in each dataset so that they can be combined"
   ]
  },
  {
   "cell_type": "markdown",
   "metadata": {
    "slideshow": {
     "slide_type": "slide"
    }
   },
   "source": [
    "**one-to-one joins**   \n",
    "Each dataset contains the same number of shared, unique values in the key\n",
    " \n",
    "**many-to-one joins**   \n",
    "The first dataset has numerous instances of one or more of the values in the key while the second datset only has one instance of each value\n",
    "\n",
    "**many-to-many joins**  \n",
    "Both datasets have numerous instances of one or more of the values in the key\n"
   ]
  },
  {
   "cell_type": "markdown",
   "metadata": {
    "slideshow": {
     "slide_type": "slide"
    }
   },
   "source": [
    "#### Using the pandas `.merge()` method\n",
    "\n",
    "pandas uses terminology borrowed from **SQL** (a popular language for **querying databases**) in the syntax for its methods which provide functionality for joining datasets. "
   ]
  },
  {
   "cell_type": "markdown",
   "metadata": {
    "slideshow": {
     "slide_type": "slide"
    }
   },
   "source": [
    "![sql joins](img/joins.png)"
   ]
  },
  {
   "cell_type": "markdown",
   "metadata": {
    "slideshow": {
     "slide_type": "slide"
    }
   },
   "source": [
    "#### Examples of different joins with small datasets\n",
    "\n",
    "There are several small DataFrames created in the `dataframes.py` file; let's take a look at two of them and then see how they can be merged:"
   ]
  },
  {
   "cell_type": "code",
   "execution_count": 43,
   "metadata": {
    "slideshow": {
     "slide_type": "-"
    }
   },
   "outputs": [
    {
     "data": {
      "text/html": [
       "<div>\n",
       "<style scoped>\n",
       "    .dataframe tbody tr th:only-of-type {\n",
       "        vertical-align: middle;\n",
       "    }\n",
       "\n",
       "    .dataframe tbody tr th {\n",
       "        vertical-align: top;\n",
       "    }\n",
       "\n",
       "    .dataframe thead th {\n",
       "        text-align: right;\n",
       "    }\n",
       "</style>\n",
       "<table border=\"1\" class=\"dataframe\">\n",
       "  <thead>\n",
       "    <tr style=\"text-align: right;\">\n",
       "      <th></th>\n",
       "      <th>Name</th>\n",
       "      <th>Subject</th>\n",
       "    </tr>\n",
       "  </thead>\n",
       "  <tbody>\n",
       "    <tr>\n",
       "      <th>0</th>\n",
       "      <td>Jesse</td>\n",
       "      <td>Physics</td>\n",
       "    </tr>\n",
       "    <tr>\n",
       "      <th>1</th>\n",
       "      <td>Kotryna</td>\n",
       "      <td>Biochemistry</td>\n",
       "    </tr>\n",
       "    <tr>\n",
       "      <th>2</th>\n",
       "      <td>Xiaoyi</td>\n",
       "      <td>Chemistry</td>\n",
       "    </tr>\n",
       "    <tr>\n",
       "      <th>3</th>\n",
       "      <td>David</td>\n",
       "      <td>Medicine</td>\n",
       "    </tr>\n",
       "  </tbody>\n",
       "</table>\n",
       "</div>"
      ],
      "text/plain": [
       "      Name       Subject\n",
       "0    Jesse       Physics\n",
       "1  Kotryna  Biochemistry\n",
       "2   Xiaoyi     Chemistry\n",
       "3    David      Medicine"
      ]
     },
     "metadata": {},
     "output_type": "display_data"
    },
    {
     "data": {
      "text/html": [
       "<div>\n",
       "<style scoped>\n",
       "    .dataframe tbody tr th:only-of-type {\n",
       "        vertical-align: middle;\n",
       "    }\n",
       "\n",
       "    .dataframe tbody tr th {\n",
       "        vertical-align: top;\n",
       "    }\n",
       "\n",
       "    .dataframe thead th {\n",
       "        text-align: right;\n",
       "    }\n",
       "</style>\n",
       "<table border=\"1\" class=\"dataframe\">\n",
       "  <thead>\n",
       "    <tr style=\"text-align: right;\">\n",
       "      <th></th>\n",
       "      <th>Name</th>\n",
       "      <th>Age</th>\n",
       "    </tr>\n",
       "  </thead>\n",
       "  <tbody>\n",
       "    <tr>\n",
       "      <th>0</th>\n",
       "      <td>Jesse</td>\n",
       "      <td>21</td>\n",
       "    </tr>\n",
       "    <tr>\n",
       "      <th>1</th>\n",
       "      <td>Kotryna</td>\n",
       "      <td>22</td>\n",
       "    </tr>\n",
       "    <tr>\n",
       "      <th>2</th>\n",
       "      <td>Xiaoyi</td>\n",
       "      <td>23</td>\n",
       "    </tr>\n",
       "    <tr>\n",
       "      <th>3</th>\n",
       "      <td>Raoul</td>\n",
       "      <td>29</td>\n",
       "    </tr>\n",
       "  </tbody>\n",
       "</table>\n",
       "</div>"
      ],
      "text/plain": [
       "      Name  Age\n",
       "0    Jesse   21\n",
       "1  Kotryna   22\n",
       "2   Xiaoyi   23\n",
       "3    Raoul   29"
      ]
     },
     "metadata": {},
     "output_type": "display_data"
    }
   ],
   "source": [
    "from dataframes import students, residents\n",
    "\n",
    "display(students, residents)"
   ]
  },
  {
   "cell_type": "markdown",
   "metadata": {
    "slideshow": {
     "slide_type": "slide"
    }
   },
   "source": [
    "We would like to add the `Age` column data to the `students` table:"
   ]
  },
  {
   "cell_type": "code",
   "execution_count": 44,
   "metadata": {},
   "outputs": [
    {
     "data": {
      "text/html": [
       "<div>\n",
       "<style scoped>\n",
       "    .dataframe tbody tr th:only-of-type {\n",
       "        vertical-align: middle;\n",
       "    }\n",
       "\n",
       "    .dataframe tbody tr th {\n",
       "        vertical-align: top;\n",
       "    }\n",
       "\n",
       "    .dataframe thead th {\n",
       "        text-align: right;\n",
       "    }\n",
       "</style>\n",
       "<table border=\"1\" class=\"dataframe\">\n",
       "  <thead>\n",
       "    <tr style=\"text-align: right;\">\n",
       "      <th></th>\n",
       "      <th>Name</th>\n",
       "      <th>Subject</th>\n",
       "      <th>Age</th>\n",
       "    </tr>\n",
       "  </thead>\n",
       "  <tbody>\n",
       "    <tr>\n",
       "      <th>0</th>\n",
       "      <td>Jesse</td>\n",
       "      <td>Physics</td>\n",
       "      <td>21</td>\n",
       "    </tr>\n",
       "    <tr>\n",
       "      <th>1</th>\n",
       "      <td>Kotryna</td>\n",
       "      <td>Biochemistry</td>\n",
       "      <td>22</td>\n",
       "    </tr>\n",
       "    <tr>\n",
       "      <th>2</th>\n",
       "      <td>Xiaoyi</td>\n",
       "      <td>Chemistry</td>\n",
       "      <td>23</td>\n",
       "    </tr>\n",
       "  </tbody>\n",
       "</table>\n",
       "</div>"
      ],
      "text/plain": [
       "      Name       Subject  Age\n",
       "0    Jesse       Physics   21\n",
       "1  Kotryna  Biochemistry   22\n",
       "2   Xiaoyi     Chemistry   23"
      ]
     },
     "execution_count": 44,
     "metadata": {},
     "output_type": "execute_result"
    }
   ],
   "source": [
    "students.merge(residents, how=\"inner\", left_on=\"Name\", right_on=\"Name\")"
   ]
  },
  {
   "cell_type": "markdown",
   "metadata": {},
   "source": [
    "- `how=inner` means that only matches from the both tables are retained; no details for `Raoul` or `David` are used\n",
    "- the `left_on` and `right_on` arguments are used to identify the column on which to join the tables\n",
    "    - although here the column name is the same, they could be different in other scenarios"
   ]
  },
  {
   "cell_type": "markdown",
   "metadata": {
    "slideshow": {
     "slide_type": "slide"
    }
   },
   "source": [
    "If we wanted to retain all of the names from the right table (`residents`), we can use `how=\"right\"`:"
   ]
  },
  {
   "cell_type": "code",
   "execution_count": 45,
   "metadata": {
    "slideshow": {
     "slide_type": "-"
    }
   },
   "outputs": [
    {
     "data": {
      "text/html": [
       "<div>\n",
       "<style scoped>\n",
       "    .dataframe tbody tr th:only-of-type {\n",
       "        vertical-align: middle;\n",
       "    }\n",
       "\n",
       "    .dataframe tbody tr th {\n",
       "        vertical-align: top;\n",
       "    }\n",
       "\n",
       "    .dataframe thead th {\n",
       "        text-align: right;\n",
       "    }\n",
       "</style>\n",
       "<table border=\"1\" class=\"dataframe\">\n",
       "  <thead>\n",
       "    <tr style=\"text-align: right;\">\n",
       "      <th></th>\n",
       "      <th>Name</th>\n",
       "      <th>Subject</th>\n",
       "      <th>Age</th>\n",
       "    </tr>\n",
       "  </thead>\n",
       "  <tbody>\n",
       "    <tr>\n",
       "      <th>0</th>\n",
       "      <td>Jesse</td>\n",
       "      <td>Physics</td>\n",
       "      <td>21</td>\n",
       "    </tr>\n",
       "    <tr>\n",
       "      <th>1</th>\n",
       "      <td>Kotryna</td>\n",
       "      <td>Biochemistry</td>\n",
       "      <td>22</td>\n",
       "    </tr>\n",
       "    <tr>\n",
       "      <th>2</th>\n",
       "      <td>Xiaoyi</td>\n",
       "      <td>Chemistry</td>\n",
       "      <td>23</td>\n",
       "    </tr>\n",
       "    <tr>\n",
       "      <th>3</th>\n",
       "      <td>Raoul</td>\n",
       "      <td>NaN</td>\n",
       "      <td>29</td>\n",
       "    </tr>\n",
       "  </tbody>\n",
       "</table>\n",
       "</div>"
      ],
      "text/plain": [
       "      Name       Subject  Age\n",
       "0    Jesse       Physics   21\n",
       "1  Kotryna  Biochemistry   22\n",
       "2   Xiaoyi     Chemistry   23\n",
       "3    Raoul           NaN   29"
      ]
     },
     "execution_count": 45,
     "metadata": {},
     "output_type": "execute_result"
    }
   ],
   "source": [
    "students.merge(residents, how=\"right\")"
   ]
  },
  {
   "cell_type": "markdown",
   "metadata": {},
   "source": [
    "- There is no data for `Subject` for `Raoul`, so this is returned as a `NaN` (missing value)"
   ]
  },
  {
   "cell_type": "markdown",
   "metadata": {
    "slideshow": {
     "slide_type": "slide"
    }
   },
   "source": [
    "A similar result could be achieved by reversing the table order and using `left` instead of `right`:"
   ]
  },
  {
   "cell_type": "code",
   "execution_count": 46,
   "metadata": {
    "slideshow": {
     "slide_type": "-"
    }
   },
   "outputs": [
    {
     "data": {
      "text/html": [
       "<div>\n",
       "<style scoped>\n",
       "    .dataframe tbody tr th:only-of-type {\n",
       "        vertical-align: middle;\n",
       "    }\n",
       "\n",
       "    .dataframe tbody tr th {\n",
       "        vertical-align: top;\n",
       "    }\n",
       "\n",
       "    .dataframe thead th {\n",
       "        text-align: right;\n",
       "    }\n",
       "</style>\n",
       "<table border=\"1\" class=\"dataframe\">\n",
       "  <thead>\n",
       "    <tr style=\"text-align: right;\">\n",
       "      <th></th>\n",
       "      <th>Name</th>\n",
       "      <th>Age</th>\n",
       "      <th>Subject</th>\n",
       "    </tr>\n",
       "  </thead>\n",
       "  <tbody>\n",
       "    <tr>\n",
       "      <th>0</th>\n",
       "      <td>Jesse</td>\n",
       "      <td>21</td>\n",
       "      <td>Physics</td>\n",
       "    </tr>\n",
       "    <tr>\n",
       "      <th>1</th>\n",
       "      <td>Kotryna</td>\n",
       "      <td>22</td>\n",
       "      <td>Biochemistry</td>\n",
       "    </tr>\n",
       "    <tr>\n",
       "      <th>2</th>\n",
       "      <td>Xiaoyi</td>\n",
       "      <td>23</td>\n",
       "      <td>Chemistry</td>\n",
       "    </tr>\n",
       "    <tr>\n",
       "      <th>3</th>\n",
       "      <td>Raoul</td>\n",
       "      <td>29</td>\n",
       "      <td>NaN</td>\n",
       "    </tr>\n",
       "  </tbody>\n",
       "</table>\n",
       "</div>"
      ],
      "text/plain": [
       "      Name  Age       Subject\n",
       "0    Jesse   21       Physics\n",
       "1  Kotryna   22  Biochemistry\n",
       "2   Xiaoyi   23     Chemistry\n",
       "3    Raoul   29           NaN"
      ]
     },
     "execution_count": 46,
     "metadata": {},
     "output_type": "execute_result"
    }
   ],
   "source": [
    "residents.merge(students, how=\"left\")"
   ]
  },
  {
   "cell_type": "markdown",
   "metadata": {},
   "source": [
    "- The only difference here is the column order\n",
    "    - `Age` precedes `Subject` because `Age` was part of the `left` table, i.e. the table specified in the `how` argument"
   ]
  },
  {
   "cell_type": "markdown",
   "metadata": {
    "slideshow": {
     "slide_type": "slide"
    }
   },
   "source": [
    "**Outer joins** will retain data found in one table but not the other. \n",
    "\n",
    "The `indicator` parameter is useful if we want to see which of the original tables the data in the other columns cam from:"
   ]
  },
  {
   "cell_type": "code",
   "execution_count": 47,
   "metadata": {
    "slideshow": {
     "slide_type": "-"
    }
   },
   "outputs": [
    {
     "data": {
      "text/html": [
       "<div>\n",
       "<style scoped>\n",
       "    .dataframe tbody tr th:only-of-type {\n",
       "        vertical-align: middle;\n",
       "    }\n",
       "\n",
       "    .dataframe tbody tr th {\n",
       "        vertical-align: top;\n",
       "    }\n",
       "\n",
       "    .dataframe thead th {\n",
       "        text-align: right;\n",
       "    }\n",
       "</style>\n",
       "<table border=\"1\" class=\"dataframe\">\n",
       "  <thead>\n",
       "    <tr style=\"text-align: right;\">\n",
       "      <th></th>\n",
       "      <th>Name</th>\n",
       "      <th>Age</th>\n",
       "      <th>Subject</th>\n",
       "      <th>_merge</th>\n",
       "    </tr>\n",
       "  </thead>\n",
       "  <tbody>\n",
       "    <tr>\n",
       "      <th>0</th>\n",
       "      <td>Jesse</td>\n",
       "      <td>21.0</td>\n",
       "      <td>Physics</td>\n",
       "      <td>both</td>\n",
       "    </tr>\n",
       "    <tr>\n",
       "      <th>1</th>\n",
       "      <td>Kotryna</td>\n",
       "      <td>22.0</td>\n",
       "      <td>Biochemistry</td>\n",
       "      <td>both</td>\n",
       "    </tr>\n",
       "    <tr>\n",
       "      <th>2</th>\n",
       "      <td>Xiaoyi</td>\n",
       "      <td>23.0</td>\n",
       "      <td>Chemistry</td>\n",
       "      <td>both</td>\n",
       "    </tr>\n",
       "    <tr>\n",
       "      <th>3</th>\n",
       "      <td>Raoul</td>\n",
       "      <td>29.0</td>\n",
       "      <td>NaN</td>\n",
       "      <td>left_only</td>\n",
       "    </tr>\n",
       "    <tr>\n",
       "      <th>4</th>\n",
       "      <td>David</td>\n",
       "      <td>NaN</td>\n",
       "      <td>Medicine</td>\n",
       "      <td>right_only</td>\n",
       "    </tr>\n",
       "  </tbody>\n",
       "</table>\n",
       "</div>"
      ],
      "text/plain": [
       "      Name   Age       Subject      _merge\n",
       "0    Jesse  21.0       Physics        both\n",
       "1  Kotryna  22.0  Biochemistry        both\n",
       "2   Xiaoyi  23.0     Chemistry        both\n",
       "3    Raoul  29.0           NaN   left_only\n",
       "4    David   NaN      Medicine  right_only"
      ]
     },
     "execution_count": 47,
     "metadata": {},
     "output_type": "execute_result"
    }
   ],
   "source": [
    "residents.merge(students, how=\"outer\", indicator=True)"
   ]
  },
  {
   "cell_type": "markdown",
   "metadata": {
    "slideshow": {
     "slide_type": "slide"
    }
   },
   "source": [
    "#### Joining DataFrames using each index as the key"
   ]
  },
  {
   "cell_type": "code",
   "execution_count": 49,
   "metadata": {
    "slideshow": {
     "slide_type": "-"
    }
   },
   "outputs": [
    {
     "data": {
      "text/html": [
       "<div>\n",
       "<style scoped>\n",
       "    .dataframe tbody tr th:only-of-type {\n",
       "        vertical-align: middle;\n",
       "    }\n",
       "\n",
       "    .dataframe tbody tr th {\n",
       "        vertical-align: top;\n",
       "    }\n",
       "\n",
       "    .dataframe thead th {\n",
       "        text-align: right;\n",
       "    }\n",
       "</style>\n",
       "<table border=\"1\" class=\"dataframe\">\n",
       "  <thead>\n",
       "    <tr style=\"text-align: right;\">\n",
       "      <th></th>\n",
       "      <th>Date Introduced to Market</th>\n",
       "      <th>WAC at Introduction</th>\n",
       "      <th>Marketing/Pricing Plan Non-Public Indicator</th>\n",
       "      <th>Estimated Number of Patients</th>\n",
       "      <th>Breakthrough Therapy Indicator</th>\n",
       "      <th>Priority Review Indicator</th>\n",
       "      <th>Acquisition Date</th>\n",
       "      <th>Acquisition Price</th>\n",
       "      <th>Acquisition Price Non-Public Indicator</th>\n",
       "    </tr>\n",
       "    <tr>\n",
       "      <th>NDC Number</th>\n",
       "      <th></th>\n",
       "      <th></th>\n",
       "      <th></th>\n",
       "      <th></th>\n",
       "      <th></th>\n",
       "      <th></th>\n",
       "      <th></th>\n",
       "      <th></th>\n",
       "      <th></th>\n",
       "    </tr>\n",
       "  </thead>\n",
       "  <tbody>\n",
       "    <tr>\n",
       "      <th>47335093640</th>\n",
       "      <td>2019-03-01</td>\n",
       "      <td>705.67</td>\n",
       "      <td>1.0</td>\n",
       "      <td>NaN</td>\n",
       "      <td>NaN</td>\n",
       "      <td>NaN</td>\n",
       "      <td>NaN</td>\n",
       "      <td>NaN</td>\n",
       "      <td>NaN</td>\n",
       "    </tr>\n",
       "    <tr>\n",
       "      <th>47335023683</th>\n",
       "      <td>2019-04-25</td>\n",
       "      <td>7500.00</td>\n",
       "      <td>NaN</td>\n",
       "      <td>0.0</td>\n",
       "      <td>NaN</td>\n",
       "      <td>NaN</td>\n",
       "      <td>NaN</td>\n",
       "      <td>NaN</td>\n",
       "      <td>NaN</td>\n",
       "    </tr>\n",
       "  </tbody>\n",
       "</table>\n",
       "</div>"
      ],
      "text/plain": [
       "            Date Introduced to Market  WAC at Introduction  \\\n",
       "NDC Number                                                   \n",
       "47335093640                2019-03-01               705.67   \n",
       "47335023683                2019-04-25              7500.00   \n",
       "\n",
       "             Marketing/Pricing Plan Non-Public Indicator  \\\n",
       "NDC Number                                                 \n",
       "47335093640                                          1.0   \n",
       "47335023683                                          NaN   \n",
       "\n",
       "             Estimated Number of Patients  Breakthrough Therapy Indicator  \\\n",
       "NDC Number                                                                  \n",
       "47335093640                           NaN                             NaN   \n",
       "47335023683                           0.0                             NaN   \n",
       "\n",
       "             Priority Review Indicator Acquisition Date  Acquisition Price  \\\n",
       "NDC Number                                                                   \n",
       "47335093640                        NaN              NaN                NaN   \n",
       "47335023683                        NaN              NaN                NaN   \n",
       "\n",
       "             Acquisition Price Non-Public Indicator  \n",
       "NDC Number                                           \n",
       "47335093640                                     NaN  \n",
       "47335023683                                     NaN  "
      ]
     },
     "metadata": {},
     "output_type": "display_data"
    },
    {
     "data": {
      "text/plain": [
       "(79, 9)"
      ]
     },
     "execution_count": 49,
     "metadata": {},
     "output_type": "execute_result"
    }
   ],
   "source": [
    "data_a = pd.read_csv('data/drugs-data-a.csv', index_col='NDC Number')\n",
    "display(data_a.head(2))\n",
    "data_a.shape"
   ]
  },
  {
   "cell_type": "markdown",
   "metadata": {
    "slideshow": {
     "slide_type": "slide"
    }
   },
   "source": [
    "- Notice how we used the `index_col` parameter with the pandas `read_csv()` method to use the values in the `NDC Number` column as our index\n",
    "- The `.shape` DataFrame attribute tells us that there are less rows in `data_a` than our previous DataFrame `df_new`"
   ]
  },
  {
   "cell_type": "code",
   "execution_count": 50,
   "metadata": {
    "slideshow": {
     "slide_type": "slide"
    }
   },
   "outputs": [
    {
     "data": {
      "text/html": [
       "<div>\n",
       "<style scoped>\n",
       "    .dataframe tbody tr th:only-of-type {\n",
       "        vertical-align: middle;\n",
       "    }\n",
       "\n",
       "    .dataframe tbody tr th {\n",
       "        vertical-align: top;\n",
       "    }\n",
       "\n",
       "    .dataframe thead th {\n",
       "        text-align: right;\n",
       "    }\n",
       "</style>\n",
       "<table border=\"1\" class=\"dataframe\">\n",
       "  <thead>\n",
       "    <tr style=\"text-align: right;\">\n",
       "      <th></th>\n",
       "      <th>Date Introduced to Market_x</th>\n",
       "      <th>Manufacturer Name</th>\n",
       "      <th>Drug Product Description</th>\n",
       "      <th>Date Introduced to Market_y</th>\n",
       "      <th>WAC at Introduction</th>\n",
       "      <th>Marketing/Pricing Plan Non-Public Indicator</th>\n",
       "      <th>Estimated Number of Patients</th>\n",
       "      <th>Breakthrough Therapy Indicator</th>\n",
       "      <th>Priority Review Indicator</th>\n",
       "      <th>Acquisition Date</th>\n",
       "      <th>Acquisition Price</th>\n",
       "      <th>Acquisition Price Non-Public Indicator</th>\n",
       "    </tr>\n",
       "    <tr>\n",
       "      <th>NDC Number</th>\n",
       "      <th></th>\n",
       "      <th></th>\n",
       "      <th></th>\n",
       "      <th></th>\n",
       "      <th></th>\n",
       "      <th></th>\n",
       "      <th></th>\n",
       "      <th></th>\n",
       "      <th></th>\n",
       "      <th></th>\n",
       "      <th></th>\n",
       "      <th></th>\n",
       "    </tr>\n",
       "  </thead>\n",
       "  <tbody>\n",
       "    <tr>\n",
       "      <th>72626260101</th>\n",
       "      <td>2019-01-02</td>\n",
       "      <td>Asegua Therapeutics LLC</td>\n",
       "      <td>agLDV/SOF (ledipasvir 90 mg/sofosbuvir 400 mg)...</td>\n",
       "      <td>NaN</td>\n",
       "      <td>NaN</td>\n",
       "      <td>NaN</td>\n",
       "      <td>NaN</td>\n",
       "      <td>NaN</td>\n",
       "      <td>NaN</td>\n",
       "      <td>NaN</td>\n",
       "      <td>NaN</td>\n",
       "      <td>NaN</td>\n",
       "    </tr>\n",
       "    <tr>\n",
       "      <th>72626270101</th>\n",
       "      <td>2019-01-02</td>\n",
       "      <td>Asegua Therapeutics LLC</td>\n",
       "      <td>agSOF/VEL (sofosbuvir 400 mg/velpatasvir 100 m...</td>\n",
       "      <td>NaN</td>\n",
       "      <td>NaN</td>\n",
       "      <td>NaN</td>\n",
       "      <td>NaN</td>\n",
       "      <td>NaN</td>\n",
       "      <td>NaN</td>\n",
       "      <td>NaN</td>\n",
       "      <td>NaN</td>\n",
       "      <td>NaN</td>\n",
       "    </tr>\n",
       "  </tbody>\n",
       "</table>\n",
       "</div>"
      ],
      "text/plain": [
       "            Date Introduced to Market_x        Manufacturer Name  \\\n",
       "NDC Number                                                         \n",
       "72626260101                  2019-01-02  Asegua Therapeutics LLC   \n",
       "72626270101                  2019-01-02  Asegua Therapeutics LLC   \n",
       "\n",
       "                                      Drug Product Description  \\\n",
       "NDC Number                                                       \n",
       "72626260101  agLDV/SOF (ledipasvir 90 mg/sofosbuvir 400 mg)...   \n",
       "72626270101  agSOF/VEL (sofosbuvir 400 mg/velpatasvir 100 m...   \n",
       "\n",
       "            Date Introduced to Market_y  WAC at Introduction  \\\n",
       "NDC Number                                                     \n",
       "72626260101                         NaN                  NaN   \n",
       "72626270101                         NaN                  NaN   \n",
       "\n",
       "             Marketing/Pricing Plan Non-Public Indicator  \\\n",
       "NDC Number                                                 \n",
       "72626260101                                          NaN   \n",
       "72626270101                                          NaN   \n",
       "\n",
       "             Estimated Number of Patients  Breakthrough Therapy Indicator  \\\n",
       "NDC Number                                                                  \n",
       "72626260101                           NaN                             NaN   \n",
       "72626270101                           NaN                             NaN   \n",
       "\n",
       "             Priority Review Indicator Acquisition Date  Acquisition Price  \\\n",
       "NDC Number                                                                   \n",
       "72626260101                        NaN              NaN                NaN   \n",
       "72626270101                        NaN              NaN                NaN   \n",
       "\n",
       "             Acquisition Price Non-Public Indicator  \n",
       "NDC Number                                           \n",
       "72626260101                                     NaN  \n",
       "72626270101                                     NaN  "
      ]
     },
     "execution_count": 50,
     "metadata": {},
     "output_type": "execute_result"
    }
   ],
   "source": [
    "df_extra_on_index = df_new.merge(data_a, how='left', left_index=True, right_index=True)\n",
    "df_extra_on_index.head(2)"
   ]
  },
  {
   "cell_type": "markdown",
   "metadata": {
    "slideshow": {
     "slide_type": "slide"
    }
   },
   "source": [
    "- Here we used a **LEFT JOIN** (`how=left`), since we want to retain all data in the original DataFrame `df_new` and supplement it with associated data from the DataFrame `data_a`\n",
    "- We used `left_index=True` and `right_index=True` to specify the `index` of each DataFrame as the **key** on which they will be joined\n",
    "- We can see that the default values for the `suffix` parameter have been used, since there was a column in both of the DataFrames labelled `Date Introduced to Market`"
   ]
  },
  {
   "cell_type": "markdown",
   "metadata": {
    "slideshow": {
     "slide_type": "slide"
    }
   },
   "source": [
    "#### Joining DataFrames using multiple columns as the key"
   ]
  },
  {
   "cell_type": "code",
   "execution_count": 51,
   "metadata": {
    "slideshow": {
     "slide_type": "-"
    }
   },
   "outputs": [
    {
     "data": {
      "text/html": [
       "<div>\n",
       "<style scoped>\n",
       "    .dataframe tbody tr th:only-of-type {\n",
       "        vertical-align: middle;\n",
       "    }\n",
       "\n",
       "    .dataframe tbody tr th {\n",
       "        vertical-align: top;\n",
       "    }\n",
       "\n",
       "    .dataframe thead th {\n",
       "        text-align: right;\n",
       "    }\n",
       "</style>\n",
       "<table border=\"1\" class=\"dataframe\">\n",
       "  <thead>\n",
       "    <tr style=\"text-align: right;\">\n",
       "      <th></th>\n",
       "      <th>Date Introduced to Market</th>\n",
       "      <th>Manufacturer Name</th>\n",
       "      <th>Drug Product Description</th>\n",
       "      <th>WAC at Introduction</th>\n",
       "      <th>Marketing/Pricing Plan Non-Public Indicator</th>\n",
       "      <th>Estimated Number of Patients</th>\n",
       "      <th>Breakthrough Therapy Indicator</th>\n",
       "      <th>Priority Review Indicator</th>\n",
       "      <th>Acquisition Date</th>\n",
       "      <th>Acquisition Price</th>\n",
       "      <th>Acquisition Price Non-Public Indicator</th>\n",
       "    </tr>\n",
       "    <tr>\n",
       "      <th>NDC Number</th>\n",
       "      <th></th>\n",
       "      <th></th>\n",
       "      <th></th>\n",
       "      <th></th>\n",
       "      <th></th>\n",
       "      <th></th>\n",
       "      <th></th>\n",
       "      <th></th>\n",
       "      <th></th>\n",
       "      <th></th>\n",
       "      <th></th>\n",
       "    </tr>\n",
       "  </thead>\n",
       "  <tbody>\n",
       "    <tr>\n",
       "      <th>72626260101</th>\n",
       "      <td>2019-01-02</td>\n",
       "      <td>Asegua Therapeutics LLC</td>\n",
       "      <td>agLDV/SOF (ledipasvir 90 mg/sofosbuvir 400 mg)...</td>\n",
       "      <td>NaN</td>\n",
       "      <td>NaN</td>\n",
       "      <td>NaN</td>\n",
       "      <td>NaN</td>\n",
       "      <td>NaN</td>\n",
       "      <td>NaN</td>\n",
       "      <td>NaN</td>\n",
       "      <td>NaN</td>\n",
       "    </tr>\n",
       "    <tr>\n",
       "      <th>72626270101</th>\n",
       "      <td>2019-01-02</td>\n",
       "      <td>Asegua Therapeutics LLC</td>\n",
       "      <td>agSOF/VEL (sofosbuvir 400 mg/velpatasvir 100 m...</td>\n",
       "      <td>NaN</td>\n",
       "      <td>NaN</td>\n",
       "      <td>NaN</td>\n",
       "      <td>NaN</td>\n",
       "      <td>NaN</td>\n",
       "      <td>NaN</td>\n",
       "      <td>NaN</td>\n",
       "      <td>NaN</td>\n",
       "    </tr>\n",
       "  </tbody>\n",
       "</table>\n",
       "</div>"
      ],
      "text/plain": [
       "            Date Introduced to Market        Manufacturer Name  \\\n",
       "NDC Number                                                       \n",
       "72626260101                2019-01-02  Asegua Therapeutics LLC   \n",
       "72626270101                2019-01-02  Asegua Therapeutics LLC   \n",
       "\n",
       "                                      Drug Product Description  \\\n",
       "NDC Number                                                       \n",
       "72626260101  agLDV/SOF (ledipasvir 90 mg/sofosbuvir 400 mg)...   \n",
       "72626270101  agSOF/VEL (sofosbuvir 400 mg/velpatasvir 100 m...   \n",
       "\n",
       "             WAC at Introduction  Marketing/Pricing Plan Non-Public Indicator  \\\n",
       "NDC Number                                                                      \n",
       "72626260101                  NaN                                          NaN   \n",
       "72626270101                  NaN                                          NaN   \n",
       "\n",
       "             Estimated Number of Patients  Breakthrough Therapy Indicator  \\\n",
       "NDC Number                                                                  \n",
       "72626260101                           NaN                             NaN   \n",
       "72626270101                           NaN                             NaN   \n",
       "\n",
       "             Priority Review Indicator Acquisition Date  Acquisition Price  \\\n",
       "NDC Number                                                                   \n",
       "72626260101                        NaN              NaN                NaN   \n",
       "72626270101                        NaN              NaN                NaN   \n",
       "\n",
       "             Acquisition Price Non-Public Indicator  \n",
       "NDC Number                                           \n",
       "72626260101                                     NaN  \n",
       "72626270101                                     NaN  "
      ]
     },
     "metadata": {},
     "output_type": "display_data"
    },
    {
     "data": {
      "text/plain": [
       "(206, 11)"
      ]
     },
     "execution_count": 51,
     "metadata": {},
     "output_type": "execute_result"
    }
   ],
   "source": [
    "df_extra = df_new.merge(data_a, how='left', on=['NDC Number', 'Date Introduced to Market'])\n",
    "display(df_extra.head(2))\n",
    "df_extra.shape"
   ]
  },
  {
   "cell_type": "markdown",
   "metadata": {
    "slideshow": {
     "slide_type": "slide"
    }
   },
   "source": [
    "- Here we have used the `on` parameter to provide a **list of column labels** which are present in both DataFrames\n",
    "- Notice that this list can include the **row index name** (in this case, `NDC Number`)\n",
    "- By including `Date Introduced to Market` in the key, we only see one instance of the column in the resulting DataFrame"
   ]
  },
  {
   "cell_type": "markdown",
   "metadata": {
    "slideshow": {
     "slide_type": "slide"
    }
   },
   "source": [
    "#### Inner join"
   ]
  },
  {
   "cell_type": "code",
   "execution_count": 52,
   "metadata": {
    "slideshow": {
     "slide_type": "-"
    }
   },
   "outputs": [
    {
     "data": {
      "text/html": [
       "<div>\n",
       "<style scoped>\n",
       "    .dataframe tbody tr th:only-of-type {\n",
       "        vertical-align: middle;\n",
       "    }\n",
       "\n",
       "    .dataframe tbody tr th {\n",
       "        vertical-align: top;\n",
       "    }\n",
       "\n",
       "    .dataframe thead th {\n",
       "        text-align: right;\n",
       "    }\n",
       "</style>\n",
       "<table border=\"1\" class=\"dataframe\">\n",
       "  <thead>\n",
       "    <tr style=\"text-align: right;\">\n",
       "      <th></th>\n",
       "      <th>Date Introduced to Market</th>\n",
       "      <th>Manufacturer Name</th>\n",
       "      <th>Drug Product Description</th>\n",
       "      <th>WAC at Introduction</th>\n",
       "      <th>Marketing/Pricing Plan Non-Public Indicator</th>\n",
       "      <th>Estimated Number of Patients</th>\n",
       "      <th>Breakthrough Therapy Indicator</th>\n",
       "      <th>Priority Review Indicator</th>\n",
       "      <th>Acquisition Date</th>\n",
       "      <th>Acquisition Price</th>\n",
       "      <th>Acquisition Price Non-Public Indicator</th>\n",
       "    </tr>\n",
       "    <tr>\n",
       "      <th>NDC Number</th>\n",
       "      <th></th>\n",
       "      <th></th>\n",
       "      <th></th>\n",
       "      <th></th>\n",
       "      <th></th>\n",
       "      <th></th>\n",
       "      <th></th>\n",
       "      <th></th>\n",
       "      <th></th>\n",
       "      <th></th>\n",
       "      <th></th>\n",
       "    </tr>\n",
       "  </thead>\n",
       "  <tbody>\n",
       "    <tr>\n",
       "      <th>93765256</th>\n",
       "      <td>2019-01-03</td>\n",
       "      <td>Teva Pharmaceuticals USA</td>\n",
       "      <td>VARDENAFIL HCL TABLETS 2.5MG 30</td>\n",
       "      <td>704.59</td>\n",
       "      <td>1.0</td>\n",
       "      <td>101361.0</td>\n",
       "      <td>NaN</td>\n",
       "      <td>NaN</td>\n",
       "      <td>NaN</td>\n",
       "      <td>NaN</td>\n",
       "      <td>NaN</td>\n",
       "    </tr>\n",
       "    <tr>\n",
       "      <th>93765356</th>\n",
       "      <td>2019-01-03</td>\n",
       "      <td>Teva Pharmaceuticals USA</td>\n",
       "      <td>VARDENAFIL HCL TABLETS 5MG 30</td>\n",
       "      <td>704.59</td>\n",
       "      <td>1.0</td>\n",
       "      <td>101361.0</td>\n",
       "      <td>NaN</td>\n",
       "      <td>NaN</td>\n",
       "      <td>NaN</td>\n",
       "      <td>NaN</td>\n",
       "      <td>NaN</td>\n",
       "    </tr>\n",
       "  </tbody>\n",
       "</table>\n",
       "</div>"
      ],
      "text/plain": [
       "           Date Introduced to Market         Manufacturer Name  \\\n",
       "NDC Number                                                       \n",
       "93765256                  2019-01-03  Teva Pharmaceuticals USA   \n",
       "93765356                  2019-01-03  Teva Pharmaceuticals USA   \n",
       "\n",
       "                   Drug Product Description  WAC at Introduction  \\\n",
       "NDC Number                                                         \n",
       "93765256    VARDENAFIL HCL TABLETS 2.5MG 30               704.59   \n",
       "93765356      VARDENAFIL HCL TABLETS 5MG 30               704.59   \n",
       "\n",
       "            Marketing/Pricing Plan Non-Public Indicator  \\\n",
       "NDC Number                                                \n",
       "93765256                                            1.0   \n",
       "93765356                                            1.0   \n",
       "\n",
       "            Estimated Number of Patients  Breakthrough Therapy Indicator  \\\n",
       "NDC Number                                                                 \n",
       "93765256                        101361.0                             NaN   \n",
       "93765356                        101361.0                             NaN   \n",
       "\n",
       "            Priority Review Indicator Acquisition Date  Acquisition Price  \\\n",
       "NDC Number                                                                  \n",
       "93765256                          NaN              NaN                NaN   \n",
       "93765356                          NaN              NaN                NaN   \n",
       "\n",
       "            Acquisition Price Non-Public Indicator  \n",
       "NDC Number                                          \n",
       "93765256                                       NaN  \n",
       "93765356                                       NaN  "
      ]
     },
     "metadata": {},
     "output_type": "display_data"
    },
    {
     "data": {
      "text/plain": [
       "(79, 11)"
      ]
     },
     "execution_count": 52,
     "metadata": {},
     "output_type": "execute_result"
    }
   ],
   "source": [
    "df_extra_inner = df_new.merge(data_a, on=['NDC Number', 'Date Introduced to Market'])\n",
    "display(df_extra_inner.head(2))\n",
    "df_extra_inner.shape"
   ]
  },
  {
   "cell_type": "markdown",
   "metadata": {
    "slideshow": {
     "slide_type": "slide"
    }
   },
   "source": [
    "- Using `.merge()` with the default `how` parameter results in an **INNER JOIN**\n",
    "    - The resulting DataFrame has fewer rows; there were 79 rows with **matching keys**"
   ]
  },
  {
   "cell_type": "markdown",
   "metadata": {
    "slideshow": {
     "slide_type": "slide"
    }
   },
   "source": [
    "#### Right join"
   ]
  },
  {
   "cell_type": "code",
   "execution_count": 53,
   "metadata": {},
   "outputs": [
    {
     "data": {
      "text/html": [
       "<div>\n",
       "<style scoped>\n",
       "    .dataframe tbody tr th:only-of-type {\n",
       "        vertical-align: middle;\n",
       "    }\n",
       "\n",
       "    .dataframe tbody tr th {\n",
       "        vertical-align: top;\n",
       "    }\n",
       "\n",
       "    .dataframe thead th {\n",
       "        text-align: right;\n",
       "    }\n",
       "</style>\n",
       "<table border=\"1\" class=\"dataframe\">\n",
       "  <thead>\n",
       "    <tr style=\"text-align: right;\">\n",
       "      <th></th>\n",
       "      <th>Date Introduced to Market</th>\n",
       "      <th>Manufacturer Name</th>\n",
       "      <th>Drug Product Description</th>\n",
       "      <th>WAC at Introduction</th>\n",
       "      <th>Marketing/Pricing Plan Non-Public Indicator</th>\n",
       "      <th>Estimated Number of Patients</th>\n",
       "      <th>Breakthrough Therapy Indicator</th>\n",
       "      <th>Priority Review Indicator</th>\n",
       "      <th>Acquisition Date</th>\n",
       "      <th>Acquisition Price</th>\n",
       "      <th>Acquisition Price Non-Public Indicator</th>\n",
       "    </tr>\n",
       "    <tr>\n",
       "      <th>NDC Number</th>\n",
       "      <th></th>\n",
       "      <th></th>\n",
       "      <th></th>\n",
       "      <th></th>\n",
       "      <th></th>\n",
       "      <th></th>\n",
       "      <th></th>\n",
       "      <th></th>\n",
       "      <th></th>\n",
       "      <th></th>\n",
       "      <th></th>\n",
       "    </tr>\n",
       "  </thead>\n",
       "  <tbody>\n",
       "    <tr>\n",
       "      <th>93765256</th>\n",
       "      <td>2019-01-03</td>\n",
       "      <td>Teva Pharmaceuticals USA</td>\n",
       "      <td>VARDENAFIL HCL TABLETS 2.5MG 30</td>\n",
       "      <td>704.59</td>\n",
       "      <td>1.0</td>\n",
       "      <td>101361.0</td>\n",
       "      <td>NaN</td>\n",
       "      <td>NaN</td>\n",
       "      <td>NaN</td>\n",
       "      <td>NaN</td>\n",
       "      <td>NaN</td>\n",
       "    </tr>\n",
       "    <tr>\n",
       "      <th>93765356</th>\n",
       "      <td>2019-01-03</td>\n",
       "      <td>Teva Pharmaceuticals USA</td>\n",
       "      <td>VARDENAFIL HCL TABLETS 5MG 30</td>\n",
       "      <td>704.59</td>\n",
       "      <td>1.0</td>\n",
       "      <td>101361.0</td>\n",
       "      <td>NaN</td>\n",
       "      <td>NaN</td>\n",
       "      <td>NaN</td>\n",
       "      <td>NaN</td>\n",
       "      <td>NaN</td>\n",
       "    </tr>\n",
       "  </tbody>\n",
       "</table>\n",
       "</div>"
      ],
      "text/plain": [
       "           Date Introduced to Market         Manufacturer Name  \\\n",
       "NDC Number                                                       \n",
       "93765256                  2019-01-03  Teva Pharmaceuticals USA   \n",
       "93765356                  2019-01-03  Teva Pharmaceuticals USA   \n",
       "\n",
       "                   Drug Product Description  WAC at Introduction  \\\n",
       "NDC Number                                                         \n",
       "93765256    VARDENAFIL HCL TABLETS 2.5MG 30               704.59   \n",
       "93765356      VARDENAFIL HCL TABLETS 5MG 30               704.59   \n",
       "\n",
       "            Marketing/Pricing Plan Non-Public Indicator  \\\n",
       "NDC Number                                                \n",
       "93765256                                            1.0   \n",
       "93765356                                            1.0   \n",
       "\n",
       "            Estimated Number of Patients  Breakthrough Therapy Indicator  \\\n",
       "NDC Number                                                                 \n",
       "93765256                        101361.0                             NaN   \n",
       "93765356                        101361.0                             NaN   \n",
       "\n",
       "            Priority Review Indicator Acquisition Date  Acquisition Price  \\\n",
       "NDC Number                                                                  \n",
       "93765256                          NaN              NaN                NaN   \n",
       "93765356                          NaN              NaN                NaN   \n",
       "\n",
       "            Acquisition Price Non-Public Indicator  \n",
       "NDC Number                                          \n",
       "93765256                                       NaN  \n",
       "93765356                                       NaN  "
      ]
     },
     "metadata": {},
     "output_type": "display_data"
    },
    {
     "data": {
      "text/plain": [
       "(79, 11)"
      ]
     },
     "execution_count": 53,
     "metadata": {},
     "output_type": "execute_result"
    }
   ],
   "source": [
    "df_extra_right = df_new.merge(data_a, how='right', on=['NDC Number', 'Date Introduced to Market'])\n",
    "display(df_extra_right.head(2))\n",
    "df_extra_right.shape"
   ]
  },
  {
   "cell_type": "markdown",
   "metadata": {
    "slideshow": {
     "slide_type": "slide"
    }
   },
   "source": [
    "- Notice how in this instance the resulting DataFrame from a **RIGHT JOIN** is the same as that returned when using an **INNER JOIN**\n",
    "    - This is to be expected if all of the keys in the right DataFrame are present in the left DataFrame"
   ]
  },
  {
   "cell_type": "markdown",
   "metadata": {
    "slideshow": {
     "slide_type": "slide"
    }
   },
   "source": [
    "```Python\n",
    "pd.merge(left, right, how='left', on=['key1', 'key2'])\n",
    "```\n",
    "\n",
    "![left merge](img/left-merge-annotated.png)"
   ]
  },
  {
   "cell_type": "markdown",
   "metadata": {
    "slideshow": {
     "slide_type": "slide"
    }
   },
   "source": [
    "#### pandas .merge() in detail\n",
    "\n",
    "Let's work through the arguments (args) and keyword arguments (kwargs) for the DataFrame `.merge()` method found in the [documentation](https://pandas.pydata.org/pandas-docs/stable/reference/api/pandas.DataFrame.merge.html):\n",
    "\n",
    "```Python\n",
    "DataFrame.merge(self, right, how='inner', \n",
    "                on=None, left_on=None, right_on=None, \n",
    "                left_index=False, right_index=False, \n",
    "                sort=False, suffixes=('_x', '_y'), \n",
    "                copy=True, indicator=False, validate=None)\n",
    "```"
   ]
  },
  {
   "cell_type": "markdown",
   "metadata": {
    "slideshow": {
     "slide_type": "slide"
    }
   },
   "source": [
    "```Python        \n",
    "    DataFrame.merge(self, right,\n",
    "                ```\n",
    "        \n",
    "- `self` refers to the **DataFrame** on which the method is being called, and is passed automatically to it; this DataFrame can be considered the **left** circle in each of the previous Venn diagrams\n",
    "- `right` refers to the other **DataFrame** which we want to join with the original (left) DataFrame, and is represented by the right circle in the diagrams"
   ]
  },
  {
   "cell_type": "markdown",
   "metadata": {
    "slideshow": {
     "slide_type": "slide"
    }
   },
   "source": [
    "```Python        \n",
    "    DataFrame.merge(self, right, how='inner',\n",
    "                ```\n",
    "\n",
    "- `how` is the first **optional parameter** or **keyword argument**, all of which have default values\n",
    "- The value given for `how` will determine how pandas attempts to **join** the two DataFrames\n",
    "- In this case `inner` is the default value, which means that pandas will attempt an **inner join**"
   ]
  },
  {
   "cell_type": "markdown",
   "metadata": {
    "slideshow": {
     "slide_type": "slide"
    }
   },
   "source": [
    "```Python\n",
    "DataFrame.merge(self, right, how='inner', \n",
    "                on=None, left_on=None, right_on=None, \n",
    "                left_index=False, right_index=False, \n",
    "                ```\n",
    "    \n",
    "- The next parameters tell pandas which column(s) in each DataFrame contain(s) the **key** with which we want to join them\n",
    "    - `on`, `left_on` and `right_on` can all take either a single label or a list of labels; where more than one label is used, **the values in all given columns in both DataFrames must match** for rows to be associated\n",
    "    - `left_index` and `right_index` take Boolean values"
   ]
  },
  {
   "cell_type": "markdown",
   "metadata": {
    "slideshow": {
     "slide_type": "slide"
    }
   },
   "source": [
    "- `on` gives us a way to associate the DataFrames using a single argument; useful if the key is in columns or indexes with the **same label in both DataFrames**\n",
    "- if we don't use `on`, then we need to provide the key for each DataFrame separately:\n",
    "    - For the **original** (left) DataFrame provide either `left_on=` with label(s) or `left_index=True`\n",
    "    - For the **additional** (right) DataFrame provide either `right_on=` with label(s) or `right_index=True`"
   ]
  },
  {
   "cell_type": "markdown",
   "metadata": {
    "slideshow": {
     "slide_type": "slide"
    }
   },
   "source": [
    "```Python\n",
    "DataFrame.merge(self, right, how='inner', \n",
    "                on=None, left_on=None, right_on=None, \n",
    "                left_index=False, right_index=False, \n",
    "                sort=False, suffixes=('_x', '_y'), \n",
    "```\n",
    "\n",
    "- `sort=True` would **sort** the resulting DataFrame by the **key**\n",
    "- `suffixes` will append the given strings to any **column labels present in both DataFrames** (but not part of the key) so that they can be distinguished in the new DataFrame\n",
    "    - **Consider adding these columns to the key** if they contain identical values; they will then only appear once in the new DataFrame"
   ]
  },
  {
   "cell_type": "markdown",
   "metadata": {
    "slideshow": {
     "slide_type": "slide"
    }
   },
   "source": [
    "```Python\n",
    "DataFrame.merge(self, right, how='inner', \n",
    "                on=None, left_on=None, right_on=None, \n",
    "                left_index=False, right_index=False, \n",
    "                sort=False, suffixes=('_x', '_y'), \n",
    "                copy=True, indicator=False, validate=None)\n",
    "```    \n",
    "- It's less likely that you will want to modify these keyword arguments, but:\n",
    "    - `copy=False` could be used help to **save memory usage**\n",
    "    - `indicator=True` adds a column giving information about the **source of each row** in relation to the join\n",
    "    - `validate` allows checking of whether the merge is of a **specified type**, such as one-to-many, many-to-one"
   ]
  },
  {
   "cell_type": "markdown",
   "metadata": {
    "slideshow": {
     "slide_type": "slide"
    }
   },
   "source": [
    "- As always, remember that you can and should refer to the [documentation](https://pandas.pydata.org/pandas-docs/stable/reference/api/pandas.DataFrame.merge.html) if:\n",
    "    - You have an **unusual scenario** to deal with or your **output is not as expected**\n",
    "    - You regularly use a given method - the **optional parameters** often provide a quick way to **carry out common further processing tasks**"
   ]
  },
  {
   "cell_type": "markdown",
   "metadata": {
    "slideshow": {
     "slide_type": "slide"
    }
   },
   "source": [
    "<img src=\"img/jupyter.png\" width=\"200\">\n",
    "\n",
    "Now open the following workbook: `processing-pandas-workbook.ipynb`"
   ]
  },
  {
   "cell_type": "markdown",
   "metadata": {
    "slideshow": {
     "slide_type": "slide"
    }
   },
   "source": [
    "### Data Preparation\n",
    "\n",
    "Data  **pre-processing** or **cleaning** is often required to get our raw data into a more usable state:\n",
    "\n",
    "- **Removal** of data not required for our task\n",
    "- **Conversion** of values to an appropriate data type\n",
    "- Checking for **missing values** and **fixing errors**"
   ]
  },
  {
   "cell_type": "markdown",
   "metadata": {
    "slideshow": {
     "slide_type": "slide"
    }
   },
   "source": [
    "#### Removal of superfluous data\n",
    "\n",
    "We can use methods and syntax previously seen to reduce the number of rows and columns in our dataset."
   ]
  },
  {
   "cell_type": "code",
   "execution_count": 55,
   "metadata": {
    "slideshow": {
     "slide_type": "-"
    }
   },
   "outputs": [
    {
     "data": {
      "text/html": [
       "<div>\n",
       "<style scoped>\n",
       "    .dataframe tbody tr th:only-of-type {\n",
       "        vertical-align: middle;\n",
       "    }\n",
       "\n",
       "    .dataframe tbody tr th {\n",
       "        vertical-align: top;\n",
       "    }\n",
       "\n",
       "    .dataframe thead th {\n",
       "        text-align: right;\n",
       "    }\n",
       "</style>\n",
       "<table border=\"1\" class=\"dataframe\">\n",
       "  <thead>\n",
       "    <tr style=\"text-align: right;\">\n",
       "      <th></th>\n",
       "      <th>Manufacturer Name</th>\n",
       "      <th>Drug Product Description</th>\n",
       "      <th>Date Introduced to Market</th>\n",
       "      <th>WAC at Introduction</th>\n",
       "      <th>Marketing/Pricing Plan Description</th>\n",
       "      <th>Marketing/Pricing Plan Non-Public Indicator</th>\n",
       "      <th>Estimated Number of Patients</th>\n",
       "      <th>Breakthrough Therapy Indicator</th>\n",
       "      <th>Priority Review Indicator</th>\n",
       "      <th>Acquisition Date</th>\n",
       "      <th>Acquisition Price</th>\n",
       "      <th>Acquisition Price Non-Public Indicator</th>\n",
       "      <th>Acquisition Price Comment</th>\n",
       "      <th>General Comments</th>\n",
       "      <th>Supporting Documents</th>\n",
       "    </tr>\n",
       "    <tr>\n",
       "      <th>NDC Number</th>\n",
       "      <th></th>\n",
       "      <th></th>\n",
       "      <th></th>\n",
       "      <th></th>\n",
       "      <th></th>\n",
       "      <th></th>\n",
       "      <th></th>\n",
       "      <th></th>\n",
       "      <th></th>\n",
       "      <th></th>\n",
       "      <th></th>\n",
       "      <th></th>\n",
       "      <th></th>\n",
       "      <th></th>\n",
       "      <th></th>\n",
       "    </tr>\n",
       "  </thead>\n",
       "  <tbody>\n",
       "    <tr>\n",
       "      <th>47335093640</th>\n",
       "      <td>SUN PHARMACEUTICALS</td>\n",
       "      <td>Leuprolide Acetate Injection 1Mg/0.2Ml, 2.8Ml</td>\n",
       "      <td>2019-03-01</td>\n",
       "      <td>705.67</td>\n",
       "      <td>NaN</td>\n",
       "      <td>1.0</td>\n",
       "      <td>NaN</td>\n",
       "      <td>NaN</td>\n",
       "      <td>NaN</td>\n",
       "      <td>NaN</td>\n",
       "      <td>NaN</td>\n",
       "      <td>NaN</td>\n",
       "      <td>NaN</td>\n",
       "      <td>ESTIMATED_PATIENTS: unknown to Sun; MARKETING_...</td>\n",
       "      <td>NaN</td>\n",
       "    </tr>\n",
       "  </tbody>\n",
       "</table>\n",
       "</div>"
      ],
      "text/plain": [
       "               Manufacturer Name  \\\n",
       "NDC Number                         \n",
       "47335093640  SUN PHARMACEUTICALS   \n",
       "\n",
       "                                  Drug Product Description  \\\n",
       "NDC Number                                                   \n",
       "47335093640  Leuprolide Acetate Injection 1Mg/0.2Ml, 2.8Ml   \n",
       "\n",
       "            Date Introduced to Market  WAC at Introduction  \\\n",
       "NDC Number                                                   \n",
       "47335093640                2019-03-01               705.67   \n",
       "\n",
       "            Marketing/Pricing Plan Description  \\\n",
       "NDC Number                                       \n",
       "47335093640                                NaN   \n",
       "\n",
       "             Marketing/Pricing Plan Non-Public Indicator  \\\n",
       "NDC Number                                                 \n",
       "47335093640                                          1.0   \n",
       "\n",
       "             Estimated Number of Patients  Breakthrough Therapy Indicator  \\\n",
       "NDC Number                                                                  \n",
       "47335093640                           NaN                             NaN   \n",
       "\n",
       "             Priority Review Indicator Acquisition Date  Acquisition Price  \\\n",
       "NDC Number                                                                   \n",
       "47335093640                        NaN              NaN                NaN   \n",
       "\n",
       "             Acquisition Price Non-Public Indicator Acquisition Price Comment  \\\n",
       "NDC Number                                                                      \n",
       "47335093640                                     NaN                       NaN   \n",
       "\n",
       "                                              General Comments  \\\n",
       "NDC Number                                                       \n",
       "47335093640  ESTIMATED_PATIENTS: unknown to Sun; MARKETING_...   \n",
       "\n",
       "            Supporting Documents  \n",
       "NDC Number                        \n",
       "47335093640                  NaN  "
      ]
     },
     "execution_count": 55,
     "metadata": {},
     "output_type": "execute_result"
    }
   ],
   "source": [
    "df_data = pd.read_csv('data/drugs.csv', index_col='NDC Number')\n",
    "df_data.head(1)"
   ]
  },
  {
   "cell_type": "code",
   "execution_count": 56,
   "metadata": {
    "slideshow": {
     "slide_type": "slide"
    }
   },
   "outputs": [
    {
     "data": {
      "text/html": [
       "<div>\n",
       "<style scoped>\n",
       "    .dataframe tbody tr th:only-of-type {\n",
       "        vertical-align: middle;\n",
       "    }\n",
       "\n",
       "    .dataframe tbody tr th {\n",
       "        vertical-align: top;\n",
       "    }\n",
       "\n",
       "    .dataframe thead th {\n",
       "        text-align: right;\n",
       "    }\n",
       "</style>\n",
       "<table border=\"1\" class=\"dataframe\">\n",
       "  <thead>\n",
       "    <tr style=\"text-align: right;\">\n",
       "      <th></th>\n",
       "      <th>Manufacturer Name</th>\n",
       "      <th>Drug Product Description</th>\n",
       "      <th>WAC at Introduction</th>\n",
       "      <th>Marketing/Pricing Plan Non-Public Indicator</th>\n",
       "      <th>Estimated Number of Patients</th>\n",
       "      <th>Breakthrough Therapy Indicator</th>\n",
       "      <th>Priority Review Indicator</th>\n",
       "      <th>Acquisition Price Non-Public Indicator</th>\n",
       "    </tr>\n",
       "    <tr>\n",
       "      <th>NDC Number</th>\n",
       "      <th></th>\n",
       "      <th></th>\n",
       "      <th></th>\n",
       "      <th></th>\n",
       "      <th></th>\n",
       "      <th></th>\n",
       "      <th></th>\n",
       "      <th></th>\n",
       "    </tr>\n",
       "  </thead>\n",
       "  <tbody>\n",
       "    <tr>\n",
       "      <th>47335093640</th>\n",
       "      <td>SUN PHARMACEUTICALS</td>\n",
       "      <td>Leuprolide Acetate Injection 1Mg/0.2Ml, 2.8Ml</td>\n",
       "      <td>705.67</td>\n",
       "      <td>1.0</td>\n",
       "      <td>NaN</td>\n",
       "      <td>NaN</td>\n",
       "      <td>NaN</td>\n",
       "      <td>NaN</td>\n",
       "    </tr>\n",
       "  </tbody>\n",
       "</table>\n",
       "</div>"
      ],
      "text/plain": [
       "               Manufacturer Name  \\\n",
       "NDC Number                         \n",
       "47335093640  SUN PHARMACEUTICALS   \n",
       "\n",
       "                                  Drug Product Description  \\\n",
       "NDC Number                                                   \n",
       "47335093640  Leuprolide Acetate Injection 1Mg/0.2Ml, 2.8Ml   \n",
       "\n",
       "             WAC at Introduction  Marketing/Pricing Plan Non-Public Indicator  \\\n",
       "NDC Number                                                                      \n",
       "47335093640               705.67                                          1.0   \n",
       "\n",
       "             Estimated Number of Patients  Breakthrough Therapy Indicator  \\\n",
       "NDC Number                                                                  \n",
       "47335093640                           NaN                             NaN   \n",
       "\n",
       "             Priority Review Indicator  Acquisition Price Non-Public Indicator  \n",
       "NDC Number                                                                      \n",
       "47335093640                        NaN                                     NaN  "
      ]
     },
     "execution_count": 56,
     "metadata": {},
     "output_type": "execute_result"
    }
   ],
   "source": [
    "cols_to_drop = ['Date Introduced to Market', 'Acquisition Date', \\\n",
    "                'Acquisition Price','Marketing/Pricing Plan Description',\\\n",
    "                'Acquisition Price Comment', 'General Comments', \\\n",
    "                'Supporting Documents']\n",
    "\n",
    "df_cols = df_data.drop(cols_to_drop, axis=1)\n",
    "df_cols.head(1)"
   ]
  },
  {
   "cell_type": "markdown",
   "metadata": {
    "slideshow": {
     "slide_type": "-"
    }
   },
   "source": [
    "- The DataFrame `.drop()` method allows us to drop any columns (`axis=1`) which are not required"
   ]
  },
  {
   "cell_type": "code",
   "execution_count": 57,
   "metadata": {
    "slideshow": {
     "slide_type": "slide"
    }
   },
   "outputs": [
    {
     "data": {
      "text/plain": [
       "(206, 8)"
      ]
     },
     "metadata": {},
     "output_type": "display_data"
    },
    {
     "data": {
      "text/plain": [
       "(204, 8)"
      ]
     },
     "execution_count": 57,
     "metadata": {},
     "output_type": "execute_result"
    }
   ],
   "source": [
    "df_sub = df_cols[df_cols['Manufacturer Name']!='Kyowa Kirin, Inc.'].copy()\n",
    "display(df_cols.shape)\n",
    "df_sub.shape"
   ]
  },
  {
   "cell_type": "markdown",
   "metadata": {},
   "source": [
    "- We can remove rows which have particular values in a given column\n",
    "- Using `.copy()` ensures that `df_sub` is a distinct object in memory and that subsequent changes to it will not affect the original DataFrame"
   ]
  },
  {
   "cell_type": "markdown",
   "metadata": {
    "slideshow": {
     "slide_type": "slide"
    }
   },
   "source": [
    "#### Making data more usable  \n",
    "\n",
    "We may encounter datasets where particular states or values are represented in a way which are **not suitable or optimal for analysis** using our chosen tools (such as pandas and Python), for example:\n",
    "\n",
    "- Boolean values are **represented differently** (`Yes` | `No` or `1` | `0`)\n",
    "- Percentages have **inconsistent formatting** (`0.42` or `42%`)\n",
    "- Ambiguous dates have been **misinterpreted** (`dd-mm-yy` or `mm-dd-yy`)"
   ]
  },
  {
   "cell_type": "markdown",
   "metadata": {
    "slideshow": {
     "slide_type": "slide"
    }
   },
   "source": [
    "After examining the dataset we notice that all of the `Indicator` columns contain values which are either `1.0` or `NaN`; we decide that replacing the `NaN` values with zeros will help with our analysis:"
   ]
  },
  {
   "cell_type": "code",
   "execution_count": 58,
   "metadata": {},
   "outputs": [
    {
     "data": {
      "text/plain": [
       "Index(['Manufacturer Name', 'Drug Product Description', 'WAC at Introduction',\n",
       "       'Marketing/Pricing Plan Non-Public Indicator',\n",
       "       'Estimated Number of Patients', 'Breakthrough Therapy Indicator',\n",
       "       'Priority Review Indicator', 'Acquisition Price Non-Public Indicator'],\n",
       "      dtype='object')"
      ]
     },
     "execution_count": 58,
     "metadata": {},
     "output_type": "execute_result"
    }
   ],
   "source": [
    "df_sub.columns"
   ]
  },
  {
   "cell_type": "code",
   "execution_count": 59,
   "metadata": {
    "slideshow": {
     "slide_type": "-"
    }
   },
   "outputs": [
    {
     "data": {
      "text/html": [
       "<div>\n",
       "<style scoped>\n",
       "    .dataframe tbody tr th:only-of-type {\n",
       "        vertical-align: middle;\n",
       "    }\n",
       "\n",
       "    .dataframe tbody tr th {\n",
       "        vertical-align: top;\n",
       "    }\n",
       "\n",
       "    .dataframe thead th {\n",
       "        text-align: right;\n",
       "    }\n",
       "</style>\n",
       "<table border=\"1\" class=\"dataframe\">\n",
       "  <thead>\n",
       "    <tr style=\"text-align: right;\">\n",
       "      <th></th>\n",
       "      <th>Manufacturer Name</th>\n",
       "      <th>Drug Product Description</th>\n",
       "      <th>WAC at Introduction</th>\n",
       "      <th>Marketing/Pricing Plan Non-Public Indicator</th>\n",
       "      <th>Estimated Number of Patients</th>\n",
       "      <th>Breakthrough Therapy Indicator</th>\n",
       "      <th>Priority Review Indicator</th>\n",
       "      <th>Acquisition Price Non-Public Indicator</th>\n",
       "    </tr>\n",
       "    <tr>\n",
       "      <th>NDC Number</th>\n",
       "      <th></th>\n",
       "      <th></th>\n",
       "      <th></th>\n",
       "      <th></th>\n",
       "      <th></th>\n",
       "      <th></th>\n",
       "      <th></th>\n",
       "      <th></th>\n",
       "    </tr>\n",
       "  </thead>\n",
       "  <tbody>\n",
       "    <tr>\n",
       "      <th>47335093640</th>\n",
       "      <td>SUN PHARMACEUTICALS</td>\n",
       "      <td>Leuprolide Acetate Injection 1Mg/0.2Ml, 2.8Ml</td>\n",
       "      <td>705.67</td>\n",
       "      <td>1</td>\n",
       "      <td>NaN</td>\n",
       "      <td>0</td>\n",
       "      <td>0</td>\n",
       "      <td>0</td>\n",
       "    </tr>\n",
       "    <tr>\n",
       "      <th>47335023683</th>\n",
       "      <td>SUN PHARMACEUTICALS</td>\n",
       "      <td>Ambrisentan 5 mg Tabs 30ct</td>\n",
       "      <td>7500.00</td>\n",
       "      <td>0</td>\n",
       "      <td>0.0</td>\n",
       "      <td>0</td>\n",
       "      <td>0</td>\n",
       "      <td>0</td>\n",
       "    </tr>\n",
       "  </tbody>\n",
       "</table>\n",
       "</div>"
      ],
      "text/plain": [
       "               Manufacturer Name  \\\n",
       "NDC Number                         \n",
       "47335093640  SUN PHARMACEUTICALS   \n",
       "47335023683  SUN PHARMACEUTICALS   \n",
       "\n",
       "                                  Drug Product Description  \\\n",
       "NDC Number                                                   \n",
       "47335093640  Leuprolide Acetate Injection 1Mg/0.2Ml, 2.8Ml   \n",
       "47335023683                     Ambrisentan 5 mg Tabs 30ct   \n",
       "\n",
       "             WAC at Introduction  Marketing/Pricing Plan Non-Public Indicator  \\\n",
       "NDC Number                                                                      \n",
       "47335093640               705.67                                            1   \n",
       "47335023683              7500.00                                            0   \n",
       "\n",
       "             Estimated Number of Patients  Breakthrough Therapy Indicator  \\\n",
       "NDC Number                                                                  \n",
       "47335093640                           NaN                               0   \n",
       "47335023683                           0.0                               0   \n",
       "\n",
       "             Priority Review Indicator  Acquisition Price Non-Public Indicator  \n",
       "NDC Number                                                                      \n",
       "47335093640                          0                                       0  \n",
       "47335023683                          0                                       0  "
      ]
     },
     "execution_count": 59,
     "metadata": {},
     "output_type": "execute_result"
    }
   ],
   "source": [
    "indicator_columns = df_sub.columns[df_sub.columns.str.contains(\"Indicator\")]\n",
    "df_sub[indicator_columns] = df_sub[indicator_columns].fillna(0).astype(int)\n",
    "df_sub.head(2)"
   ]
  },
  {
   "cell_type": "markdown",
   "metadata": {
    "slideshow": {
     "slide_type": "slide"
    }
   },
   "source": [
    "- We used the `.columns` attribute to access the column labels, and the `.contains()` method on the string (`.str`) of each one to identify those which contain `'Indicator'`\n",
    "- The `.fillna()` method replaced the `NaN` values with zeros in the identified `indicator_columns`\n",
    "- `.astype(int)` makes our DataFrame more readable and less ambiguous "
   ]
  },
  {
   "cell_type": "markdown",
   "metadata": {
    "slideshow": {
     "slide_type": "slide"
    }
   },
   "source": [
    "We also notice that in the `Estimated Number of Patients` column we see both `NaN` values and `0.0` values:"
   ]
  },
  {
   "cell_type": "code",
   "execution_count": 60,
   "metadata": {
    "slideshow": {
     "slide_type": "-"
    }
   },
   "outputs": [
    {
     "data": {
      "text/plain": [
       "73"
      ]
     },
     "metadata": {},
     "output_type": "display_data"
    },
    {
     "data": {
      "text/plain": [
       "25"
      ]
     },
     "execution_count": 60,
     "metadata": {},
     "output_type": "execute_result"
    }
   ],
   "source": [
    "display(df_sub['Estimated Number of Patients'].isna().sum())\n",
    "df_sub[df_sub['Estimated Number of Patients'] == 0].shape[0]"
   ]
  },
  {
   "cell_type": "markdown",
   "metadata": {
    "slideshow": {
     "slide_type": "slide"
    }
   },
   "source": [
    "We determine that the `0.0` values should in fact be `NaN` values, because we assume they must be missing (rather than there being an expectation at `Estimated Number of Patients` will actually be zero):"
   ]
  },
  {
   "cell_type": "code",
   "execution_count": 61,
   "metadata": {
    "scrolled": true
   },
   "outputs": [
    {
     "data": {
      "text/html": [
       "<div>\n",
       "<style scoped>\n",
       "    .dataframe tbody tr th:only-of-type {\n",
       "        vertical-align: middle;\n",
       "    }\n",
       "\n",
       "    .dataframe tbody tr th {\n",
       "        vertical-align: top;\n",
       "    }\n",
       "\n",
       "    .dataframe thead th {\n",
       "        text-align: right;\n",
       "    }\n",
       "</style>\n",
       "<table border=\"1\" class=\"dataframe\">\n",
       "  <thead>\n",
       "    <tr style=\"text-align: right;\">\n",
       "      <th></th>\n",
       "      <th>Manufacturer Name</th>\n",
       "      <th>Drug Product Description</th>\n",
       "      <th>WAC at Introduction</th>\n",
       "      <th>Marketing/Pricing Plan Non-Public Indicator</th>\n",
       "      <th>Estimated Number of Patients</th>\n",
       "      <th>Breakthrough Therapy Indicator</th>\n",
       "      <th>Priority Review Indicator</th>\n",
       "      <th>Acquisition Price Non-Public Indicator</th>\n",
       "    </tr>\n",
       "    <tr>\n",
       "      <th>NDC Number</th>\n",
       "      <th></th>\n",
       "      <th></th>\n",
       "      <th></th>\n",
       "      <th></th>\n",
       "      <th></th>\n",
       "      <th></th>\n",
       "      <th></th>\n",
       "      <th></th>\n",
       "    </tr>\n",
       "  </thead>\n",
       "  <tbody>\n",
       "    <tr>\n",
       "      <th>47335093640</th>\n",
       "      <td>SUN PHARMACEUTICALS</td>\n",
       "      <td>Leuprolide Acetate Injection 1Mg/0.2Ml, 2.8Ml</td>\n",
       "      <td>705.67</td>\n",
       "      <td>1</td>\n",
       "      <td>NaN</td>\n",
       "      <td>0</td>\n",
       "      <td>0</td>\n",
       "      <td>0</td>\n",
       "    </tr>\n",
       "    <tr>\n",
       "      <th>47335023683</th>\n",
       "      <td>SUN PHARMACEUTICALS</td>\n",
       "      <td>Ambrisentan 5 mg Tabs 30ct</td>\n",
       "      <td>7500.00</td>\n",
       "      <td>0</td>\n",
       "      <td>NaN</td>\n",
       "      <td>0</td>\n",
       "      <td>0</td>\n",
       "      <td>0</td>\n",
       "    </tr>\n",
       "    <tr>\n",
       "      <th>47335023783</th>\n",
       "      <td>SUN PHARMACEUTICALS</td>\n",
       "      <td>Ambrisentan 10 mg Tabs 30ct</td>\n",
       "      <td>7500.00</td>\n",
       "      <td>0</td>\n",
       "      <td>NaN</td>\n",
       "      <td>0</td>\n",
       "      <td>0</td>\n",
       "      <td>0</td>\n",
       "    </tr>\n",
       "  </tbody>\n",
       "</table>\n",
       "</div>"
      ],
      "text/plain": [
       "               Manufacturer Name  \\\n",
       "NDC Number                         \n",
       "47335093640  SUN PHARMACEUTICALS   \n",
       "47335023683  SUN PHARMACEUTICALS   \n",
       "47335023783  SUN PHARMACEUTICALS   \n",
       "\n",
       "                                  Drug Product Description  \\\n",
       "NDC Number                                                   \n",
       "47335093640  Leuprolide Acetate Injection 1Mg/0.2Ml, 2.8Ml   \n",
       "47335023683                     Ambrisentan 5 mg Tabs 30ct   \n",
       "47335023783                    Ambrisentan 10 mg Tabs 30ct   \n",
       "\n",
       "             WAC at Introduction  Marketing/Pricing Plan Non-Public Indicator  \\\n",
       "NDC Number                                                                      \n",
       "47335093640               705.67                                            1   \n",
       "47335023683              7500.00                                            0   \n",
       "47335023783              7500.00                                            0   \n",
       "\n",
       "             Estimated Number of Patients  Breakthrough Therapy Indicator  \\\n",
       "NDC Number                                                                  \n",
       "47335093640                           NaN                               0   \n",
       "47335023683                           NaN                               0   \n",
       "47335023783                           NaN                               0   \n",
       "\n",
       "             Priority Review Indicator  Acquisition Price Non-Public Indicator  \n",
       "NDC Number                                                                      \n",
       "47335093640                          0                                       0  \n",
       "47335023683                          0                                       0  \n",
       "47335023783                          0                                       0  "
      ]
     },
     "execution_count": 61,
     "metadata": {},
     "output_type": "execute_result"
    }
   ],
   "source": [
    "df_sub['Estimated Number of Patients'] = df_sub['Estimated Number of Patients'].replace(0, np.nan)\n",
    "df_clean = df_sub.copy()\n",
    "df_clean.head(3)"
   ]
  },
  {
   "cell_type": "markdown",
   "metadata": {
    "slideshow": {
     "slide_type": "slide"
    }
   },
   "source": [
    "- We used the `.replace()` method to replace zeros with `NaN` values, which can be created using `np.nan`\n",
    "    - `np` is the alias we used when importing `numpy` earlier\n",
    "    - the `.nan` attribute defines `NaN` values\n",
    "- We assigned a copy of the cleaned DataFrame to `df_clean`"
   ]
  },
  {
   "cell_type": "markdown",
   "metadata": {
    "slideshow": {
     "slide_type": "slide"
    }
   },
   "source": [
    "<img src=\"img/jupyter.png\" width=\"200\">\n",
    "\n",
    "Now open the following workbook: `processing-pandas-workbook.ipynb`"
   ]
  },
  {
   "cell_type": "markdown",
   "metadata": {
    "slideshow": {
     "slide_type": "slide"
    }
   },
   "source": [
    "#### Using the pandas `.apply()` method\n",
    "\n",
    "The `.apply()` method allows us to **apply our own functions** to our data\n",
    "\n",
    "- Typically this is used to create a new column or update an existing one with the results of calling the function with an existing column of values"
   ]
  },
  {
   "cell_type": "code",
   "execution_count": 74,
   "metadata": {
    "slideshow": {
     "slide_type": "slide"
    }
   },
   "outputs": [
    {
     "data": {
      "text/html": [
       "<div>\n",
       "<style scoped>\n",
       "    .dataframe tbody tr th:only-of-type {\n",
       "        vertical-align: middle;\n",
       "    }\n",
       "\n",
       "    .dataframe tbody tr th {\n",
       "        vertical-align: top;\n",
       "    }\n",
       "\n",
       "    .dataframe thead th {\n",
       "        text-align: right;\n",
       "    }\n",
       "</style>\n",
       "<table border=\"1\" class=\"dataframe\">\n",
       "  <thead>\n",
       "    <tr style=\"text-align: right;\">\n",
       "      <th></th>\n",
       "      <th>length (cm)</th>\n",
       "      <th>width (cm)</th>\n",
       "      <th>length (m)</th>\n",
       "      <th>width (m)</th>\n",
       "      <th>area (m2)</th>\n",
       "    </tr>\n",
       "  </thead>\n",
       "  <tbody>\n",
       "    <tr>\n",
       "      <th>0</th>\n",
       "      <td>500</td>\n",
       "      <td>450</td>\n",
       "      <td>5.0</td>\n",
       "      <td>4.5</td>\n",
       "      <td>22.5</td>\n",
       "    </tr>\n",
       "    <tr>\n",
       "      <th>1</th>\n",
       "      <td>220</td>\n",
       "      <td>250</td>\n",
       "      <td>2.2</td>\n",
       "      <td>2.5</td>\n",
       "      <td>5.5</td>\n",
       "    </tr>\n",
       "    <tr>\n",
       "      <th>2</th>\n",
       "      <td>150</td>\n",
       "      <td>800</td>\n",
       "      <td>1.5</td>\n",
       "      <td>8.0</td>\n",
       "      <td>12.0</td>\n",
       "    </tr>\n",
       "  </tbody>\n",
       "</table>\n",
       "</div>"
      ],
      "text/plain": [
       "   length (cm)  width (cm)  length (m)  width (m)  area (m2)\n",
       "0          500         450         5.0        4.5       22.5\n",
       "1          220         250         2.2        2.5        5.5\n",
       "2          150         800         1.5        8.0       12.0"
      ]
     },
     "execution_count": 74,
     "metadata": {},
     "output_type": "execute_result"
    }
   ],
   "source": [
    "from dataframes import dimensions\n",
    "dimensions"
   ]
  },
  {
   "cell_type": "markdown",
   "metadata": {},
   "source": [
    "We'd like to have the dimensions in metres rather than centimetres. Here's a function we can apply:"
   ]
  },
  {
   "cell_type": "code",
   "execution_count": 75,
   "metadata": {},
   "outputs": [],
   "source": [
    "def cm_to_m(cm):    \n",
    "    return cm / 100"
   ]
  },
  {
   "cell_type": "code",
   "execution_count": 76,
   "metadata": {
    "slideshow": {
     "slide_type": "slide"
    }
   },
   "outputs": [
    {
     "data": {
      "text/html": [
       "<div>\n",
       "<style scoped>\n",
       "    .dataframe tbody tr th:only-of-type {\n",
       "        vertical-align: middle;\n",
       "    }\n",
       "\n",
       "    .dataframe tbody tr th {\n",
       "        vertical-align: top;\n",
       "    }\n",
       "\n",
       "    .dataframe thead th {\n",
       "        text-align: right;\n",
       "    }\n",
       "</style>\n",
       "<table border=\"1\" class=\"dataframe\">\n",
       "  <thead>\n",
       "    <tr style=\"text-align: right;\">\n",
       "      <th></th>\n",
       "      <th>length (cm)</th>\n",
       "      <th>width (cm)</th>\n",
       "      <th>length (m)</th>\n",
       "      <th>width (m)</th>\n",
       "      <th>area (m2)</th>\n",
       "    </tr>\n",
       "  </thead>\n",
       "  <tbody>\n",
       "    <tr>\n",
       "      <th>0</th>\n",
       "      <td>500</td>\n",
       "      <td>450</td>\n",
       "      <td>5.0</td>\n",
       "      <td>4.5</td>\n",
       "      <td>22.5</td>\n",
       "    </tr>\n",
       "    <tr>\n",
       "      <th>1</th>\n",
       "      <td>220</td>\n",
       "      <td>250</td>\n",
       "      <td>2.2</td>\n",
       "      <td>2.5</td>\n",
       "      <td>5.5</td>\n",
       "    </tr>\n",
       "    <tr>\n",
       "      <th>2</th>\n",
       "      <td>150</td>\n",
       "      <td>800</td>\n",
       "      <td>1.5</td>\n",
       "      <td>8.0</td>\n",
       "      <td>12.0</td>\n",
       "    </tr>\n",
       "  </tbody>\n",
       "</table>\n",
       "</div>"
      ],
      "text/plain": [
       "   length (cm)  width (cm)  length (m)  width (m)  area (m2)\n",
       "0          500         450         5.0        4.5       22.5\n",
       "1          220         250         2.2        2.5        5.5\n",
       "2          150         800         1.5        8.0       12.0"
      ]
     },
     "execution_count": 76,
     "metadata": {},
     "output_type": "execute_result"
    }
   ],
   "source": [
    "dimensions[['length (m)', 'width (m)']] = dimensions[['length (cm)', 'width (cm)']].apply(cm_to_m)\n",
    "dimensions"
   ]
  },
  {
   "cell_type": "markdown",
   "metadata": {},
   "source": [
    "- We have applied the function to two columns, assigning the results to two new columns"
   ]
  },
  {
   "cell_type": "markdown",
   "metadata": {
    "slideshow": {
     "slide_type": "slide"
    }
   },
   "source": [
    "We can also use `.apply()` using multiple values from a given row of a DataFrame:"
   ]
  },
  {
   "cell_type": "code",
   "execution_count": 77,
   "metadata": {},
   "outputs": [],
   "source": [
    "def area(row):\n",
    "    return row['length (m)'] * row['width (m)']"
   ]
  },
  {
   "cell_type": "code",
   "execution_count": 78,
   "metadata": {},
   "outputs": [
    {
     "data": {
      "text/html": [
       "<div>\n",
       "<style scoped>\n",
       "    .dataframe tbody tr th:only-of-type {\n",
       "        vertical-align: middle;\n",
       "    }\n",
       "\n",
       "    .dataframe tbody tr th {\n",
       "        vertical-align: top;\n",
       "    }\n",
       "\n",
       "    .dataframe thead th {\n",
       "        text-align: right;\n",
       "    }\n",
       "</style>\n",
       "<table border=\"1\" class=\"dataframe\">\n",
       "  <thead>\n",
       "    <tr style=\"text-align: right;\">\n",
       "      <th></th>\n",
       "      <th>length (cm)</th>\n",
       "      <th>width (cm)</th>\n",
       "      <th>length (m)</th>\n",
       "      <th>width (m)</th>\n",
       "      <th>area (m2)</th>\n",
       "    </tr>\n",
       "  </thead>\n",
       "  <tbody>\n",
       "    <tr>\n",
       "      <th>0</th>\n",
       "      <td>500</td>\n",
       "      <td>450</td>\n",
       "      <td>5.0</td>\n",
       "      <td>4.5</td>\n",
       "      <td>22.5</td>\n",
       "    </tr>\n",
       "    <tr>\n",
       "      <th>1</th>\n",
       "      <td>220</td>\n",
       "      <td>250</td>\n",
       "      <td>2.2</td>\n",
       "      <td>2.5</td>\n",
       "      <td>5.5</td>\n",
       "    </tr>\n",
       "    <tr>\n",
       "      <th>2</th>\n",
       "      <td>150</td>\n",
       "      <td>800</td>\n",
       "      <td>1.5</td>\n",
       "      <td>8.0</td>\n",
       "      <td>12.0</td>\n",
       "    </tr>\n",
       "  </tbody>\n",
       "</table>\n",
       "</div>"
      ],
      "text/plain": [
       "   length (cm)  width (cm)  length (m)  width (m)  area (m2)\n",
       "0          500         450         5.0        4.5       22.5\n",
       "1          220         250         2.2        2.5        5.5\n",
       "2          150         800         1.5        8.0       12.0"
      ]
     },
     "execution_count": 78,
     "metadata": {},
     "output_type": "execute_result"
    }
   ],
   "source": [
    "dimensions['area (m2)'] = dimensions.apply(area, axis=1)\n",
    "dimensions"
   ]
  },
  {
   "cell_type": "markdown",
   "metadata": {},
   "source": [
    "- Notice that here the function relies on those columns being present in the DataFrame\n",
    "- `axis=1` is requred to do this in a column-wise manner"
   ]
  },
  {
   "cell_type": "markdown",
   "metadata": {
    "slideshow": {
     "slide_type": "slide"
    }
   },
   "source": [
    "In our drugs example, we notice that we have several instances where multiple entries in `Drug Product Description` refer to the same drug, but wiith differing dosage levels. We create a function which returns only the first word: "
   ]
  },
  {
   "cell_type": "code",
   "execution_count": 79,
   "metadata": {
    "slideshow": {
     "slide_type": "-"
    }
   },
   "outputs": [],
   "source": [
    "def first_word(description):\n",
    "    \n",
    "    return description.split(' ')[0] if ' ' in description else description"
   ]
  },
  {
   "cell_type": "markdown",
   "metadata": {
    "slideshow": {
     "slide_type": "-"
    }
   },
   "source": [
    "- This function has a single parameter `description` and needs to be called with a string\n",
    "- The `.split()` method will split the string wherever there is a space (`' '`) and then the first element (`[0]`) in the resulting list will be accessed\n",
    "    - In the absence of a space,`description` will be returned"
   ]
  },
  {
   "cell_type": "code",
   "execution_count": 80,
   "metadata": {
    "slideshow": {
     "slide_type": "slide"
    }
   },
   "outputs": [],
   "source": [
    "df_clean['Short Description'] = df_clean['Drug Product Description'].apply(first_word)"
   ]
  },
  {
   "cell_type": "markdown",
   "metadata": {
    "slideshow": {
     "slide_type": "-"
    }
   },
   "source": [
    "- We then used the `.apply()` method to apply our `first_word` function to `Drug Product Description`, creating the new column `Short Description`"
   ]
  },
  {
   "cell_type": "markdown",
   "metadata": {
    "slideshow": {
     "slide_type": "slide"
    }
   },
   "source": [
    "#### Using the `.nunique()` method\n",
    "\n",
    "The `.nunique()` method allows us to identify the **number of unique values** in a Series:"
   ]
  },
  {
   "cell_type": "code",
   "execution_count": 81,
   "metadata": {},
   "outputs": [
    {
     "data": {
      "text/plain": [
       "196"
      ]
     },
     "execution_count": 81,
     "metadata": {},
     "output_type": "execute_result"
    }
   ],
   "source": [
    "df_clean['Drug Product Description'].nunique()"
   ]
  },
  {
   "cell_type": "code",
   "execution_count": 82,
   "metadata": {},
   "outputs": [
    {
     "data": {
      "text/plain": [
       "87"
      ]
     },
     "execution_count": 82,
     "metadata": {},
     "output_type": "execute_result"
    }
   ],
   "source": [
    "df_clean['Short Description'].nunique()"
   ]
  },
  {
   "cell_type": "markdown",
   "metadata": {},
   "source": [
    "In the example, we can see that our new `Short Description` column has less than half the number of unique values."
   ]
  },
  {
   "cell_type": "markdown",
   "metadata": {
    "slideshow": {
     "slide_type": "slide"
    }
   },
   "source": [
    "### Data Grouping and Aggregation\n",
    "\n",
    "- We often need to calculate metrics for **subsets** (or groups) of our data\n",
    "- A dataset can be **split** into **groups** of rows with common values in a given column\n",
    "- **Calculations** can be **applied** to all groups simultaneously\n",
    "- The **results** of these calculations can then be **combined** back together"
   ]
  },
  {
   "cell_type": "markdown",
   "metadata": {
    "slideshow": {
     "slide_type": "slide"
    }
   },
   "source": [
    "![split-apply-combine](img/split-apply-combine.png)\n",
    "*Source: [Github](https://camo.githubusercontent.com/60a1e7e95eaef8f9a99f43335368915eafedda3e/687474703a2f2f7777772e686f66726f652e6e65742f737461743537392f736c696465732f73706c69742d6170706c792d636f6d62696e652e706e67)*"
   ]
  },
  {
   "cell_type": "markdown",
   "metadata": {
    "slideshow": {
     "slide_type": "slide"
    }
   },
   "source": [
    "#### Using the pandas `.groupby()` DataFrame method"
   ]
  },
  {
   "cell_type": "code",
   "execution_count": 63,
   "metadata": {},
   "outputs": [
    {
     "data": {
      "text/html": [
       "<div>\n",
       "<style scoped>\n",
       "    .dataframe tbody tr th:only-of-type {\n",
       "        vertical-align: middle;\n",
       "    }\n",
       "\n",
       "    .dataframe tbody tr th {\n",
       "        vertical-align: top;\n",
       "    }\n",
       "\n",
       "    .dataframe thead th {\n",
       "        text-align: right;\n",
       "    }\n",
       "</style>\n",
       "<table border=\"1\" class=\"dataframe\">\n",
       "  <thead>\n",
       "    <tr style=\"text-align: right;\">\n",
       "      <th></th>\n",
       "      <th>x</th>\n",
       "      <th>y</th>\n",
       "    </tr>\n",
       "  </thead>\n",
       "  <tbody>\n",
       "    <tr>\n",
       "      <th>0</th>\n",
       "      <td>a</td>\n",
       "      <td>2</td>\n",
       "    </tr>\n",
       "    <tr>\n",
       "      <th>1</th>\n",
       "      <td>a</td>\n",
       "      <td>4</td>\n",
       "    </tr>\n",
       "    <tr>\n",
       "      <th>2</th>\n",
       "      <td>b</td>\n",
       "      <td>0</td>\n",
       "    </tr>\n",
       "    <tr>\n",
       "      <th>3</th>\n",
       "      <td>b</td>\n",
       "      <td>5</td>\n",
       "    </tr>\n",
       "    <tr>\n",
       "      <th>4</th>\n",
       "      <td>c</td>\n",
       "      <td>5</td>\n",
       "    </tr>\n",
       "    <tr>\n",
       "      <th>5</th>\n",
       "      <td>c</td>\n",
       "      <td>10</td>\n",
       "    </tr>\n",
       "  </tbody>\n",
       "</table>\n",
       "</div>"
      ],
      "text/plain": [
       "   x   y\n",
       "0  a   2\n",
       "1  a   4\n",
       "2  b   0\n",
       "3  b   5\n",
       "4  c   5\n",
       "5  c  10"
      ]
     },
     "execution_count": 63,
     "metadata": {},
     "output_type": "execute_result"
    }
   ],
   "source": [
    "sac = pd.DataFrame({'x': ['a', 'a', 'b', 'b', 'c', 'c'], 'y': [2, 4, 0, 5, 5, 10]})\n",
    "sac"
   ]
  },
  {
   "cell_type": "code",
   "execution_count": 64,
   "metadata": {
    "slideshow": {
     "slide_type": "slide"
    }
   },
   "outputs": [
    {
     "data": {
      "text/html": [
       "<div>\n",
       "<style scoped>\n",
       "    .dataframe tbody tr th:only-of-type {\n",
       "        vertical-align: middle;\n",
       "    }\n",
       "\n",
       "    .dataframe tbody tr th {\n",
       "        vertical-align: top;\n",
       "    }\n",
       "\n",
       "    .dataframe thead th {\n",
       "        text-align: right;\n",
       "    }\n",
       "</style>\n",
       "<table border=\"1\" class=\"dataframe\">\n",
       "  <thead>\n",
       "    <tr style=\"text-align: right;\">\n",
       "      <th></th>\n",
       "      <th>y</th>\n",
       "    </tr>\n",
       "    <tr>\n",
       "      <th>x</th>\n",
       "      <th></th>\n",
       "    </tr>\n",
       "  </thead>\n",
       "  <tbody>\n",
       "    <tr>\n",
       "      <th>a</th>\n",
       "      <td>3.0</td>\n",
       "    </tr>\n",
       "    <tr>\n",
       "      <th>b</th>\n",
       "      <td>2.5</td>\n",
       "    </tr>\n",
       "    <tr>\n",
       "      <th>c</th>\n",
       "      <td>7.5</td>\n",
       "    </tr>\n",
       "  </tbody>\n",
       "</table>\n",
       "</div>"
      ],
      "text/plain": [
       "     y\n",
       "x     \n",
       "a  3.0\n",
       "b  2.5\n",
       "c  7.5"
      ]
     },
     "execution_count": 64,
     "metadata": {},
     "output_type": "execute_result"
    }
   ],
   "source": [
    "sac.groupby('x')[['y']].mean()"
   ]
  },
  {
   "cell_type": "markdown",
   "metadata": {},
   "source": [
    "*with the `sac` DataFrame, `groupby` column `x` and calculate for column(s) `['y']` the `mean` of each group*"
   ]
  },
  {
   "cell_type": "markdown",
   "metadata": {
    "slideshow": {
     "slide_type": "slide"
    }
   },
   "source": [
    "- In this particular example, the result would be the same with the omission of `[['y']]`; **if no columns are specified, the function is applied to all columns** in the DataFrame\n",
    "\n",
    "- Using **[single parentheses]** is possible when only specifying a **single column** to perform the operation on, but will result in a **Series** rather than a DataFrame being returned"
   ]
  },
  {
   "cell_type": "markdown",
   "metadata": {
    "slideshow": {
     "slide_type": "slide"
    }
   },
   "source": [
    "You're unlikely to need to use the following code snippets in isolation, but let's examine each to help clarify **Split - Apply - Combine**:"
   ]
  },
  {
   "cell_type": "code",
   "execution_count": 65,
   "metadata": {
    "slideshow": {
     "slide_type": "-"
    }
   },
   "outputs": [
    {
     "data": {
      "text/plain": [
       "<pandas.core.groupby.generic.DataFrameGroupBy object at 0x7fe1208e4b10>"
      ]
     },
     "metadata": {},
     "output_type": "display_data"
    },
    {
     "data": {
      "text/plain": [
       "3"
      ]
     },
     "execution_count": 65,
     "metadata": {},
     "output_type": "execute_result"
    }
   ],
   "source": [
    "gb = sac.groupby('x')\n",
    "display(gb)\n",
    "len(gb)"
   ]
  },
  {
   "cell_type": "markdown",
   "metadata": {},
   "source": [
    "- the `.groupby()` method created a **groupby object**, which has a length of `3`, i.e. the number of groups it holds (`a`, `b`, and `c`)"
   ]
  },
  {
   "cell_type": "code",
   "execution_count": 66,
   "metadata": {
    "slideshow": {
     "slide_type": "slide"
    }
   },
   "outputs": [
    {
     "data": {
      "text/html": [
       "<div>\n",
       "<style scoped>\n",
       "    .dataframe tbody tr th:only-of-type {\n",
       "        vertical-align: middle;\n",
       "    }\n",
       "\n",
       "    .dataframe tbody tr th {\n",
       "        vertical-align: top;\n",
       "    }\n",
       "\n",
       "    .dataframe thead th {\n",
       "        text-align: right;\n",
       "    }\n",
       "</style>\n",
       "<table border=\"1\" class=\"dataframe\">\n",
       "  <thead>\n",
       "    <tr style=\"text-align: right;\">\n",
       "      <th></th>\n",
       "      <th>x</th>\n",
       "      <th>y</th>\n",
       "    </tr>\n",
       "  </thead>\n",
       "  <tbody>\n",
       "    <tr>\n",
       "      <th>0</th>\n",
       "      <td>a</td>\n",
       "      <td>2</td>\n",
       "    </tr>\n",
       "    <tr>\n",
       "      <th>1</th>\n",
       "      <td>a</td>\n",
       "      <td>4</td>\n",
       "    </tr>\n",
       "  </tbody>\n",
       "</table>\n",
       "</div>"
      ],
      "text/plain": [
       "   x  y\n",
       "0  a  2\n",
       "1  a  4"
      ]
     },
     "execution_count": 66,
     "metadata": {},
     "output_type": "execute_result"
    }
   ],
   "source": [
    "gb.get_group('a')"
   ]
  },
  {
   "cell_type": "markdown",
   "metadata": {},
   "source": [
    "- The `get_group()` method of a groupby object allows us to access each individual group which has been created"
   ]
  },
  {
   "cell_type": "code",
   "execution_count": 67,
   "metadata": {
    "slideshow": {
     "slide_type": "slide"
    }
   },
   "outputs": [
    {
     "data": {
      "text/plain": [
       "y    3.0\n",
       "dtype: float64"
      ]
     },
     "execution_count": 67,
     "metadata": {},
     "output_type": "execute_result"
    }
   ],
   "source": [
    "gb.get_group('a').mean()"
   ]
  },
  {
   "cell_type": "markdown",
   "metadata": {},
   "source": [
    "- The original `.groupby()` statement applies an operation such as the `.mean()` method used above to each group and **combines the results** into a new DataFrame"
   ]
  },
  {
   "cell_type": "markdown",
   "metadata": {
    "slideshow": {
     "slide_type": "slide"
    }
   },
   "source": [
    "Another example showing a different method (`.count()`) being applied, using a different column to group by:"
   ]
  },
  {
   "cell_type": "code",
   "execution_count": 68,
   "metadata": {
    "slideshow": {
     "slide_type": "-"
    }
   },
   "outputs": [
    {
     "data": {
      "text/html": [
       "<div>\n",
       "<style scoped>\n",
       "    .dataframe tbody tr th:only-of-type {\n",
       "        vertical-align: middle;\n",
       "    }\n",
       "\n",
       "    .dataframe tbody tr th {\n",
       "        vertical-align: top;\n",
       "    }\n",
       "\n",
       "    .dataframe thead th {\n",
       "        text-align: right;\n",
       "    }\n",
       "</style>\n",
       "<table border=\"1\" class=\"dataframe\">\n",
       "  <thead>\n",
       "    <tr style=\"text-align: right;\">\n",
       "      <th></th>\n",
       "      <th>x</th>\n",
       "    </tr>\n",
       "    <tr>\n",
       "      <th>y</th>\n",
       "      <th></th>\n",
       "    </tr>\n",
       "  </thead>\n",
       "  <tbody>\n",
       "    <tr>\n",
       "      <th>0</th>\n",
       "      <td>1</td>\n",
       "    </tr>\n",
       "    <tr>\n",
       "      <th>2</th>\n",
       "      <td>1</td>\n",
       "    </tr>\n",
       "    <tr>\n",
       "      <th>4</th>\n",
       "      <td>1</td>\n",
       "    </tr>\n",
       "    <tr>\n",
       "      <th>5</th>\n",
       "      <td>2</td>\n",
       "    </tr>\n",
       "    <tr>\n",
       "      <th>10</th>\n",
       "      <td>1</td>\n",
       "    </tr>\n",
       "  </tbody>\n",
       "</table>\n",
       "</div>"
      ],
      "text/plain": [
       "    x\n",
       "y    \n",
       "0   1\n",
       "2   1\n",
       "4   1\n",
       "5   2\n",
       "10  1"
      ]
     },
     "execution_count": 68,
     "metadata": {},
     "output_type": "execute_result"
    }
   ],
   "source": [
    "sac.groupby('y')[['x']].count()"
   ]
  },
  {
   "cell_type": "markdown",
   "metadata": {},
   "source": [
    "- The **row index labels** show the **unique values** in column `y` of the original DataFrame, by which the values for column `x` have been grouped"
   ]
  },
  {
   "cell_type": "markdown",
   "metadata": {
    "slideshow": {
     "slide_type": "slide"
    }
   },
   "source": [
    "Here's an example which applies the `.sum()`method to a subset of columns, with rows grouped by `Manufacturer Name`:"
   ]
  },
  {
   "cell_type": "code",
   "execution_count": 69,
   "metadata": {
    "slideshow": {
     "slide_type": "-"
    }
   },
   "outputs": [
    {
     "data": {
      "text/html": [
       "<div>\n",
       "<style scoped>\n",
       "    .dataframe tbody tr th:only-of-type {\n",
       "        vertical-align: middle;\n",
       "    }\n",
       "\n",
       "    .dataframe tbody tr th {\n",
       "        vertical-align: top;\n",
       "    }\n",
       "\n",
       "    .dataframe thead th {\n",
       "        text-align: right;\n",
       "    }\n",
       "</style>\n",
       "<table border=\"1\" class=\"dataframe\">\n",
       "  <thead>\n",
       "    <tr style=\"text-align: right;\">\n",
       "      <th></th>\n",
       "      <th>Priority Review Indicator</th>\n",
       "      <th>Breakthrough Therapy Indicator</th>\n",
       "      <th>Marketing/Pricing Plan Non-Public Indicator</th>\n",
       "      <th>Acquisition Price Non-Public Indicator</th>\n",
       "    </tr>\n",
       "    <tr>\n",
       "      <th>Manufacturer Name</th>\n",
       "      <th></th>\n",
       "      <th></th>\n",
       "      <th></th>\n",
       "      <th></th>\n",
       "    </tr>\n",
       "  </thead>\n",
       "  <tbody>\n",
       "    <tr>\n",
       "      <th>Valeant Pharmaceuticals North America, LLC</th>\n",
       "      <td>0</td>\n",
       "      <td>0</td>\n",
       "      <td>1</td>\n",
       "      <td>0</td>\n",
       "    </tr>\n",
       "    <tr>\n",
       "      <th>ViiV Healthcare</th>\n",
       "      <td>0</td>\n",
       "      <td>0</td>\n",
       "      <td>1</td>\n",
       "      <td>0</td>\n",
       "    </tr>\n",
       "    <tr>\n",
       "      <th>Zydus Pharmaceuticals (USA) Inc.</th>\n",
       "      <td>0</td>\n",
       "      <td>0</td>\n",
       "      <td>8</td>\n",
       "      <td>0</td>\n",
       "    </tr>\n",
       "  </tbody>\n",
       "</table>\n",
       "</div>"
      ],
      "text/plain": [
       "                                            Priority Review Indicator  \\\n",
       "Manufacturer Name                                                       \n",
       "Valeant Pharmaceuticals North America, LLC                          0   \n",
       "ViiV Healthcare                                                     0   \n",
       "Zydus Pharmaceuticals (USA) Inc.                                    0   \n",
       "\n",
       "                                            Breakthrough Therapy Indicator  \\\n",
       "Manufacturer Name                                                            \n",
       "Valeant Pharmaceuticals North America, LLC                               0   \n",
       "ViiV Healthcare                                                          0   \n",
       "Zydus Pharmaceuticals (USA) Inc.                                         0   \n",
       "\n",
       "                                            Marketing/Pricing Plan Non-Public Indicator  \\\n",
       "Manufacturer Name                                                                         \n",
       "Valeant Pharmaceuticals North America, LLC                                            1   \n",
       "ViiV Healthcare                                                                       1   \n",
       "Zydus Pharmaceuticals (USA) Inc.                                                      8   \n",
       "\n",
       "                                            Acquisition Price Non-Public Indicator  \n",
       "Manufacturer Name                                                                   \n",
       "Valeant Pharmaceuticals North America, LLC                                       0  \n",
       "ViiV Healthcare                                                                  0  \n",
       "Zydus Pharmaceuticals (USA) Inc.                                                 0  "
      ]
     },
     "execution_count": 69,
     "metadata": {},
     "output_type": "execute_result"
    }
   ],
   "source": [
    "indicators = df_clean.groupby('Manufacturer Name')\\\n",
    "            [['Priority Review Indicator', \n",
    "              'Breakthrough Therapy Indicator',\n",
    "              'Marketing/Pricing Plan Non-Public Indicator', \n",
    "              'Acquisition Price Non-Public Indicator']]\\\n",
    "            .sum()\n",
    "\n",
    "indicators.tail(3)"
   ]
  },
  {
   "cell_type": "code",
   "execution_count": 70,
   "metadata": {
    "slideshow": {
     "slide_type": "slide"
    }
   },
   "outputs": [
    {
     "data": {
      "text/html": [
       "<div>\n",
       "<style scoped>\n",
       "    .dataframe tbody tr th:only-of-type {\n",
       "        vertical-align: middle;\n",
       "    }\n",
       "\n",
       "    .dataframe tbody tr th {\n",
       "        vertical-align: top;\n",
       "    }\n",
       "\n",
       "    .dataframe thead th {\n",
       "        text-align: right;\n",
       "    }\n",
       "</style>\n",
       "<table border=\"1\" class=\"dataframe\">\n",
       "  <thead>\n",
       "    <tr style=\"text-align: right;\">\n",
       "      <th></th>\n",
       "      <th>Priority</th>\n",
       "      <th>Breakthrough</th>\n",
       "      <th>Marketing</th>\n",
       "      <th>Acquisition</th>\n",
       "    </tr>\n",
       "    <tr>\n",
       "      <th>Manufacturer Name</th>\n",
       "      <th></th>\n",
       "      <th></th>\n",
       "      <th></th>\n",
       "      <th></th>\n",
       "    </tr>\n",
       "  </thead>\n",
       "  <tbody>\n",
       "    <tr>\n",
       "      <th>AveXis</th>\n",
       "      <td>22</td>\n",
       "      <td>22</td>\n",
       "      <td>0</td>\n",
       "      <td>0</td>\n",
       "    </tr>\n",
       "    <tr>\n",
       "      <th>Janssen</th>\n",
       "      <td>7</td>\n",
       "      <td>7</td>\n",
       "      <td>0</td>\n",
       "      <td>0</td>\n",
       "    </tr>\n",
       "    <tr>\n",
       "      <th>Teva Pharmaceuticals USA</th>\n",
       "      <td>6</td>\n",
       "      <td>0</td>\n",
       "      <td>29</td>\n",
       "      <td>0</td>\n",
       "    </tr>\n",
       "    <tr>\n",
       "      <th>Karyopharm Therapeutics Inc.</th>\n",
       "      <td>4</td>\n",
       "      <td>0</td>\n",
       "      <td>4</td>\n",
       "      <td>0</td>\n",
       "    </tr>\n",
       "    <tr>\n",
       "      <th>Paratek Pharmaceuticals, Inc.</th>\n",
       "      <td>4</td>\n",
       "      <td>0</td>\n",
       "      <td>4</td>\n",
       "      <td>0</td>\n",
       "    </tr>\n",
       "  </tbody>\n",
       "</table>\n",
       "</div>"
      ],
      "text/plain": [
       "                               Priority  Breakthrough  Marketing  Acquisition\n",
       "Manufacturer Name                                                            \n",
       "AveXis                               22            22          0            0\n",
       "Janssen                               7             7          0            0\n",
       "Teva Pharmaceuticals USA              6             0         29            0\n",
       "Karyopharm Therapeutics Inc.          4             0          4            0\n",
       "Paratek Pharmaceuticals, Inc.         4             0          4            0"
      ]
     },
     "execution_count": 70,
     "metadata": {},
     "output_type": "execute_result"
    }
   ],
   "source": [
    "indicators.columns=[ 'Priority', 'Breakthrough', 'Marketing', 'Acquisition']\n",
    "ind_total = indicators.sort_values(by=['Priority'], ascending=False)\n",
    "ind_total.head(5)"
   ]
  },
  {
   "cell_type": "markdown",
   "metadata": {},
   "source": [
    "- Here we have updated the column labels and used the `sort_values()` method to improve readability"
   ]
  },
  {
   "cell_type": "markdown",
   "metadata": {
    "slideshow": {
     "slide_type": "slide"
    }
   },
   "source": [
    "#### Using the pandas `.agg()` method"
   ]
  },
  {
   "cell_type": "code",
   "execution_count": 71,
   "metadata": {
    "slideshow": {
     "slide_type": "-"
    }
   },
   "outputs": [
    {
     "data": {
      "text/html": [
       "<div>\n",
       "<style scoped>\n",
       "    .dataframe tbody tr th:only-of-type {\n",
       "        vertical-align: middle;\n",
       "    }\n",
       "\n",
       "    .dataframe tbody tr th {\n",
       "        vertical-align: top;\n",
       "    }\n",
       "\n",
       "    .dataframe thead th {\n",
       "        text-align: right;\n",
       "    }\n",
       "</style>\n",
       "<table border=\"1\" class=\"dataframe\">\n",
       "  <thead>\n",
       "    <tr style=\"text-align: right;\">\n",
       "      <th></th>\n",
       "      <th>Priority</th>\n",
       "      <th>Breakthrough</th>\n",
       "      <th>Marketing</th>\n",
       "      <th>Acquisition</th>\n",
       "    </tr>\n",
       "  </thead>\n",
       "  <tbody>\n",
       "    <tr>\n",
       "      <th>sum</th>\n",
       "      <td>64.000000</td>\n",
       "      <td>42.000000</td>\n",
       "      <td>132.000000</td>\n",
       "      <td>9.000000</td>\n",
       "    </tr>\n",
       "    <tr>\n",
       "      <th>mean</th>\n",
       "      <td>1.391304</td>\n",
       "      <td>0.913043</td>\n",
       "      <td>2.869565</td>\n",
       "      <td>0.195652</td>\n",
       "    </tr>\n",
       "  </tbody>\n",
       "</table>\n",
       "</div>"
      ],
      "text/plain": [
       "       Priority  Breakthrough   Marketing  Acquisition\n",
       "sum   64.000000     42.000000  132.000000     9.000000\n",
       "mean   1.391304      0.913043    2.869565     0.195652"
      ]
     },
     "execution_count": 71,
     "metadata": {},
     "output_type": "execute_result"
    }
   ],
   "source": [
    "ind_total.agg(['sum', 'mean'])"
   ]
  },
  {
   "cell_type": "markdown",
   "metadata": {},
   "source": [
    "- Using `.agg()` on a DataFrame applies the **functions** in the **[list]** on every **column** (the `axis` parameter has a default value of `0`)"
   ]
  },
  {
   "cell_type": "code",
   "execution_count": 72,
   "metadata": {
    "slideshow": {
     "slide_type": "slide"
    }
   },
   "outputs": [
    {
     "data": {
      "text/html": [
       "<div>\n",
       "<style scoped>\n",
       "    .dataframe tbody tr th:only-of-type {\n",
       "        vertical-align: middle;\n",
       "    }\n",
       "\n",
       "    .dataframe tbody tr th {\n",
       "        vertical-align: top;\n",
       "    }\n",
       "\n",
       "    .dataframe thead th {\n",
       "        text-align: right;\n",
       "    }\n",
       "</style>\n",
       "<table border=\"1\" class=\"dataframe\">\n",
       "  <thead>\n",
       "    <tr style=\"text-align: right;\">\n",
       "      <th></th>\n",
       "      <th>Total Indicators</th>\n",
       "    </tr>\n",
       "  </thead>\n",
       "  <tbody>\n",
       "    <tr>\n",
       "      <th>AveXis</th>\n",
       "      <td>44</td>\n",
       "    </tr>\n",
       "    <tr>\n",
       "      <th>Teva Pharmaceuticals USA</th>\n",
       "      <td>35</td>\n",
       "    </tr>\n",
       "    <tr>\n",
       "      <th>Par Pharmaceutical</th>\n",
       "      <td>15</td>\n",
       "    </tr>\n",
       "  </tbody>\n",
       "</table>\n",
       "</div>"
      ],
      "text/plain": [
       "                          Total Indicators\n",
       "AveXis                                  44\n",
       "Teva Pharmaceuticals USA                35\n",
       "Par Pharmaceutical                      15"
      ]
     },
     "execution_count": 72,
     "metadata": {},
     "output_type": "execute_result"
    }
   ],
   "source": [
    "ind_total.agg(['sum'], axis=1).sort_values(by='sum', ascending=False)\\\n",
    "         .rename(columns={'sum':'Total Indicators'}).head(3)"
   ]
  },
  {
   "cell_type": "markdown",
   "metadata": {},
   "source": [
    "- `axis=1` applies the function(s) to each row\n",
    "- The **function name** is used for the resulting **column label** by default; here we used the `.rename()` method to update it"
   ]
  },
  {
   "cell_type": "markdown",
   "metadata": {
    "slideshow": {
     "slide_type": "slide"
    }
   },
   "source": [
    "#### Combining `.groupby()` with `.agg()`"
   ]
  },
  {
   "cell_type": "code",
   "execution_count": 73,
   "metadata": {
    "slideshow": {
     "slide_type": "-"
    }
   },
   "outputs": [
    {
     "data": {
      "text/html": [
       "<div>\n",
       "<style scoped>\n",
       "    .dataframe tbody tr th:only-of-type {\n",
       "        vertical-align: middle;\n",
       "    }\n",
       "\n",
       "    .dataframe tbody tr th {\n",
       "        vertical-align: top;\n",
       "    }\n",
       "\n",
       "    .dataframe thead th {\n",
       "        text-align: right;\n",
       "    }\n",
       "</style>\n",
       "<table border=\"1\" class=\"dataframe\">\n",
       "  <thead>\n",
       "    <tr style=\"text-align: right;\">\n",
       "      <th></th>\n",
       "      <th>entries</th>\n",
       "      <th>patient_estimates</th>\n",
       "      <th>missing_estimates</th>\n",
       "    </tr>\n",
       "    <tr>\n",
       "      <th>Manufacturer Name</th>\n",
       "      <th></th>\n",
       "      <th></th>\n",
       "      <th></th>\n",
       "    </tr>\n",
       "  </thead>\n",
       "  <tbody>\n",
       "    <tr>\n",
       "      <th>SUN PHARMACEUTICALS</th>\n",
       "      <td>10</td>\n",
       "      <td>0</td>\n",
       "      <td>10</td>\n",
       "    </tr>\n",
       "    <tr>\n",
       "      <th>Zydus Pharmaceuticals (USA) Inc.</th>\n",
       "      <td>8</td>\n",
       "      <td>0</td>\n",
       "      <td>8</td>\n",
       "    </tr>\n",
       "    <tr>\n",
       "      <th>EMD Serono, Inc.</th>\n",
       "      <td>8</td>\n",
       "      <td>0</td>\n",
       "      <td>8</td>\n",
       "    </tr>\n",
       "  </tbody>\n",
       "</table>\n",
       "</div>"
      ],
      "text/plain": [
       "                                  entries  patient_estimates  \\\n",
       "Manufacturer Name                                              \n",
       "SUN PHARMACEUTICALS                    10                  0   \n",
       "Zydus Pharmaceuticals (USA) Inc.        8                  0   \n",
       "EMD Serono, Inc.                        8                  0   \n",
       "\n",
       "                                  missing_estimates  \n",
       "Manufacturer Name                                    \n",
       "SUN PHARMACEUTICALS                              10  \n",
       "Zydus Pharmaceuticals (USA) Inc.                  8  \n",
       "EMD Serono, Inc.                                  8  "
      ]
     },
     "execution_count": 73,
     "metadata": {},
     "output_type": "execute_result"
    }
   ],
   "source": [
    "manu_agg = df_clean.groupby('Manufacturer Name')\\\n",
    "                   .agg(entries=('Manufacturer Name', 'size'), \\\n",
    "                        patient_estimates=('Estimated Number of Patients', 'count'))\n",
    "\n",
    "manu_agg['missing_estimates'] = manu_agg['entries'] - manu_agg['patient_estimates']\n",
    "\n",
    "manu_agg.sort_values(by='missing_estimates', ascending=False).head(3)"
   ]
  },
  {
   "cell_type": "markdown",
   "metadata": {
    "slideshow": {
     "slide_type": "slide"
    }
   },
   "source": [
    "- Here we have used `.agg()` to **apply multiple functions** to a `groupby()` object\n",
    "- Notice how each element in the tuple passed to `.agg()` is constructed as follows: \n",
    "```python\n",
    "    result_column_name=('source_column', 'function')\n",
    "```"
   ]
  },
  {
   "cell_type": "markdown",
   "metadata": {
    "slideshow": {
     "slide_type": "slide"
    }
   },
   "source": [
    "- `'size'` returns the **number of values** in the given column, **including `NaN` values** (as such, the choice of column on which to apply it is unimportant, since all columns in a given DataFrame will have the same number)\n",
    "- `'count'` **excludes `NaN` values**, so here the difference between the columns in `manu_agg` tells us how many entries do not have `patient_estimates` "
   ]
  },
  {
   "cell_type": "markdown",
   "metadata": {
    "slideshow": {
     "slide_type": "slide"
    }
   },
   "source": [
    "<img src=\"img/jupyter.png\" width=\"200\">\n",
    "\n",
    "Now open the following workbook: `processing-pandas-workbook.ipynb`"
   ]
  },
  {
   "cell_type": "markdown",
   "metadata": {
    "slideshow": {
     "slide_type": "slide"
    }
   },
   "source": [
    "#### Identifying and fixing unusual data issues\n",
    "\n",
    "At some point we may encounter **unexpected results** in the output of our code\n",
    "\n",
    "- in practice these **may only be identified after further work** with the dataset\n",
    "- we need to **identify** and **isolate** potential causes of the issue\n",
    "- we may need to do some **manual updating** to solve the problem\n",
    "- if the issue is likely to recur, consider discussing with the author of the data source\n"
   ]
  },
  {
   "cell_type": "markdown",
   "metadata": {
    "slideshow": {
     "slide_type": "slide"
    }
   },
   "source": [
    "#### Practical example\n",
    "\n",
    "When creating this notebook, at some point we noticed that some entries in `Short Description` had not been shortened as expected:"
   ]
  },
  {
   "cell_type": "code",
   "execution_count": 84,
   "metadata": {},
   "outputs": [
    {
     "data": {
      "text/html": [
       "<div>\n",
       "<style scoped>\n",
       "    .dataframe tbody tr th:only-of-type {\n",
       "        vertical-align: middle;\n",
       "    }\n",
       "\n",
       "    .dataframe tbody tr th {\n",
       "        vertical-align: top;\n",
       "    }\n",
       "\n",
       "    .dataframe thead th {\n",
       "        text-align: right;\n",
       "    }\n",
       "</style>\n",
       "<table border=\"1\" class=\"dataframe\">\n",
       "  <thead>\n",
       "    <tr style=\"text-align: right;\">\n",
       "      <th></th>\n",
       "      <th>Drug Product Description</th>\n",
       "      <th>Short Description</th>\n",
       "    </tr>\n",
       "    <tr>\n",
       "      <th>NDC Number</th>\n",
       "      <th></th>\n",
       "      <th></th>\n",
       "    </tr>\n",
       "  </thead>\n",
       "  <tbody>\n",
       "    <tr>\n",
       "      <th>47335037983</th>\n",
       "      <td>Cinacalcet HCL Oral Tablet 30MG</td>\n",
       "      <td>Cinacalcet</td>\n",
       "    </tr>\n",
       "    <tr>\n",
       "      <th>47335038083</th>\n",
       "      <td>Cinacalcet HCL Oral Tablet 60MG</td>\n",
       "      <td>Cinacalcet</td>\n",
       "    </tr>\n",
       "    <tr>\n",
       "      <th>47335060083</th>\n",
       "      <td>Cinacalcet HCL Oral Tablet 90MG</td>\n",
       "      <td>Cinacalcet</td>\n",
       "    </tr>\n",
       "    <tr>\n",
       "      <th>378619793</th>\n",
       "      <td>Cinacalcet Hydrochloride Tablets, 30mg, 30s</td>\n",
       "      <td>Cinacalcet</td>\n",
       "    </tr>\n",
       "    <tr>\n",
       "      <th>378619693</th>\n",
       "      <td>Cinacalcet Hydrochloride Tablets, 60mg, 30s</td>\n",
       "      <td>Cinacalcet</td>\n",
       "    </tr>\n",
       "    <tr>\n",
       "      <th>378619593</th>\n",
       "      <td>Cinacalcet Hydrochloride Tablets, 90mg, 30s</td>\n",
       "      <td>Cinacalcet</td>\n",
       "    </tr>\n",
       "    <tr>\n",
       "      <th>67877050330</th>\n",
       "      <td>Cinacalcet 30mg 30 Tabs</td>\n",
       "      <td>Cinacalcet 30mg 30 Tabs</td>\n",
       "    </tr>\n",
       "    <tr>\n",
       "      <th>67877050430</th>\n",
       "      <td>Cinacalcet 60mg 30 Tabs</td>\n",
       "      <td>Cinacalcet 60mg 30 Tabs</td>\n",
       "    </tr>\n",
       "    <tr>\n",
       "      <th>67877050530</th>\n",
       "      <td>Cinacalcet 90mg 30 Tabs</td>\n",
       "      <td>Cinacalcet 90mg 30 Tabs</td>\n",
       "    </tr>\n",
       "  </tbody>\n",
       "</table>\n",
       "</div>"
      ],
      "text/plain": [
       "                                Drug Product Description  \\\n",
       "NDC Number                                                 \n",
       "47335037983              Cinacalcet HCL Oral Tablet 30MG   \n",
       "47335038083              Cinacalcet HCL Oral Tablet 60MG   \n",
       "47335060083              Cinacalcet HCL Oral Tablet 90MG   \n",
       "378619793    Cinacalcet Hydrochloride Tablets, 30mg, 30s   \n",
       "378619693    Cinacalcet Hydrochloride Tablets, 60mg, 30s   \n",
       "378619593    Cinacalcet Hydrochloride Tablets, 90mg, 30s   \n",
       "67877050330                      Cinacalcet 30mg 30 Tabs   \n",
       "67877050430                      Cinacalcet 60mg 30 Tabs   \n",
       "67877050530                      Cinacalcet 90mg 30 Tabs   \n",
       "\n",
       "                   Short Description  \n",
       "NDC Number                            \n",
       "47335037983               Cinacalcet  \n",
       "47335038083               Cinacalcet  \n",
       "47335060083               Cinacalcet  \n",
       "378619793                 Cinacalcet  \n",
       "378619693                 Cinacalcet  \n",
       "378619593                 Cinacalcet  \n",
       "67877050330  Cinacalcet 30mg 30 Tabs  \n",
       "67877050430  Cinacalcet 60mg 30 Tabs  \n",
       "67877050530  Cinacalcet 90mg 30 Tabs  "
      ]
     },
     "execution_count": 84,
     "metadata": {},
     "output_type": "execute_result"
    }
   ],
   "source": [
    "df_clean[df_clean['Short Description'].str.contains('Cinacalcet')][\n",
    "                 ['Drug Product Description', 'Short Description']]"
   ]
  },
  {
   "cell_type": "code",
   "execution_count": 85,
   "metadata": {
    "slideshow": {
     "slide_type": "slide"
    }
   },
   "outputs": [
    {
     "data": {
      "text/plain": [
       "'Cinacalcet\\xa090mg\\xa030\\xa0Tabs'"
      ]
     },
     "execution_count": 85,
     "metadata": {},
     "output_type": "execute_result"
    }
   ],
   "source": [
    "df_clean.loc[67877050530, 'Drug Product Description']"
   ]
  },
  {
   "cell_type": "markdown",
   "metadata": {},
   "source": [
    "- Having checked our code for the `first_word()` function we used earlier looks ok, we used `.loc()` to look at an example of a specific value which was not being processed as expected\n",
    "\n",
    "- We can see that, in place of spaces, we see instances of `\\xa0`, which are not visible when the DataFrame is displayed"
   ]
  },
  {
   "cell_type": "markdown",
   "metadata": {
    "slideshow": {
     "slide_type": "slide"
    }
   },
   "source": [
    "**Finding help with unusual issues**\n",
    "\n",
    "Turning to a [Google search](https://www.google.com/search?q=%5Cxa0) for help, we can find more information:\n",
    "\n",
    "- A very helpful [Stack Overflow](https://stackoverflow.com/questions/10993612/python-removing-xa0-from-string) page with some possible solutions\n",
    "- Some understanding of what kinds of [characters](https://terpconnect.umd.edu/~zben/Web/CharSet/htmlchars.html) may cause such problems"
   ]
  },
  {
   "cell_type": "markdown",
   "metadata": {
    "slideshow": {
     "slide_type": "slide"
    }
   },
   "source": [
    "The top answer on the **Stack Overflow** page is in fact all we need:\n",
    "\n",
    "```\n",
    "string = string.replace(u'\\xa0', u' ')\n",
    "```"
   ]
  },
  {
   "cell_type": "code",
   "execution_count": 86,
   "metadata": {
    "slideshow": {
     "slide_type": "-"
    }
   },
   "outputs": [
    {
     "data": {
      "text/plain": [
       "'Cinacalcet'"
      ]
     },
     "execution_count": 86,
     "metadata": {},
     "output_type": "execute_result"
    }
   ],
   "source": [
    "df_clean['Drug Product Description'] = df_clean['Drug Product Description'].str.replace(u'\\xa0', u' ')\n",
    "df_clean['Short Description'] = df_clean['Drug Product Description'].apply(first_word)\n",
    "df_clean.loc[67877050530, 'Short Description']"
   ]
  },
  {
   "cell_type": "markdown",
   "metadata": {
    "slideshow": {
     "slide_type": "slide"
    }
   },
   "source": [
    "We have fixed our problem by:\n",
    "\n",
    "- **Checking** our code first\n",
    "- **Searching** for help online\n",
    "- **Adapting** some code we found\n",
    "\n",
    "*We have learned that sometimes issues can occur due to the encoding of unusual characters; next time we will know that this can be an issue and how we might go about resolving it.*"
   ]
  },
  {
   "cell_type": "markdown",
   "metadata": {
    "slideshow": {
     "slide_type": "slide"
    }
   },
   "source": [
    "#### The importance of context and domain knowledge"
   ]
  },
  {
   "cell_type": "markdown",
   "metadata": {},
   "source": [
    "When using data from third parties, always keep in mind that the author may not have produced the dataset for the purposes you intend to use it for.\n",
    "\n",
    "- Before working with a dataset, do what you can to understand *why* it was created and *how* the data was collected\n",
    "- When working with a dataset, be alert for **unusual patterns**, **inconsistencies**, and **missing data**\n",
    "\n"
   ]
  },
  {
   "cell_type": "markdown",
   "metadata": {
    "slideshow": {
     "slide_type": "slide"
    }
   },
   "source": [
    "#### Practical example\n",
    "\n",
    "Consider the list of results and values for the entries with a `Short Description` of `Cinacalcet` (only the last 5 are shown below):"
   ]
  },
  {
   "cell_type": "code",
   "execution_count": 87,
   "metadata": {
    "slideshow": {
     "slide_type": "-"
    }
   },
   "outputs": [
    {
     "data": {
      "text/html": [
       "<div>\n",
       "<style scoped>\n",
       "    .dataframe tbody tr th:only-of-type {\n",
       "        vertical-align: middle;\n",
       "    }\n",
       "\n",
       "    .dataframe tbody tr th {\n",
       "        vertical-align: top;\n",
       "    }\n",
       "\n",
       "    .dataframe thead th {\n",
       "        text-align: right;\n",
       "    }\n",
       "</style>\n",
       "<table border=\"1\" class=\"dataframe\">\n",
       "  <thead>\n",
       "    <tr style=\"text-align: right;\">\n",
       "      <th></th>\n",
       "      <th>Short Description</th>\n",
       "      <th>Manufacturer Name</th>\n",
       "      <th>Drug Product Description</th>\n",
       "      <th>WAC at Introduction</th>\n",
       "      <th>Estimated Number of Patients</th>\n",
       "    </tr>\n",
       "    <tr>\n",
       "      <th>NDC Number</th>\n",
       "      <th></th>\n",
       "      <th></th>\n",
       "      <th></th>\n",
       "      <th></th>\n",
       "      <th></th>\n",
       "    </tr>\n",
       "  </thead>\n",
       "  <tbody>\n",
       "    <tr>\n",
       "      <th>378619693</th>\n",
       "      <td>Cinacalcet</td>\n",
       "      <td>Mylan Pharmaceuticals Inc</td>\n",
       "      <td>Cinacalcet Hydrochloride Tablets, 60mg, 30s</td>\n",
       "      <td>1371.39</td>\n",
       "      <td>NaN</td>\n",
       "    </tr>\n",
       "    <tr>\n",
       "      <th>378619593</th>\n",
       "      <td>Cinacalcet</td>\n",
       "      <td>Mylan Pharmaceuticals Inc</td>\n",
       "      <td>Cinacalcet Hydrochloride Tablets, 90mg, 30s</td>\n",
       "      <td>2057.09</td>\n",
       "      <td>NaN</td>\n",
       "    </tr>\n",
       "    <tr>\n",
       "      <th>67877050330</th>\n",
       "      <td>Cinacalcet</td>\n",
       "      <td>Ascend Laboratories, LLC</td>\n",
       "      <td>Cinacalcet 30mg 30 Tabs</td>\n",
       "      <td>685.50</td>\n",
       "      <td>468000.0</td>\n",
       "    </tr>\n",
       "    <tr>\n",
       "      <th>67877050430</th>\n",
       "      <td>Cinacalcet</td>\n",
       "      <td>Ascend Laboratories, LLC</td>\n",
       "      <td>Cinacalcet 60mg 30 Tabs</td>\n",
       "      <td>1371.25</td>\n",
       "      <td>468000.0</td>\n",
       "    </tr>\n",
       "    <tr>\n",
       "      <th>67877050530</th>\n",
       "      <td>Cinacalcet</td>\n",
       "      <td>Ascend Laboratories, LLC</td>\n",
       "      <td>Cinacalcet 90mg 30 Tabs</td>\n",
       "      <td>2057.00</td>\n",
       "      <td>468000.0</td>\n",
       "    </tr>\n",
       "  </tbody>\n",
       "</table>\n",
       "</div>"
      ],
      "text/plain": [
       "            Short Description          Manufacturer Name  \\\n",
       "NDC Number                                                 \n",
       "378619693          Cinacalcet  Mylan Pharmaceuticals Inc   \n",
       "378619593          Cinacalcet  Mylan Pharmaceuticals Inc   \n",
       "67877050330        Cinacalcet   Ascend Laboratories, LLC   \n",
       "67877050430        Cinacalcet   Ascend Laboratories, LLC   \n",
       "67877050530        Cinacalcet   Ascend Laboratories, LLC   \n",
       "\n",
       "                                Drug Product Description  WAC at Introduction  \\\n",
       "NDC Number                                                                      \n",
       "378619693    Cinacalcet Hydrochloride Tablets, 60mg, 30s              1371.39   \n",
       "378619593    Cinacalcet Hydrochloride Tablets, 90mg, 30s              2057.09   \n",
       "67877050330                      Cinacalcet 30mg 30 Tabs               685.50   \n",
       "67877050430                      Cinacalcet 60mg 30 Tabs              1371.25   \n",
       "67877050530                      Cinacalcet 90mg 30 Tabs              2057.00   \n",
       "\n",
       "             Estimated Number of Patients  \n",
       "NDC Number                                 \n",
       "378619693                             NaN  \n",
       "378619593                             NaN  \n",
       "67877050330                      468000.0  \n",
       "67877050430                      468000.0  \n",
       "67877050530                      468000.0  "
      ]
     },
     "execution_count": 87,
     "metadata": {},
     "output_type": "execute_result"
    }
   ],
   "source": [
    "df_clean[df_clean['Short Description'] == 'Cinacalcet'].tail()\\\n",
    "        [['Short Description', 'Manufacturer Name', 'Drug Product Description', \\\n",
    "          'WAC at Introduction', 'Estimated Number of Patients']]"
   ]
  },
  {
   "cell_type": "markdown",
   "metadata": {
    "slideshow": {
     "slide_type": "slide"
    }
   },
   "source": [
    "Notice that we have entries with:\n",
    "- A different `Manufacturer Name` and a similar `Drug Product Description`  \n",
    "... *Can they be treated as the same drug?* \n",
    "    \n",
    "- Similar but not identical values for `WAC at Introduction`  \n",
    "... *Should these be considered to be equal?*  \n",
    "    \n",
    "- Matching values for `Estimated Number of Patients` for the same drug at different doses  \n",
    "... *Is the total the sum of the values or just one of them?*      \n",
    "\n",
    "We need to understand the **underlying data**, and the **context** in which it has been collected."
   ]
  }
 ],
 "metadata": {
  "celltoolbar": "None",
  "kernelspec": {
   "display_name": "Python 3",
   "language": "python",
   "name": "python3"
  },
  "language_info": {
   "codemirror_mode": {
    "name": "ipython",
    "version": 3
   },
   "file_extension": ".py",
   "mimetype": "text/x-python",
   "name": "python",
   "nbconvert_exporter": "python",
   "pygments_lexer": "ipython3",
   "version": "3.8.2"
  },
  "rise": {
   "overlay": "<div class='cs-logo'><img src='img/cspark-logo.png'></div>",
   "scroll": true,
   "theme": "white"
  }
 },
 "nbformat": 4,
 "nbformat_minor": 2
}
