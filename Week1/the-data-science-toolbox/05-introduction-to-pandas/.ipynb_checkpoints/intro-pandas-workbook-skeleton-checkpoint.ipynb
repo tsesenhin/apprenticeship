{
 "cells": [
  {
   "cell_type": "markdown",
   "metadata": {},
   "source": [
    "## Part 1: Importing, examining, and updating values in a dataset"
   ]
  },
  {
   "cell_type": "code",
   "execution_count": 1,
   "metadata": {},
   "outputs": [],
   "source": [
    "import pandas as pd"
   ]
  },
  {
   "cell_type": "markdown",
   "metadata": {},
   "source": [
    "**Use the `.read_csv()` method to import the file `libraries.csv` from the `data` folder, assigning the result to `df`:**"
   ]
  },
  {
   "cell_type": "code",
   "execution_count": 24,
   "metadata": {},
   "outputs": [
    {
     "name": "stdout",
     "output_type": "stream",
     "text": [
      "/Users/senhintse/Desktop/Apprenticeship/Week1/the-data-science-toolbox/05-introduction-to-pandas/data\n"
     ]
    }
   ],
   "source": [
    "cd /Users/senhintse/Desktop/Apprenticeship/Week1/the-data-science-toolbox/05-introduction-to-pandas/data/"
   ]
  },
  {
   "cell_type": "code",
   "execution_count": 29,
   "metadata": {},
   "outputs": [
    {
     "ename": "NameError",
     "evalue": "name 'git' is not defined",
     "output_type": "error",
     "traceback": [
      "\u001b[0;31m---------------------------------------------------------------------------\u001b[0m",
      "\u001b[0;31mNameError\u001b[0m                                 Traceback (most recent call last)",
      "\u001b[0;32m<ipython-input-29-53521c95e475>\u001b[0m in \u001b[0;36m<module>\u001b[0;34m\u001b[0m\n\u001b[0;32m----> 1\u001b[0;31m \u001b[0mgit\u001b[0m\u001b[0;34m\u001b[0m\u001b[0;34m\u001b[0m\u001b[0m\n\u001b[0m\u001b[1;32m      2\u001b[0m \u001b[0;34m\u001b[0m\u001b[0m\n",
      "\u001b[0;31mNameError\u001b[0m: name 'git' is not defined"
     ]
    }
   ],
   "source": [
    "git\n",
    "\n"
   ]
  },
  {
   "cell_type": "code",
   "execution_count": 27,
   "metadata": {},
   "outputs": [
    {
     "data": {
      "text/html": [
       "<div>\n",
       "<style scoped>\n",
       "    .dataframe tbody tr th:only-of-type {\n",
       "        vertical-align: middle;\n",
       "    }\n",
       "\n",
       "    .dataframe tbody tr th {\n",
       "        vertical-align: top;\n",
       "    }\n",
       "\n",
       "    .dataframe thead th {\n",
       "        text-align: right;\n",
       "    }\n",
       "</style>\n",
       "<table border=\"1\" class=\"dataframe\">\n",
       "  <thead>\n",
       "    <tr style=\"text-align: right;\">\n",
       "      <th></th>\n",
       "      <th>Library service</th>\n",
       "      <th>Library name</th>\n",
       "      <th>In use 2010</th>\n",
       "      <th>In use 2016</th>\n",
       "      <th>Type of library</th>\n",
       "      <th>Type of closed library</th>\n",
       "      <th>Closed</th>\n",
       "      <th>New building</th>\n",
       "      <th>Replace existing</th>\n",
       "      <th>Notes</th>\n",
       "      <th>Weekly hours open</th>\n",
       "      <th>Weekly hours staffed</th>\n",
       "    </tr>\n",
       "  </thead>\n",
       "  <tbody>\n",
       "    <tr>\n",
       "      <th>0</th>\n",
       "      <td>Barking and Dagenham</td>\n",
       "      <td>Barking</td>\n",
       "      <td>Yes</td>\n",
       "      <td>Yes</td>\n",
       "      <td>LAL</td>\n",
       "      <td>NaN</td>\n",
       "      <td>NaN</td>\n",
       "      <td>NaN</td>\n",
       "      <td>NaN</td>\n",
       "      <td>NaN</td>\n",
       "      <td>72.0</td>\n",
       "      <td>72.0</td>\n",
       "    </tr>\n",
       "    <tr>\n",
       "      <th>1</th>\n",
       "      <td>Barking and Dagenham</td>\n",
       "      <td>Castle Green</td>\n",
       "      <td>Yes</td>\n",
       "      <td>No</td>\n",
       "      <td>NaN</td>\n",
       "      <td>XL</td>\n",
       "      <td>Mar-13</td>\n",
       "      <td>NaN</td>\n",
       "      <td>NaN</td>\n",
       "      <td>Closed as a public library 31.3.2013. Secondar...</td>\n",
       "      <td>NaN</td>\n",
       "      <td>NaN</td>\n",
       "    </tr>\n",
       "    <tr>\n",
       "      <th>2</th>\n",
       "      <td>Barking and Dagenham</td>\n",
       "      <td>Dagenham</td>\n",
       "      <td>No</td>\n",
       "      <td>Yes</td>\n",
       "      <td>LAL</td>\n",
       "      <td>NaN</td>\n",
       "      <td>NaN</td>\n",
       "      <td>Oct-10</td>\n",
       "      <td>Yes</td>\n",
       "      <td>Replaced Fanshawe and Rectory libraries</td>\n",
       "      <td>56.0</td>\n",
       "      <td>56.0</td>\n",
       "    </tr>\n",
       "    <tr>\n",
       "      <th>3</th>\n",
       "      <td>Barking and Dagenham</td>\n",
       "      <td>Fanshawe</td>\n",
       "      <td>Yes</td>\n",
       "      <td>No</td>\n",
       "      <td>NaN</td>\n",
       "      <td>XLR</td>\n",
       "      <td>Sep-10</td>\n",
       "      <td>NaN</td>\n",
       "      <td>NaN</td>\n",
       "      <td>Closed September 2010 replaced by Dagenham Lib...</td>\n",
       "      <td>NaN</td>\n",
       "      <td>NaN</td>\n",
       "    </tr>\n",
       "    <tr>\n",
       "      <th>4</th>\n",
       "      <td>Barking and Dagenham</td>\n",
       "      <td>Marks Gate</td>\n",
       "      <td>Yes</td>\n",
       "      <td>Yes</td>\n",
       "      <td>CRL</td>\n",
       "      <td>NaN</td>\n",
       "      <td>NaN</td>\n",
       "      <td>NaN</td>\n",
       "      <td>NaN</td>\n",
       "      <td>Volunteer led with local authority staff suppo...</td>\n",
       "      <td>9.0</td>\n",
       "      <td>9.0</td>\n",
       "    </tr>\n",
       "    <tr>\n",
       "      <th>...</th>\n",
       "      <td>...</td>\n",
       "      <td>...</td>\n",
       "      <td>...</td>\n",
       "      <td>...</td>\n",
       "      <td>...</td>\n",
       "      <td>...</td>\n",
       "      <td>...</td>\n",
       "      <td>...</td>\n",
       "      <td>...</td>\n",
       "      <td>...</td>\n",
       "      <td>...</td>\n",
       "      <td>...</td>\n",
       "    </tr>\n",
       "    <tr>\n",
       "      <th>3272</th>\n",
       "      <td>York</td>\n",
       "      <td>Rowntree Park reading cafe</td>\n",
       "      <td>No</td>\n",
       "      <td>Yes</td>\n",
       "      <td>CL</td>\n",
       "      <td>NaN</td>\n",
       "      <td>NaN</td>\n",
       "      <td>2013</td>\n",
       "      <td>No</td>\n",
       "      <td>NaN</td>\n",
       "      <td>45.5</td>\n",
       "      <td>45.5</td>\n",
       "    </tr>\n",
       "    <tr>\n",
       "      <th>3273</th>\n",
       "      <td>York</td>\n",
       "      <td>Strensall</td>\n",
       "      <td>yes</td>\n",
       "      <td>yes</td>\n",
       "      <td>CL</td>\n",
       "      <td>NaN</td>\n",
       "      <td>NaN</td>\n",
       "      <td>NaN</td>\n",
       "      <td>NaN</td>\n",
       "      <td>NaN</td>\n",
       "      <td>19.0</td>\n",
       "      <td>19.0</td>\n",
       "    </tr>\n",
       "    <tr>\n",
       "      <th>3274</th>\n",
       "      <td>York</td>\n",
       "      <td>Sycamore House reading cafe</td>\n",
       "      <td>no</td>\n",
       "      <td>yes</td>\n",
       "      <td>CL</td>\n",
       "      <td>NaN</td>\n",
       "      <td>NaN</td>\n",
       "      <td>NaN</td>\n",
       "      <td>NaN</td>\n",
       "      <td>NaN</td>\n",
       "      <td>NaN</td>\n",
       "      <td>NaN</td>\n",
       "    </tr>\n",
       "    <tr>\n",
       "      <th>3275</th>\n",
       "      <td>York</td>\n",
       "      <td>Tang Hall</td>\n",
       "      <td>yes</td>\n",
       "      <td>yes</td>\n",
       "      <td>CL</td>\n",
       "      <td>NaN</td>\n",
       "      <td>NaN</td>\n",
       "      <td>NaN</td>\n",
       "      <td>NaN</td>\n",
       "      <td>NaN</td>\n",
       "      <td>41.0</td>\n",
       "      <td>41.0</td>\n",
       "    </tr>\n",
       "    <tr>\n",
       "      <th>3276</th>\n",
       "      <td>York</td>\n",
       "      <td>York</td>\n",
       "      <td>yes</td>\n",
       "      <td>yes</td>\n",
       "      <td>CL</td>\n",
       "      <td>NaN</td>\n",
       "      <td>NaN</td>\n",
       "      <td>NaN</td>\n",
       "      <td>NaN</td>\n",
       "      <td>Closed for refurb June 2014 to January 2015 fo...</td>\n",
       "      <td>65.0</td>\n",
       "      <td>65.0</td>\n",
       "    </tr>\n",
       "  </tbody>\n",
       "</table>\n",
       "<p>3277 rows × 12 columns</p>\n",
       "</div>"
      ],
      "text/plain": [
       "           Library service                 Library name In use 2010  \\\n",
       "0     Barking and Dagenham                      Barking         Yes   \n",
       "1     Barking and Dagenham                 Castle Green         Yes   \n",
       "2     Barking and Dagenham                     Dagenham          No   \n",
       "3     Barking and Dagenham                     Fanshawe         Yes   \n",
       "4     Barking and Dagenham                   Marks Gate         Yes   \n",
       "...                    ...                          ...         ...   \n",
       "3272                  York   Rowntree Park reading cafe          No   \n",
       "3273                  York                    Strensall         yes   \n",
       "3274                  York  Sycamore House reading cafe          no   \n",
       "3275                  York                    Tang Hall         yes   \n",
       "3276                  York                         York         yes   \n",
       "\n",
       "     In use 2016 Type of library Type of closed library  Closed New building  \\\n",
       "0            Yes             LAL                    NaN     NaN          NaN   \n",
       "1             No             NaN                     XL  Mar-13          NaN   \n",
       "2            Yes             LAL                    NaN     NaN       Oct-10   \n",
       "3             No             NaN                    XLR  Sep-10          NaN   \n",
       "4            Yes             CRL                    NaN     NaN          NaN   \n",
       "...          ...             ...                    ...     ...          ...   \n",
       "3272         Yes              CL                    NaN     NaN         2013   \n",
       "3273         yes              CL                    NaN     NaN          NaN   \n",
       "3274         yes              CL                    NaN     NaN          NaN   \n",
       "3275         yes              CL                    NaN     NaN          NaN   \n",
       "3276         yes              CL                    NaN     NaN          NaN   \n",
       "\n",
       "     Replace existing                                              Notes  \\\n",
       "0                 NaN                                                NaN   \n",
       "1                 NaN  Closed as a public library 31.3.2013. Secondar...   \n",
       "2                 Yes            Replaced Fanshawe and Rectory libraries   \n",
       "3                 NaN  Closed September 2010 replaced by Dagenham Lib...   \n",
       "4                 NaN  Volunteer led with local authority staff suppo...   \n",
       "...               ...                                                ...   \n",
       "3272               No                                                NaN   \n",
       "3273              NaN                                                NaN   \n",
       "3274              NaN                                                NaN   \n",
       "3275              NaN                                                NaN   \n",
       "3276              NaN  Closed for refurb June 2014 to January 2015 fo...   \n",
       "\n",
       "      Weekly hours open  Weekly hours staffed  \n",
       "0                  72.0                  72.0  \n",
       "1                   NaN                   NaN  \n",
       "2                  56.0                  56.0  \n",
       "3                   NaN                   NaN  \n",
       "4                   9.0                   9.0  \n",
       "...                 ...                   ...  \n",
       "3272               45.5                  45.5  \n",
       "3273               19.0                  19.0  \n",
       "3274                NaN                   NaN  \n",
       "3275               41.0                  41.0  \n",
       "3276               65.0                  65.0  \n",
       "\n",
       "[3277 rows x 12 columns]"
      ]
     },
     "execution_count": 27,
     "metadata": {},
     "output_type": "execute_result"
    }
   ],
   "source": [
    "df = pd.read_csv(\"libraries.csv\")\n",
    "df"
   ]
  },
  {
   "cell_type": "markdown",
   "metadata": {},
   "source": [
    "**Check that the file has been imported as expected using the `.head()` method to look at the first `3` rows of `df`:**"
   ]
  },
  {
   "cell_type": "code",
   "execution_count": null,
   "metadata": {},
   "outputs": [],
   "source": []
  },
  {
   "cell_type": "markdown",
   "metadata": {},
   "source": [
    "**Use the `.shape` attribute to find out the number of rows and columns in `df`, assigning the number of rows to `rows` and number of columns to `cols`:**"
   ]
  },
  {
   "cell_type": "code",
   "execution_count": null,
   "metadata": {},
   "outputs": [],
   "source": []
  },
  {
   "cell_type": "code",
   "execution_count": null,
   "metadata": {},
   "outputs": [],
   "source": [
    "print(rows)\n",
    "print(cols)"
   ]
  },
  {
   "cell_type": "markdown",
   "metadata": {},
   "source": [
    "**Use the `.describe()` method on `df` to look at some statistics for the numerical data columns:**"
   ]
  },
  {
   "cell_type": "code",
   "execution_count": null,
   "metadata": {},
   "outputs": [],
   "source": []
  },
  {
   "cell_type": "markdown",
   "metadata": {},
   "source": [
    "Notice that the value for `min` in both columns is negative, which suggests an error in the data.\n",
    "\n",
    "**You're told that there is an error in the row with index `2233`; use `.loc[]` to have a look at this row:**"
   ]
  },
  {
   "cell_type": "code",
   "execution_count": null,
   "metadata": {},
   "outputs": [],
   "source": []
  },
  {
   "cell_type": "markdown",
   "metadata": {},
   "source": [
    "**Using `.loc[]`, update the values for both `Weekly hours open` and `Weekly hours staffed` on this row to `57`:**"
   ]
  },
  {
   "cell_type": "code",
   "execution_count": null,
   "metadata": {},
   "outputs": [],
   "source": []
  },
  {
   "cell_type": "markdown",
   "metadata": {},
   "source": [
    "- Run your code again for the previous question to check that both values on the row at index `2233` have been updated.\n",
    "\n",
    "The `min` value for these columns (which can be seen again using the `.describe()` method on the DataFrame, or the `.min()` method on a given column), should now be `0`:"
   ]
  },
  {
   "cell_type": "code",
   "execution_count": null,
   "metadata": {},
   "outputs": [],
   "source": [
    "df.loc[:, ['Weekly hours open','Weekly hours staffed']].min()"
   ]
  },
  {
   "cell_type": "code",
   "execution_count": null,
   "metadata": {},
   "outputs": [],
   "source": [
    "df.loc[:, ['Weekly hours open','Weekly hours staffed']].describe()"
   ]
  },
  {
   "cell_type": "markdown",
   "metadata": {},
   "source": [
    "## Part 2: Filtering, sorting, and modifying DataFrames"
   ]
  },
  {
   "cell_type": "markdown",
   "metadata": {},
   "source": [
    "**Use the `.set_index()` method to use the values from the `Library name` column as the index of `df`, using the parameter `inplace=True`:**"
   ]
  },
  {
   "cell_type": "code",
   "execution_count": null,
   "metadata": {},
   "outputs": [],
   "source": []
  },
  {
   "cell_type": "markdown",
   "metadata": {},
   "source": [
    "**Use the `.drop()` method to remove the `Notes` column:**\n",
    "- remember to use `axis=1`\n",
    "- use `inplace=True`"
   ]
  },
  {
   "cell_type": "code",
   "execution_count": null,
   "metadata": {},
   "outputs": [],
   "source": []
  },
  {
   "cell_type": "markdown",
   "metadata": {},
   "source": [
    "**Create a function called `open_2016` which takes two parameters called `data` and `name`, where `data` is a DataFrame (such as `df`) and `name` is a string (such as the values in `Library name`, which we have set as the index), and returns the value in the `In use 2016` column for the row whose index is equal to `name`:**\n",
    "\n",
    "- use the `.loc[]` method"
   ]
  },
  {
   "cell_type": "code",
   "execution_count": null,
   "metadata": {},
   "outputs": [],
   "source": []
  },
  {
   "cell_type": "code",
   "execution_count": null,
   "metadata": {},
   "outputs": [],
   "source": [
    "open_2016(df, 'Barking')"
   ]
  },
  {
   "cell_type": "markdown",
   "metadata": {},
   "source": [
    "**Use the `.value_counts()` method on `df['In use 2010']` to see what different values there are in that column:**"
   ]
  },
  {
   "cell_type": "code",
   "execution_count": null,
   "metadata": {},
   "outputs": [],
   "source": [
    "df['In use 2010'].value_counts()"
   ]
  },
  {
   "cell_type": "markdown",
   "metadata": {},
   "source": [
    "**Create a function called `is_open()`, which take a single value and returns a boolean value as follows:**\n",
    "- `True` if the value equals `'yes'` or `'Yes'`\n",
    "- `False` for any other value"
   ]
  },
  {
   "cell_type": "code",
   "execution_count": null,
   "metadata": {},
   "outputs": [],
   "source": []
  },
  {
   "cell_type": "code",
   "execution_count": null,
   "metadata": {},
   "outputs": [],
   "source": [
    "is_open('No'), is_open('yes')"
   ]
  },
  {
   "cell_type": "markdown",
   "metadata": {},
   "source": [
    "**Use the `.apply()` method with your `is_open()` function and each of the columns `In use 2010` and `In use 2016`, to create new columns called `open_2010` and `open_2016` respectively, each containing Boolean values returned by the function:**"
   ]
  },
  {
   "cell_type": "code",
   "execution_count": null,
   "metadata": {},
   "outputs": [],
   "source": []
  },
  {
   "cell_type": "code",
   "execution_count": null,
   "metadata": {},
   "outputs": [],
   "source": [
    "df[['open_2010', 'open_2016']].dtypes"
   ]
  },
  {
   "cell_type": "code",
   "execution_count": null,
   "metadata": {
    "scrolled": true
   },
   "outputs": [],
   "source": [
    "df['open_2010'].value_counts(), df['open_2016'].value_counts()"
   ]
  },
  {
   "cell_type": "markdown",
   "metadata": {},
   "source": [
    "**Create a new column in `df` called `open_both`, which contains a Boolean `True` for entries where both `open_2010` and `open_2016` are `True`:**"
   ]
  },
  {
   "cell_type": "code",
   "execution_count": null,
   "metadata": {},
   "outputs": [],
   "source": []
  },
  {
   "cell_type": "code",
   "execution_count": null,
   "metadata": {},
   "outputs": [],
   "source": [
    "df['open_both'].value_counts()"
   ]
  },
  {
   "cell_type": "markdown",
   "metadata": {},
   "source": [
    "**Assign to `df_open` a DataFrame containing only entries where `open_both == True`:**\n",
    "- use the `.copy()` method so that `df_open` can be subsequently modified without affecting `df`"
   ]
  },
  {
   "cell_type": "code",
   "execution_count": null,
   "metadata": {},
   "outputs": [],
   "source": []
  },
  {
   "cell_type": "code",
   "execution_count": null,
   "metadata": {},
   "outputs": [],
   "source": [
    "len(df_open) == df['open_both'].value_counts()[True]"
   ]
  },
  {
   "cell_type": "markdown",
   "metadata": {},
   "source": [
    "**Calculate the `.mean()` of the values in the `Weekly hours open` column:**"
   ]
  },
  {
   "cell_type": "code",
   "execution_count": null,
   "metadata": {},
   "outputs": [],
   "source": []
  },
  {
   "cell_type": "markdown",
   "metadata": {},
   "source": [
    "**Calculate the percentage of entries in `df_open` where `['Weekly hours open'] == 0`:**"
   ]
  },
  {
   "cell_type": "code",
   "execution_count": null,
   "metadata": {},
   "outputs": [],
   "source": [
    "len(df_open[df_open['Weekly hours open'] == 0]) / len(df_open) * 100"
   ]
  },
  {
   "cell_type": "markdown",
   "metadata": {},
   "source": [
    "Converting the zero values to `NaN` values will result those values being excluded from subsequent calculations of, for example, `.mean()`.\n",
    "\n",
    "These `NaN` values ('Not a Number') represent 'missing data' (of all types, not just numeric) in pandas.\n",
    "\n",
    "However (like many component of the data structures used by pandas) they originate from the `numpy` package, and thus to create them we need to `import numpy`, by convention `as np`:"
   ]
  },
  {
   "cell_type": "code",
   "execution_count": null,
   "metadata": {},
   "outputs": [],
   "source": [
    "import numpy as np"
   ]
  },
  {
   "cell_type": "markdown",
   "metadata": {},
   "source": [
    "**`.apply()` a `lambda` function to modify `Weekly hours open` so that `if` the value `== 0` it is updated to `np.nan`, `else` it is unchanged:**"
   ]
  },
  {
   "cell_type": "code",
   "execution_count": null,
   "metadata": {},
   "outputs": [],
   "source": []
  },
  {
   "cell_type": "code",
   "execution_count": null,
   "metadata": {},
   "outputs": [],
   "source": [
    "df_open['Weekly hours open'].value_counts()"
   ]
  },
  {
   "cell_type": "markdown",
   "metadata": {},
   "source": [
    "Run your earlier code to calculate the `.mean()` of `Weekly hours open` to see if the value is now different."
   ]
  },
  {
   "cell_type": "code",
   "execution_count": null,
   "metadata": {},
   "outputs": [],
   "source": [
    "hours_in_week = 24 * 7"
   ]
  },
  {
   "cell_type": "markdown",
   "metadata": {},
   "source": [
    "**Assign to df_errors a DataFrame containing entries from `df_open` where the value for `Weekly hours open` exceeds `hours_in_week`:**\n",
    "- use the `.copy()` method when creating the new DataFrame"
   ]
  },
  {
   "cell_type": "code",
   "execution_count": null,
   "metadata": {},
   "outputs": [],
   "source": []
  },
  {
   "cell_type": "code",
   "execution_count": null,
   "metadata": {},
   "outputs": [],
   "source": [
    "df_errors"
   ]
  },
  {
   "cell_type": "markdown",
   "metadata": {},
   "source": [
    "**Use the `sort_values()` method on `df_errors` to look at the entries with the highest values for `Weekly hours open` at the top, i.e. in descending order:**"
   ]
  },
  {
   "cell_type": "code",
   "execution_count": null,
   "metadata": {},
   "outputs": [],
   "source": []
  },
  {
   "cell_type": "markdown",
   "metadata": {},
   "source": [
    "**Use the `.unique()` series method and the `.tolist()` method to create a list of the unique values for `Library service` in `df_errors`:**"
   ]
  },
  {
   "cell_type": "code",
   "execution_count": null,
   "metadata": {},
   "outputs": [],
   "source": []
  }
 ],
 "metadata": {
  "kernelspec": {
   "display_name": "Python 3",
   "language": "python",
   "name": "python3"
  },
  "language_info": {
   "codemirror_mode": {
    "name": "ipython",
    "version": 3
   },
   "file_extension": ".py",
   "mimetype": "text/x-python",
   "name": "python",
   "nbconvert_exporter": "python",
   "pygments_lexer": "ipython3",
   "version": "3.7.4"
  }
 },
 "nbformat": 4,
 "nbformat_minor": 4
}
